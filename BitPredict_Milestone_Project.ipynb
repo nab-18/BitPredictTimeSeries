{
  "nbformat": 4,
  "nbformat_minor": 0,
  "metadata": {
    "colab": {
      "provenance": [],
      "toc_visible": true,
      "authorship_tag": "ABX9TyOuZTREaf6PIKDqmLyZcXBH",
      "include_colab_link": true
    },
    "kernelspec": {
      "name": "python3",
      "display_name": "Python 3"
    },
    "language_info": {
      "name": "python"
    }
  },
  "cells": [
    {
      "cell_type": "markdown",
      "metadata": {
        "id": "view-in-github",
        "colab_type": "text"
      },
      "source": [
        "<a href=\"https://colab.research.google.com/github/nab-18/BitPredictTimeSeries/blob/main/BitPredict_Milestone_Project.ipynb\" target=\"_parent\"><img src=\"https://colab.research.google.com/assets/colab-badge.svg\" alt=\"Open In Colab\"/></a>"
      ]
    },
    {
      "cell_type": "code",
      "execution_count": null,
      "metadata": {
        "colab": {
          "base_uri": "https://localhost:8080/"
        },
        "id": "jmPXVPRWNBkm",
        "outputId": "8ff06e32-36ca-496d-a2e4-65f5971f18b8"
      },
      "outputs": [
        {
          "output_type": "stream",
          "name": "stdout",
          "text": [
            "--2024-07-31 08:05:23--  https://raw.githubusercontent.com/mrdbourke/tensorflow-deep-learning/main/extras/BTC_USD_2013-10-01_2021-05-18-CoinDesk.csv\n",
            "Resolving raw.githubusercontent.com (raw.githubusercontent.com)... 185.199.108.133, 185.199.109.133, 185.199.110.133, ...\n",
            "Connecting to raw.githubusercontent.com (raw.githubusercontent.com)|185.199.108.133|:443... connected.\n",
            "HTTP request sent, awaiting response... 200 OK\n",
            "Length: 178509 (174K) [text/plain]\n",
            "Saving to: ‘BTC_USD_2013-10-01_2021-05-18-CoinDesk.csv.1’\n",
            "\n",
            "BTC_USD_2013-10-01_ 100%[===================>] 174.33K  --.-KB/s    in 0.01s   \n",
            "\n",
            "2024-07-31 08:05:23 (17.7 MB/s) - ‘BTC_USD_2013-10-01_2021-05-18-CoinDesk.csv.1’ saved [178509/178509]\n",
            "\n"
          ]
        }
      ],
      "source": [
        "!wget https://raw.githubusercontent.com/mrdbourke/tensorflow-deep-learning/main/extras/BTC_USD_2013-10-01_2021-05-18-CoinDesk.csv"
      ]
    },
    {
      "cell_type": "code",
      "source": [
        "import pandas as pd\n",
        "import numpy as np\n",
        "\n",
        "import matplotlib.pyplot as plt\n",
        "\n",
        "from sklearn.model_selection import train_test_split\n",
        "from sklearn.metrics import mean_absolute_error, mean_absolute_percentage_error, mean_squared_error\n",
        "from sklearn.preprocessing import minmax_scale\n",
        "\n",
        "import tensorflow as tf\n",
        "from tensorflow.keras import layers"
      ],
      "metadata": {
        "id": "DZcwC66-TenS"
      },
      "execution_count": null,
      "outputs": []
    },
    {
      "cell_type": "markdown",
      "source": [
        "## Import data"
      ],
      "metadata": {
        "id": "G3dz-ifWWydE"
      }
    },
    {
      "cell_type": "code",
      "source": [
        "data = pd.read_csv(\"/content/BTC_USD_2013-10-01_2021-05-18-CoinDesk.csv\", parse_dates=['Date'],\n",
        "                   index_col=['Date'])"
      ],
      "metadata": {
        "id": "afm-nO-jTnlT"
      },
      "execution_count": null,
      "outputs": []
    },
    {
      "cell_type": "code",
      "source": [
        "data.head()"
      ],
      "metadata": {
        "colab": {
          "base_uri": "https://localhost:8080/",
          "height": 235
        },
        "id": "tkGw9L9xTt-X",
        "outputId": "557cae74-8cbf-4515-9c44-3771c8d2afb7"
      },
      "execution_count": null,
      "outputs": [
        {
          "output_type": "execute_result",
          "data": {
            "text/plain": [
              "           Currency  Closing Price (USD)  24h Open (USD)  24h High (USD)  \\\n",
              "Date                                                                       \n",
              "2013-10-01      BTC            123.65499       124.30466       124.75166   \n",
              "2013-10-02      BTC            125.45500       123.65499       125.75850   \n",
              "2013-10-03      BTC            108.58483       125.45500       125.66566   \n",
              "2013-10-04      BTC            118.67466       108.58483       118.67500   \n",
              "2013-10-05      BTC            121.33866       118.67466       121.93633   \n",
              "\n",
              "            24h Low (USD)  \n",
              "Date                       \n",
              "2013-10-01      122.56349  \n",
              "2013-10-02      123.63383  \n",
              "2013-10-03       83.32833  \n",
              "2013-10-04      107.05816  \n",
              "2013-10-05      118.00566  "
            ],
            "text/html": [
              "\n",
              "  <div id=\"df-bef891fd-7cdf-4014-a498-5dec6336b11a\" class=\"colab-df-container\">\n",
              "    <div>\n",
              "<style scoped>\n",
              "    .dataframe tbody tr th:only-of-type {\n",
              "        vertical-align: middle;\n",
              "    }\n",
              "\n",
              "    .dataframe tbody tr th {\n",
              "        vertical-align: top;\n",
              "    }\n",
              "\n",
              "    .dataframe thead th {\n",
              "        text-align: right;\n",
              "    }\n",
              "</style>\n",
              "<table border=\"1\" class=\"dataframe\">\n",
              "  <thead>\n",
              "    <tr style=\"text-align: right;\">\n",
              "      <th></th>\n",
              "      <th>Currency</th>\n",
              "      <th>Closing Price (USD)</th>\n",
              "      <th>24h Open (USD)</th>\n",
              "      <th>24h High (USD)</th>\n",
              "      <th>24h Low (USD)</th>\n",
              "    </tr>\n",
              "    <tr>\n",
              "      <th>Date</th>\n",
              "      <th></th>\n",
              "      <th></th>\n",
              "      <th></th>\n",
              "      <th></th>\n",
              "      <th></th>\n",
              "    </tr>\n",
              "  </thead>\n",
              "  <tbody>\n",
              "    <tr>\n",
              "      <th>2013-10-01</th>\n",
              "      <td>BTC</td>\n",
              "      <td>123.65499</td>\n",
              "      <td>124.30466</td>\n",
              "      <td>124.75166</td>\n",
              "      <td>122.56349</td>\n",
              "    </tr>\n",
              "    <tr>\n",
              "      <th>2013-10-02</th>\n",
              "      <td>BTC</td>\n",
              "      <td>125.45500</td>\n",
              "      <td>123.65499</td>\n",
              "      <td>125.75850</td>\n",
              "      <td>123.63383</td>\n",
              "    </tr>\n",
              "    <tr>\n",
              "      <th>2013-10-03</th>\n",
              "      <td>BTC</td>\n",
              "      <td>108.58483</td>\n",
              "      <td>125.45500</td>\n",
              "      <td>125.66566</td>\n",
              "      <td>83.32833</td>\n",
              "    </tr>\n",
              "    <tr>\n",
              "      <th>2013-10-04</th>\n",
              "      <td>BTC</td>\n",
              "      <td>118.67466</td>\n",
              "      <td>108.58483</td>\n",
              "      <td>118.67500</td>\n",
              "      <td>107.05816</td>\n",
              "    </tr>\n",
              "    <tr>\n",
              "      <th>2013-10-05</th>\n",
              "      <td>BTC</td>\n",
              "      <td>121.33866</td>\n",
              "      <td>118.67466</td>\n",
              "      <td>121.93633</td>\n",
              "      <td>118.00566</td>\n",
              "    </tr>\n",
              "  </tbody>\n",
              "</table>\n",
              "</div>\n",
              "    <div class=\"colab-df-buttons\">\n",
              "\n",
              "  <div class=\"colab-df-container\">\n",
              "    <button class=\"colab-df-convert\" onclick=\"convertToInteractive('df-bef891fd-7cdf-4014-a498-5dec6336b11a')\"\n",
              "            title=\"Convert this dataframe to an interactive table.\"\n",
              "            style=\"display:none;\">\n",
              "\n",
              "  <svg xmlns=\"http://www.w3.org/2000/svg\" height=\"24px\" viewBox=\"0 -960 960 960\">\n",
              "    <path d=\"M120-120v-720h720v720H120Zm60-500h600v-160H180v160Zm220 220h160v-160H400v160Zm0 220h160v-160H400v160ZM180-400h160v-160H180v160Zm440 0h160v-160H620v160ZM180-180h160v-160H180v160Zm440 0h160v-160H620v160Z\"/>\n",
              "  </svg>\n",
              "    </button>\n",
              "\n",
              "  <style>\n",
              "    .colab-df-container {\n",
              "      display:flex;\n",
              "      gap: 12px;\n",
              "    }\n",
              "\n",
              "    .colab-df-convert {\n",
              "      background-color: #E8F0FE;\n",
              "      border: none;\n",
              "      border-radius: 50%;\n",
              "      cursor: pointer;\n",
              "      display: none;\n",
              "      fill: #1967D2;\n",
              "      height: 32px;\n",
              "      padding: 0 0 0 0;\n",
              "      width: 32px;\n",
              "    }\n",
              "\n",
              "    .colab-df-convert:hover {\n",
              "      background-color: #E2EBFA;\n",
              "      box-shadow: 0px 1px 2px rgba(60, 64, 67, 0.3), 0px 1px 3px 1px rgba(60, 64, 67, 0.15);\n",
              "      fill: #174EA6;\n",
              "    }\n",
              "\n",
              "    .colab-df-buttons div {\n",
              "      margin-bottom: 4px;\n",
              "    }\n",
              "\n",
              "    [theme=dark] .colab-df-convert {\n",
              "      background-color: #3B4455;\n",
              "      fill: #D2E3FC;\n",
              "    }\n",
              "\n",
              "    [theme=dark] .colab-df-convert:hover {\n",
              "      background-color: #434B5C;\n",
              "      box-shadow: 0px 1px 3px 1px rgba(0, 0, 0, 0.15);\n",
              "      filter: drop-shadow(0px 1px 2px rgba(0, 0, 0, 0.3));\n",
              "      fill: #FFFFFF;\n",
              "    }\n",
              "  </style>\n",
              "\n",
              "    <script>\n",
              "      const buttonEl =\n",
              "        document.querySelector('#df-bef891fd-7cdf-4014-a498-5dec6336b11a button.colab-df-convert');\n",
              "      buttonEl.style.display =\n",
              "        google.colab.kernel.accessAllowed ? 'block' : 'none';\n",
              "\n",
              "      async function convertToInteractive(key) {\n",
              "        const element = document.querySelector('#df-bef891fd-7cdf-4014-a498-5dec6336b11a');\n",
              "        const dataTable =\n",
              "          await google.colab.kernel.invokeFunction('convertToInteractive',\n",
              "                                                    [key], {});\n",
              "        if (!dataTable) return;\n",
              "\n",
              "        const docLinkHtml = 'Like what you see? Visit the ' +\n",
              "          '<a target=\"_blank\" href=https://colab.research.google.com/notebooks/data_table.ipynb>data table notebook</a>'\n",
              "          + ' to learn more about interactive tables.';\n",
              "        element.innerHTML = '';\n",
              "        dataTable['output_type'] = 'display_data';\n",
              "        await google.colab.output.renderOutput(dataTable, element);\n",
              "        const docLink = document.createElement('div');\n",
              "        docLink.innerHTML = docLinkHtml;\n",
              "        element.appendChild(docLink);\n",
              "      }\n",
              "    </script>\n",
              "  </div>\n",
              "\n",
              "\n",
              "<div id=\"df-e5480936-af9a-4d5c-baa0-0ea6e7575ce4\">\n",
              "  <button class=\"colab-df-quickchart\" onclick=\"quickchart('df-e5480936-af9a-4d5c-baa0-0ea6e7575ce4')\"\n",
              "            title=\"Suggest charts\"\n",
              "            style=\"display:none;\">\n",
              "\n",
              "<svg xmlns=\"http://www.w3.org/2000/svg\" height=\"24px\"viewBox=\"0 0 24 24\"\n",
              "     width=\"24px\">\n",
              "    <g>\n",
              "        <path d=\"M19 3H5c-1.1 0-2 .9-2 2v14c0 1.1.9 2 2 2h14c1.1 0 2-.9 2-2V5c0-1.1-.9-2-2-2zM9 17H7v-7h2v7zm4 0h-2V7h2v10zm4 0h-2v-4h2v4z\"/>\n",
              "    </g>\n",
              "</svg>\n",
              "  </button>\n",
              "\n",
              "<style>\n",
              "  .colab-df-quickchart {\n",
              "      --bg-color: #E8F0FE;\n",
              "      --fill-color: #1967D2;\n",
              "      --hover-bg-color: #E2EBFA;\n",
              "      --hover-fill-color: #174EA6;\n",
              "      --disabled-fill-color: #AAA;\n",
              "      --disabled-bg-color: #DDD;\n",
              "  }\n",
              "\n",
              "  [theme=dark] .colab-df-quickchart {\n",
              "      --bg-color: #3B4455;\n",
              "      --fill-color: #D2E3FC;\n",
              "      --hover-bg-color: #434B5C;\n",
              "      --hover-fill-color: #FFFFFF;\n",
              "      --disabled-bg-color: #3B4455;\n",
              "      --disabled-fill-color: #666;\n",
              "  }\n",
              "\n",
              "  .colab-df-quickchart {\n",
              "    background-color: var(--bg-color);\n",
              "    border: none;\n",
              "    border-radius: 50%;\n",
              "    cursor: pointer;\n",
              "    display: none;\n",
              "    fill: var(--fill-color);\n",
              "    height: 32px;\n",
              "    padding: 0;\n",
              "    width: 32px;\n",
              "  }\n",
              "\n",
              "  .colab-df-quickchart:hover {\n",
              "    background-color: var(--hover-bg-color);\n",
              "    box-shadow: 0 1px 2px rgba(60, 64, 67, 0.3), 0 1px 3px 1px rgba(60, 64, 67, 0.15);\n",
              "    fill: var(--button-hover-fill-color);\n",
              "  }\n",
              "\n",
              "  .colab-df-quickchart-complete:disabled,\n",
              "  .colab-df-quickchart-complete:disabled:hover {\n",
              "    background-color: var(--disabled-bg-color);\n",
              "    fill: var(--disabled-fill-color);\n",
              "    box-shadow: none;\n",
              "  }\n",
              "\n",
              "  .colab-df-spinner {\n",
              "    border: 2px solid var(--fill-color);\n",
              "    border-color: transparent;\n",
              "    border-bottom-color: var(--fill-color);\n",
              "    animation:\n",
              "      spin 1s steps(1) infinite;\n",
              "  }\n",
              "\n",
              "  @keyframes spin {\n",
              "    0% {\n",
              "      border-color: transparent;\n",
              "      border-bottom-color: var(--fill-color);\n",
              "      border-left-color: var(--fill-color);\n",
              "    }\n",
              "    20% {\n",
              "      border-color: transparent;\n",
              "      border-left-color: var(--fill-color);\n",
              "      border-top-color: var(--fill-color);\n",
              "    }\n",
              "    30% {\n",
              "      border-color: transparent;\n",
              "      border-left-color: var(--fill-color);\n",
              "      border-top-color: var(--fill-color);\n",
              "      border-right-color: var(--fill-color);\n",
              "    }\n",
              "    40% {\n",
              "      border-color: transparent;\n",
              "      border-right-color: var(--fill-color);\n",
              "      border-top-color: var(--fill-color);\n",
              "    }\n",
              "    60% {\n",
              "      border-color: transparent;\n",
              "      border-right-color: var(--fill-color);\n",
              "    }\n",
              "    80% {\n",
              "      border-color: transparent;\n",
              "      border-right-color: var(--fill-color);\n",
              "      border-bottom-color: var(--fill-color);\n",
              "    }\n",
              "    90% {\n",
              "      border-color: transparent;\n",
              "      border-bottom-color: var(--fill-color);\n",
              "    }\n",
              "  }\n",
              "</style>\n",
              "\n",
              "  <script>\n",
              "    async function quickchart(key) {\n",
              "      const quickchartButtonEl =\n",
              "        document.querySelector('#' + key + ' button');\n",
              "      quickchartButtonEl.disabled = true;  // To prevent multiple clicks.\n",
              "      quickchartButtonEl.classList.add('colab-df-spinner');\n",
              "      try {\n",
              "        const charts = await google.colab.kernel.invokeFunction(\n",
              "            'suggestCharts', [key], {});\n",
              "      } catch (error) {\n",
              "        console.error('Error during call to suggestCharts:', error);\n",
              "      }\n",
              "      quickchartButtonEl.classList.remove('colab-df-spinner');\n",
              "      quickchartButtonEl.classList.add('colab-df-quickchart-complete');\n",
              "    }\n",
              "    (() => {\n",
              "      let quickchartButtonEl =\n",
              "        document.querySelector('#df-e5480936-af9a-4d5c-baa0-0ea6e7575ce4 button');\n",
              "      quickchartButtonEl.style.display =\n",
              "        google.colab.kernel.accessAllowed ? 'block' : 'none';\n",
              "    })();\n",
              "  </script>\n",
              "</div>\n",
              "\n",
              "    </div>\n",
              "  </div>\n"
            ],
            "application/vnd.google.colaboratory.intrinsic+json": {
              "type": "dataframe",
              "variable_name": "data",
              "summary": "{\n  \"name\": \"data\",\n  \"rows\": 2787,\n  \"fields\": [\n    {\n      \"column\": \"Date\",\n      \"properties\": {\n        \"dtype\": \"date\",\n        \"min\": \"2013-10-01 00:00:00\",\n        \"max\": \"2021-05-18 00:00:00\",\n        \"num_unique_values\": 2787,\n        \"samples\": [\n          \"2019-06-11 00:00:00\",\n          \"2021-05-03 00:00:00\",\n          \"2017-10-05 00:00:00\"\n        ],\n        \"semantic_type\": \"\",\n        \"description\": \"\"\n      }\n    },\n    {\n      \"column\": \"Currency\",\n      \"properties\": {\n        \"dtype\": \"category\",\n        \"num_unique_values\": 1,\n        \"samples\": [\n          \"BTC\"\n        ],\n        \"semantic_type\": \"\",\n        \"description\": \"\"\n      }\n    },\n    {\n      \"column\": \"Closing Price (USD)\",\n      \"properties\": {\n        \"dtype\": \"number\",\n        \"std\": 10887.84744436952,\n        \"min\": 108.58483,\n        \"max\": 63346.7890351052,\n        \"num_unique_values\": 2787,\n        \"samples\": [\n          7954.0062377205\n        ],\n        \"semantic_type\": \"\",\n        \"description\": \"\"\n      }\n    },\n    {\n      \"column\": \"24h Open (USD)\",\n      \"properties\": {\n        \"dtype\": \"number\",\n        \"std\": 10863.80077212387,\n        \"min\": 108.58483,\n        \"max\": 63562.6735446382,\n        \"num_unique_values\": 2787,\n        \"samples\": [\n          7600.9225047785\n        ],\n        \"semantic_type\": \"\",\n        \"description\": \"\"\n      }\n    },\n    {\n      \"column\": \"24h High (USD)\",\n      \"properties\": {\n        \"dtype\": \"number\",\n        \"std\": 11206.779756254151,\n        \"min\": 118.675,\n        \"max\": 64801.787869525,\n        \"num_unique_values\": 2787,\n        \"samples\": [\n          8064.9001353225\n        ],\n        \"semantic_type\": \"\",\n        \"description\": \"\"\n      }\n    },\n    {\n      \"column\": \"24h Low (USD)\",\n      \"properties\": {\n        \"dtype\": \"number\",\n        \"std\": 10475.8112518284,\n        \"min\": 83.32833,\n        \"max\": 62094.6329143272,\n        \"num_unique_values\": 2785,\n        \"samples\": [\n          7714.610306452\n        ],\n        \"semantic_type\": \"\",\n        \"description\": \"\"\n      }\n    }\n  ]\n}"
            }
          },
          "metadata": {},
          "execution_count": 76
        }
      ]
    },
    {
      "cell_type": "code",
      "source": [
        "len(data)"
      ],
      "metadata": {
        "colab": {
          "base_uri": "https://localhost:8080/"
        },
        "id": "R2sSfTBbUGJ4",
        "outputId": "d7af0c56-cd40-402f-9309-622aee2554f7"
      },
      "execution_count": null,
      "outputs": [
        {
          "output_type": "execute_result",
          "data": {
            "text/plain": [
              "2787"
            ]
          },
          "metadata": {},
          "execution_count": 77
        }
      ]
    },
    {
      "cell_type": "markdown",
      "source": [
        "#### Reformat dataframe"
      ],
      "metadata": {
        "id": "oHnOnus6W1O7"
      }
    },
    {
      "cell_type": "code",
      "source": [
        "bitcoin_prices = pd.DataFrame(data['Closing Price (USD)'])\n",
        "bitcoin_prices = bitcoin_prices.rename(columns={'Closing Price (USD)': 'Price'})\n",
        "bitcoin_prices.head()"
      ],
      "metadata": {
        "colab": {
          "base_uri": "https://localhost:8080/",
          "height": 235
        },
        "id": "xIxxJ9O4Ur2R",
        "outputId": "cf9718b0-697b-4907-f1b1-0ba2baf081b9"
      },
      "execution_count": null,
      "outputs": [
        {
          "output_type": "execute_result",
          "data": {
            "text/plain": [
              "                Price\n",
              "Date                 \n",
              "2013-10-01  123.65499\n",
              "2013-10-02  125.45500\n",
              "2013-10-03  108.58483\n",
              "2013-10-04  118.67466\n",
              "2013-10-05  121.33866"
            ],
            "text/html": [
              "\n",
              "  <div id=\"df-f55e04c3-bc25-43cd-b58c-3095b6a71715\" class=\"colab-df-container\">\n",
              "    <div>\n",
              "<style scoped>\n",
              "    .dataframe tbody tr th:only-of-type {\n",
              "        vertical-align: middle;\n",
              "    }\n",
              "\n",
              "    .dataframe tbody tr th {\n",
              "        vertical-align: top;\n",
              "    }\n",
              "\n",
              "    .dataframe thead th {\n",
              "        text-align: right;\n",
              "    }\n",
              "</style>\n",
              "<table border=\"1\" class=\"dataframe\">\n",
              "  <thead>\n",
              "    <tr style=\"text-align: right;\">\n",
              "      <th></th>\n",
              "      <th>Price</th>\n",
              "    </tr>\n",
              "    <tr>\n",
              "      <th>Date</th>\n",
              "      <th></th>\n",
              "    </tr>\n",
              "  </thead>\n",
              "  <tbody>\n",
              "    <tr>\n",
              "      <th>2013-10-01</th>\n",
              "      <td>123.65499</td>\n",
              "    </tr>\n",
              "    <tr>\n",
              "      <th>2013-10-02</th>\n",
              "      <td>125.45500</td>\n",
              "    </tr>\n",
              "    <tr>\n",
              "      <th>2013-10-03</th>\n",
              "      <td>108.58483</td>\n",
              "    </tr>\n",
              "    <tr>\n",
              "      <th>2013-10-04</th>\n",
              "      <td>118.67466</td>\n",
              "    </tr>\n",
              "    <tr>\n",
              "      <th>2013-10-05</th>\n",
              "      <td>121.33866</td>\n",
              "    </tr>\n",
              "  </tbody>\n",
              "</table>\n",
              "</div>\n",
              "    <div class=\"colab-df-buttons\">\n",
              "\n",
              "  <div class=\"colab-df-container\">\n",
              "    <button class=\"colab-df-convert\" onclick=\"convertToInteractive('df-f55e04c3-bc25-43cd-b58c-3095b6a71715')\"\n",
              "            title=\"Convert this dataframe to an interactive table.\"\n",
              "            style=\"display:none;\">\n",
              "\n",
              "  <svg xmlns=\"http://www.w3.org/2000/svg\" height=\"24px\" viewBox=\"0 -960 960 960\">\n",
              "    <path d=\"M120-120v-720h720v720H120Zm60-500h600v-160H180v160Zm220 220h160v-160H400v160Zm0 220h160v-160H400v160ZM180-400h160v-160H180v160Zm440 0h160v-160H620v160ZM180-180h160v-160H180v160Zm440 0h160v-160H620v160Z\"/>\n",
              "  </svg>\n",
              "    </button>\n",
              "\n",
              "  <style>\n",
              "    .colab-df-container {\n",
              "      display:flex;\n",
              "      gap: 12px;\n",
              "    }\n",
              "\n",
              "    .colab-df-convert {\n",
              "      background-color: #E8F0FE;\n",
              "      border: none;\n",
              "      border-radius: 50%;\n",
              "      cursor: pointer;\n",
              "      display: none;\n",
              "      fill: #1967D2;\n",
              "      height: 32px;\n",
              "      padding: 0 0 0 0;\n",
              "      width: 32px;\n",
              "    }\n",
              "\n",
              "    .colab-df-convert:hover {\n",
              "      background-color: #E2EBFA;\n",
              "      box-shadow: 0px 1px 2px rgba(60, 64, 67, 0.3), 0px 1px 3px 1px rgba(60, 64, 67, 0.15);\n",
              "      fill: #174EA6;\n",
              "    }\n",
              "\n",
              "    .colab-df-buttons div {\n",
              "      margin-bottom: 4px;\n",
              "    }\n",
              "\n",
              "    [theme=dark] .colab-df-convert {\n",
              "      background-color: #3B4455;\n",
              "      fill: #D2E3FC;\n",
              "    }\n",
              "\n",
              "    [theme=dark] .colab-df-convert:hover {\n",
              "      background-color: #434B5C;\n",
              "      box-shadow: 0px 1px 3px 1px rgba(0, 0, 0, 0.15);\n",
              "      filter: drop-shadow(0px 1px 2px rgba(0, 0, 0, 0.3));\n",
              "      fill: #FFFFFF;\n",
              "    }\n",
              "  </style>\n",
              "\n",
              "    <script>\n",
              "      const buttonEl =\n",
              "        document.querySelector('#df-f55e04c3-bc25-43cd-b58c-3095b6a71715 button.colab-df-convert');\n",
              "      buttonEl.style.display =\n",
              "        google.colab.kernel.accessAllowed ? 'block' : 'none';\n",
              "\n",
              "      async function convertToInteractive(key) {\n",
              "        const element = document.querySelector('#df-f55e04c3-bc25-43cd-b58c-3095b6a71715');\n",
              "        const dataTable =\n",
              "          await google.colab.kernel.invokeFunction('convertToInteractive',\n",
              "                                                    [key], {});\n",
              "        if (!dataTable) return;\n",
              "\n",
              "        const docLinkHtml = 'Like what you see? Visit the ' +\n",
              "          '<a target=\"_blank\" href=https://colab.research.google.com/notebooks/data_table.ipynb>data table notebook</a>'\n",
              "          + ' to learn more about interactive tables.';\n",
              "        element.innerHTML = '';\n",
              "        dataTable['output_type'] = 'display_data';\n",
              "        await google.colab.output.renderOutput(dataTable, element);\n",
              "        const docLink = document.createElement('div');\n",
              "        docLink.innerHTML = docLinkHtml;\n",
              "        element.appendChild(docLink);\n",
              "      }\n",
              "    </script>\n",
              "  </div>\n",
              "\n",
              "\n",
              "<div id=\"df-bb06ef53-5e84-41ec-b661-9585689d6889\">\n",
              "  <button class=\"colab-df-quickchart\" onclick=\"quickchart('df-bb06ef53-5e84-41ec-b661-9585689d6889')\"\n",
              "            title=\"Suggest charts\"\n",
              "            style=\"display:none;\">\n",
              "\n",
              "<svg xmlns=\"http://www.w3.org/2000/svg\" height=\"24px\"viewBox=\"0 0 24 24\"\n",
              "     width=\"24px\">\n",
              "    <g>\n",
              "        <path d=\"M19 3H5c-1.1 0-2 .9-2 2v14c0 1.1.9 2 2 2h14c1.1 0 2-.9 2-2V5c0-1.1-.9-2-2-2zM9 17H7v-7h2v7zm4 0h-2V7h2v10zm4 0h-2v-4h2v4z\"/>\n",
              "    </g>\n",
              "</svg>\n",
              "  </button>\n",
              "\n",
              "<style>\n",
              "  .colab-df-quickchart {\n",
              "      --bg-color: #E8F0FE;\n",
              "      --fill-color: #1967D2;\n",
              "      --hover-bg-color: #E2EBFA;\n",
              "      --hover-fill-color: #174EA6;\n",
              "      --disabled-fill-color: #AAA;\n",
              "      --disabled-bg-color: #DDD;\n",
              "  }\n",
              "\n",
              "  [theme=dark] .colab-df-quickchart {\n",
              "      --bg-color: #3B4455;\n",
              "      --fill-color: #D2E3FC;\n",
              "      --hover-bg-color: #434B5C;\n",
              "      --hover-fill-color: #FFFFFF;\n",
              "      --disabled-bg-color: #3B4455;\n",
              "      --disabled-fill-color: #666;\n",
              "  }\n",
              "\n",
              "  .colab-df-quickchart {\n",
              "    background-color: var(--bg-color);\n",
              "    border: none;\n",
              "    border-radius: 50%;\n",
              "    cursor: pointer;\n",
              "    display: none;\n",
              "    fill: var(--fill-color);\n",
              "    height: 32px;\n",
              "    padding: 0;\n",
              "    width: 32px;\n",
              "  }\n",
              "\n",
              "  .colab-df-quickchart:hover {\n",
              "    background-color: var(--hover-bg-color);\n",
              "    box-shadow: 0 1px 2px rgba(60, 64, 67, 0.3), 0 1px 3px 1px rgba(60, 64, 67, 0.15);\n",
              "    fill: var(--button-hover-fill-color);\n",
              "  }\n",
              "\n",
              "  .colab-df-quickchart-complete:disabled,\n",
              "  .colab-df-quickchart-complete:disabled:hover {\n",
              "    background-color: var(--disabled-bg-color);\n",
              "    fill: var(--disabled-fill-color);\n",
              "    box-shadow: none;\n",
              "  }\n",
              "\n",
              "  .colab-df-spinner {\n",
              "    border: 2px solid var(--fill-color);\n",
              "    border-color: transparent;\n",
              "    border-bottom-color: var(--fill-color);\n",
              "    animation:\n",
              "      spin 1s steps(1) infinite;\n",
              "  }\n",
              "\n",
              "  @keyframes spin {\n",
              "    0% {\n",
              "      border-color: transparent;\n",
              "      border-bottom-color: var(--fill-color);\n",
              "      border-left-color: var(--fill-color);\n",
              "    }\n",
              "    20% {\n",
              "      border-color: transparent;\n",
              "      border-left-color: var(--fill-color);\n",
              "      border-top-color: var(--fill-color);\n",
              "    }\n",
              "    30% {\n",
              "      border-color: transparent;\n",
              "      border-left-color: var(--fill-color);\n",
              "      border-top-color: var(--fill-color);\n",
              "      border-right-color: var(--fill-color);\n",
              "    }\n",
              "    40% {\n",
              "      border-color: transparent;\n",
              "      border-right-color: var(--fill-color);\n",
              "      border-top-color: var(--fill-color);\n",
              "    }\n",
              "    60% {\n",
              "      border-color: transparent;\n",
              "      border-right-color: var(--fill-color);\n",
              "    }\n",
              "    80% {\n",
              "      border-color: transparent;\n",
              "      border-right-color: var(--fill-color);\n",
              "      border-bottom-color: var(--fill-color);\n",
              "    }\n",
              "    90% {\n",
              "      border-color: transparent;\n",
              "      border-bottom-color: var(--fill-color);\n",
              "    }\n",
              "  }\n",
              "</style>\n",
              "\n",
              "  <script>\n",
              "    async function quickchart(key) {\n",
              "      const quickchartButtonEl =\n",
              "        document.querySelector('#' + key + ' button');\n",
              "      quickchartButtonEl.disabled = true;  // To prevent multiple clicks.\n",
              "      quickchartButtonEl.classList.add('colab-df-spinner');\n",
              "      try {\n",
              "        const charts = await google.colab.kernel.invokeFunction(\n",
              "            'suggestCharts', [key], {});\n",
              "      } catch (error) {\n",
              "        console.error('Error during call to suggestCharts:', error);\n",
              "      }\n",
              "      quickchartButtonEl.classList.remove('colab-df-spinner');\n",
              "      quickchartButtonEl.classList.add('colab-df-quickchart-complete');\n",
              "    }\n",
              "    (() => {\n",
              "      let quickchartButtonEl =\n",
              "        document.querySelector('#df-bb06ef53-5e84-41ec-b661-9585689d6889 button');\n",
              "      quickchartButtonEl.style.display =\n",
              "        google.colab.kernel.accessAllowed ? 'block' : 'none';\n",
              "    })();\n",
              "  </script>\n",
              "</div>\n",
              "\n",
              "    </div>\n",
              "  </div>\n"
            ],
            "application/vnd.google.colaboratory.intrinsic+json": {
              "type": "dataframe",
              "variable_name": "bitcoin_prices",
              "summary": "{\n  \"name\": \"bitcoin_prices\",\n  \"rows\": 2787,\n  \"fields\": [\n    {\n      \"column\": \"Date\",\n      \"properties\": {\n        \"dtype\": \"date\",\n        \"min\": \"2013-10-01 00:00:00\",\n        \"max\": \"2021-05-18 00:00:00\",\n        \"num_unique_values\": 2787,\n        \"samples\": [\n          \"2019-06-11 00:00:00\",\n          \"2021-05-03 00:00:00\",\n          \"2017-10-05 00:00:00\"\n        ],\n        \"semantic_type\": \"\",\n        \"description\": \"\"\n      }\n    },\n    {\n      \"column\": \"Price\",\n      \"properties\": {\n        \"dtype\": \"number\",\n        \"std\": 10887.84744436952,\n        \"min\": 108.58483,\n        \"max\": 63346.7890351052,\n        \"num_unique_values\": 2787,\n        \"samples\": [\n          7954.0062377205,\n          56427.0431250152,\n          4186.78374\n        ],\n        \"semantic_type\": \"\",\n        \"description\": \"\"\n      }\n    }\n  ]\n}"
            }
          },
          "metadata": {},
          "execution_count": 78
        }
      ]
    },
    {
      "cell_type": "code",
      "source": [
        "bitcoin_prices.plot()\n",
        "plt.ylabel('Price')\n",
        "plt.title(\"Price of bitcoin from 01/10/2013 to 18/05/2021\")"
      ],
      "metadata": {
        "colab": {
          "base_uri": "https://localhost:8080/",
          "height": 489
        },
        "id": "lrVWLoWAXLwb",
        "outputId": "319224ca-9547-4cdc-9557-afb00854898d"
      },
      "execution_count": null,
      "outputs": [
        {
          "output_type": "execute_result",
          "data": {
            "text/plain": [
              "Text(0.5, 1.0, 'Price of bitcoin from 01/10/2013 to 18/05/2021')"
            ]
          },
          "metadata": {},
          "execution_count": 79
        },
        {
          "output_type": "display_data",
          "data": {
            "text/plain": [
              "<Figure size 640x480 with 1 Axes>"
            ],
            "image/png": "[encoded data removed]"
          },
          "metadata": {}
        }
      ]
    },
    {
      "cell_type": "markdown",
      "source": [
        "## Preprocessing"
      ],
      "metadata": {
        "id": "9jZv0DeCcjT9"
      }
    },
    {
      "cell_type": "code",
      "source": [
        "timesteps = bitcoin_prices.index.to_numpy()\n",
        "prices = bitcoin_prices[\"Price\"].to_numpy()"
      ],
      "metadata": {
        "id": "WhbjR-j3YCtB"
      },
      "execution_count": null,
      "outputs": []
    },
    {
      "cell_type": "code",
      "source": [
        "X_train, X_test, y_train, y_test = train_test_split(timesteps, prices,\n",
        "                                                    test_size=0.2,\n",
        "                                                    shuffle=False,)"
      ],
      "metadata": {
        "id": "W-pxWfSldXhl"
      },
      "execution_count": null,
      "outputs": []
    },
    {
      "cell_type": "code",
      "source": [
        "# Create a plot function for time series\n",
        "\n",
        "def plot_time_series(x, y, format='.', start=0, end=None, label=None):\n",
        "  \"\"\"\n",
        "  Plots timesteps against values\n",
        "  \"\"\"\n",
        "  plt.plot(x[start:end], y[start:end], format, label=label)\n",
        "  plt.xlabel(\"Time\")\n",
        "  plt.ylabel(\"Price\")\n",
        "  plt.grid(True)"
      ],
      "metadata": {
        "id": "vM9ww1vTsYqK"
      },
      "execution_count": null,
      "outputs": []
    },
    {
      "cell_type": "markdown",
      "source": [
        "# Model Construction"
      ],
      "metadata": {
        "id": "SIMrbM6kq-TS"
      }
    },
    {
      "cell_type": "markdown",
      "source": [
        "## Model 0 | Baseline | Naive Model"
      ],
      "metadata": {
        "id": "qBUHJx_jrJGH"
      }
    },
    {
      "cell_type": "markdown",
      "source": [
        "$$\\hat{y}_{t} = y_{t-1}$$ for horizon = 1"
      ],
      "metadata": {
        "id": "w0kXwRkerh9C"
      }
    },
    {
      "cell_type": "code",
      "source": [
        "naive_forecast = y_test[:-1]\n",
        "naive_forecast[:10], naive_forecast[-10:]"
      ],
      "metadata": {
        "colab": {
          "base_uri": "https://localhost:8080/"
        },
        "id": "xftqsjlTpScf",
        "outputId": "08261eca-9aeb-4aef-8556-51d221e0c0b1"
      },
      "execution_count": null,
      "outputs": [
        {
          "output_type": "execute_result",
          "data": {
            "text/plain": [
              "(array([9226.48582088, 8794.35864452, 8798.04205463, 9081.18687849,\n",
              "        8711.53433917, 8760.89271814, 8749.52059102, 8656.97092235,\n",
              "        8500.64355816, 8469.2608989 ]),\n",
              " array([57107.12067189, 58788.20967893, 58102.19142623, 55715.54665129,\n",
              "        56573.5554719 , 52147.82118698, 49764.1320816 , 50032.69313676,\n",
              "        47885.62525472, 45604.61575361]))"
            ]
          },
          "metadata": {},
          "execution_count": 83
        }
      ]
    },
    {
      "cell_type": "code",
      "source": [
        "plt.figure(figsize=(10,7))\n",
        "# plot_time_series(X_train, y_train, start=300)\n",
        "plot_time_series(X_test, y_test, start=350, format='-')\n",
        "\n",
        "plot_time_series(X_test[1:], naive_forecast, start=350, format='-')"
      ],
      "metadata": {
        "colab": {
          "base_uri": "https://localhost:8080/",
          "height": 619
        },
        "id": "yKiXwjbxr-L2",
        "outputId": "0cffa1a4-f9cc-448f-9979-58559b19b46e"
      },
      "execution_count": null,
      "outputs": [
        {
          "output_type": "display_data",
          "data": {
            "text/plain": [
              "<Figure size 1000x700 with 1 Axes>"
            ],
            "image/png": "[encoded data removed]"
          },
          "metadata": {}
        }
      ]
    },
    {
      "cell_type": "markdown",
      "source": [
        "### Evaluate Model"
      ],
      "metadata": {
        "id": "_iN7TkRbxIi4"
      }
    },
    {
      "cell_type": "markdown",
      "source": [
        "#### Define evaluation functions"
      ],
      "metadata": {
        "id": "3S6574oUI2xb"
      }
    },
    {
      "cell_type": "markdown",
      "source": [
        "*Define MASE function*"
      ],
      "metadata": {
        "id": "_Un41CpaELua"
      }
    },
    {
      "cell_type": "code",
      "source": [
        "def mase(y_true, y_pred):\n",
        "  \"\"\"\n",
        "  Implement MASE assuming no seasonality\n",
        "\n",
        "  Args:\n",
        "    y_true:\n",
        "    y_pred:\n",
        "  \"\"\"\n",
        "  mae = tf.reduce_mean(tf.abs(y_true - y_pred))\n",
        "\n",
        "  # MAE of naive forecast (no seasonality)\n",
        "  mae_naive_no_season = tf.reduce_mean(tf.abs(y_true[1:] - y_true[:-1])) # Seasonality is 1 day -> 1 shift\n",
        "\n",
        "  return mae / mae_naive_no_season"
      ],
      "metadata": {
        "id": "zApNCDjcCGRm"
      },
      "execution_count": null,
      "outputs": []
    },
    {
      "cell_type": "code",
      "source": [
        "mase(y_test[1:], y_pred=naive_forecast).numpy()"
      ],
      "metadata": {
        "colab": {
          "base_uri": "https://localhost:8080/"
        },
        "id": "dUx8bWxNDxAQ",
        "outputId": "b207ee98-fc73-49d8-8fce-59b3031a79bd"
      },
      "execution_count": null,
      "outputs": [
        {
          "output_type": "execute_result",
          "data": {
            "text/plain": [
              "0.9995699939182624"
            ]
          },
          "metadata": {},
          "execution_count": 86
        }
      ]
    },
    {
      "cell_type": "markdown",
      "source": [
        "*Create metrics dictionary function*"
      ],
      "metadata": {
        "id": "gCX9lUzDEbJk"
      }
    },
    {
      "cell_type": "code",
      "source": [
        "def metrics_dict(y_true, y_pred):\n",
        "  metric_dict = {'Mean Absolute Error': mean_absolute_error(y_true, y_pred),\n",
        "          'Mean Absolute Percentage Error': mean_absolute_percentage_error(y_true, y_pred)*100,\n",
        "          'MSE': mean_squared_error(y_true, y_pred),\n",
        "          'RMSE': np.sqrt(mean_squared_error(y_true, y_pred)),\n",
        "          'MASE': mase(y_true, y_pred).numpy()}\n",
        "  return metric_dict"
      ],
      "metadata": {
        "id": "lnApHNWWD-PZ"
      },
      "execution_count": null,
      "outputs": []
    },
    {
      "cell_type": "code",
      "source": [
        "model_0_metrics = metrics_dict(y_test[1:], naive_forecast)\n",
        "model_0_metrics"
      ],
      "metadata": {
        "colab": {
          "base_uri": "https://localhost:8080/"
        },
        "id": "FMDRB816F9OF",
        "outputId": "28d50737-322e-41d5-dc2a-7d546a99dd7d"
      },
      "execution_count": null,
      "outputs": [
        {
          "output_type": "execute_result",
          "data": {
            "text/plain": [
              "{'Mean Absolute Error': 567.9802273457542,\n",
              " 'Mean Absolute Percentage Error': 2.516524929982267,\n",
              " 'MSE': 1147547.125023896,\n",
              " 'RMSE': 1071.2362601330744,\n",
              " 'MASE': 0.9995699939182624}"
            ]
          },
          "metadata": {},
          "execution_count": 88
        }
      ]
    },
    {
      "cell_type": "markdown",
      "source": [
        "### Windowing our dataset"
      ],
      "metadata": {
        "id": "xqN9uK9wLUoc"
      }
    },
    {
      "cell_type": "markdown",
      "source": [
        "Turn data into a supervised learning problem"
      ],
      "metadata": {
        "id": "WGXJ-yALLX2b"
      }
    },
    {
      "cell_type": "markdown",
      "source": [
        "We want to use 7 steps (a week) to predict the 8th day"
      ],
      "metadata": {
        "id": "0LuIQhvvL3Dz"
      }
    },
    {
      "cell_type": "code",
      "source": [
        "HORIZON = 1   # Predict next day\n",
        "WINDOW_SIZE = 7   # Use the past week to make the prediction"
      ],
      "metadata": {
        "id": "6gXHECiwGJMB"
      },
      "execution_count": null,
      "outputs": []
    },
    {
      "cell_type": "code",
      "source": [
        "# Create function to label windowed data\n",
        "\n",
        "def get_labelled_windows(x, horizon=HORIZON):\n",
        "  \"\"\"\n",
        "  Create labels for windowed dataset\n",
        "  Input: [0, 1, 2, 3, 4, 5, 6, 7] -> Output: ([0, 1, 2, 3, 4, 5, 6], [7])\n",
        "  Args:\n",
        "    x:\n",
        "    horizon:\n",
        "  \"\"\"\n",
        "  return x[:, :-horizon], x[:, -horizon:]"
      ],
      "metadata": {
        "id": "SuVHjn-oMMac"
      },
      "execution_count": null,
      "outputs": []
    },
    {
      "cell_type": "code",
      "source": [
        "test_window, test_label = get_labelled_windows(tf.expand_dims(tf.range(8)+1, axis=0))\n",
        "test_window, test_label"
      ],
      "metadata": {
        "colab": {
          "base_uri": "https://localhost:8080/"
        },
        "id": "MvX6Fw35MRtJ",
        "outputId": "5c129bb8-c09d-419a-cb98-44ec0fb7d9aa"
      },
      "execution_count": null,
      "outputs": [
        {
          "output_type": "execute_result",
          "data": {
            "text/plain": [
              "(<tf.Tensor: shape=(1, 7), dtype=int32, numpy=array([[1, 2, 3, 4, 5, 6, 7]], dtype=int32)>,\n",
              " <tf.Tensor: shape=(1, 1), dtype=int32, numpy=array([[8]], dtype=int32)>)"
            ]
          },
          "metadata": {},
          "execution_count": 91
        }
      ]
    },
    {
      "cell_type": "markdown",
      "source": [
        "#### Let's create a function to run this across the entire dataset"
      ],
      "metadata": {
        "id": "E3_rivU134qO"
      }
    },
    {
      "cell_type": "code",
      "source": [
        "def make_windows(x, window_size=WINDOW_SIZE, horizon=HORIZON):\n",
        "  \"\"\"\n",
        "  Turns a 1D array into a 2D array of sequential labelled windows of window_size with horizon size labels\n",
        "  Args:\n",
        "    x:\n",
        "    window_size:\n",
        "    horizon:\n",
        "  \"\"\"\n",
        "  # Create window and add horizon for labelling later\n",
        "  window_step = np.expand_dims(np.arange(window_size + horizon), axis=0)\n",
        "\n",
        "  # Create 2D array of multiple window steps\n",
        "  window_indexes = window_step + np.expand_dims(np.arange(len(x) - (window_size + horizon - 1)), axis=0).T\n",
        "  #print(window_indexes, window_indexes.shape)\n",
        "\n",
        "  # Index on target array\n",
        "  windowed_array = x[window_indexes]\n",
        "\n",
        "  # Get labelled windows\n",
        "  windows, labels = get_labelled_windows(windowed_array, horizon=horizon)\n",
        "  return windows, labels"
      ],
      "metadata": {
        "id": "0-FkA_77NZPP"
      },
      "execution_count": null,
      "outputs": []
    },
    {
      "cell_type": "code",
      "source": [
        "full_windows, full_labels = make_windows(prices)"
      ],
      "metadata": {
        "id": "23vpsvU89L2w"
      },
      "execution_count": null,
      "outputs": []
    },
    {
      "cell_type": "markdown",
      "source": [
        "Split data (again)"
      ],
      "metadata": {
        "id": "LWl2LU79Lewl"
      }
    },
    {
      "cell_type": "code",
      "source": [
        "train_windows, test_windows, train_labels, test_labels = train_test_split(full_windows, full_labels, shuffle=False, test_size=0.2)"
      ],
      "metadata": {
        "id": "IDBN7__P9cm_"
      },
      "execution_count": null,
      "outputs": []
    },
    {
      "cell_type": "markdown",
      "source": [
        "## Create a modelling checkpoint callback"
      ],
      "metadata": {
        "id": "RmbJK61IT0Xp"
      }
    },
    {
      "cell_type": "code",
      "source": [
        "import os\n",
        "\n",
        "def create_model_checkpoint(model_name, save_path=\"model_experiments\"):\n",
        "  return tf.keras.callbacks.ModelCheckpoint(filepath=os.path.join(save_path, model_name),\n",
        "                                            verbose=0,\n",
        "                                            save_best_only=True)"
      ],
      "metadata": {
        "id": "fUVkNM2zMKEu"
      },
      "execution_count": null,
      "outputs": []
    },
    {
      "cell_type": "markdown",
      "source": [
        "## Model 1 | Dense model | (window = 7, horizon = 1)"
      ],
      "metadata": {
        "id": "EswE4B73WsAC"
      }
    },
    {
      "cell_type": "code",
      "source": [
        "# Build\n",
        "model_1 = tf.keras.Sequential([\n",
        "    layers.Dense(128, activation='relu'),\n",
        "    layers.Dense(HORIZON)\n",
        "], name='model_1_dense')\n",
        "\n",
        "# Compile\n",
        "model_1.compile(optimizer=tf.keras.optimizers.Adam(),\n",
        "                loss='mae',\n",
        "                metrics=['mae', 'mse'])\n",
        "\n",
        "# Fit\n",
        "history1 = model_1.fit(train_windows, train_labels,\n",
        "                       validation_data=[test_windows, test_labels],\n",
        "                       epochs=100,\n",
        "                       batch_size=128,\n",
        "                       callbacks=[create_model_checkpoint(model_name=model_1.name)])"
      ],
      "metadata": {
        "colab": {
          "base_uri": "https://localhost:8080/"
        },
        "id": "3eVVRM0SWrc7",
        "outputId": "725c0c54-335f-41e6-dea0-6d066998e8bc"
      },
      "execution_count": null,
      "outputs": [
        {
          "output_type": "stream",
          "name": "stdout",
          "text": [
            "Epoch 1/100\n",
            "18/18 [==============================] - 5s 113ms/step - loss: 1176.7103 - mae: 1176.7103 - mse: 5158373.0000 - val_loss: 3055.2334 - val_mae: 3055.2334 - val_mse: 20556122.0000\n",
            "Epoch 2/100\n",
            "18/18 [==============================] - 2s 113ms/step - loss: 341.2492 - mae: 341.2492 - mse: 455738.0625 - val_loss: 1358.7958 - val_mae: 1358.7958 - val_mse: 4707727.5000\n",
            "Epoch 3/100\n",
            "18/18 [==============================] - 1s 82ms/step - loss: 202.2102 - mae: 202.2102 - mse: 190968.2344 - val_loss: 1202.8563 - val_mae: 1202.8563 - val_mse: 3903860.5000\n",
            "Epoch 4/100\n",
            "18/18 [==============================] - 1s 81ms/step - loss: 172.2618 - mae: 172.2618 - mse: 155943.9219 - val_loss: 924.6229 - val_mae: 924.6229 - val_mse: 2854631.0000\n",
            "Epoch 5/100\n",
            "18/18 [==============================] - 1s 72ms/step - loss: 164.1248 - mae: 164.1248 - mse: 144799.7969 - val_loss: 921.7487 - val_mae: 921.7487 - val_mse: 2760821.5000\n",
            "Epoch 6/100\n",
            "18/18 [==============================] - 1s 87ms/step - loss: 161.6981 - mae: 161.6981 - mse: 140430.5469 - val_loss: 896.7350 - val_mae: 896.7350 - val_mse: 2720472.0000\n",
            "Epoch 7/100\n",
            "18/18 [==============================] - 3s 163ms/step - loss: 157.2739 - mae: 157.2739 - mse: 134202.3438 - val_loss: 872.3420 - val_mae: 872.3420 - val_mse: 2514921.0000\n",
            "Epoch 8/100\n",
            "18/18 [==============================] - 3s 153ms/step - loss: 153.1885 - mae: 153.1885 - mse: 128335.3516 - val_loss: 850.3398 - val_mae: 850.3398 - val_mse: 2452309.7500\n",
            "Epoch 9/100\n",
            "18/18 [==============================] - 0s 19ms/step - loss: 156.9141 - mae: 156.9141 - mse: 127689.8281 - val_loss: 931.2560 - val_mae: 931.2560 - val_mse: 2542283.0000\n",
            "Epoch 10/100\n",
            "18/18 [==============================] - 1s 68ms/step - loss: 150.5375 - mae: 150.5375 - mse: 121417.5703 - val_loss: 814.5451 - val_mae: 814.5451 - val_mse: 2203633.7500\n",
            "Epoch 11/100\n",
            "18/18 [==============================] - 1s 32ms/step - loss: 146.4524 - mae: 146.4524 - mse: 114133.5859 - val_loss: 791.4719 - val_mae: 791.4719 - val_mse: 2135576.2500\n",
            "Epoch 12/100\n",
            "18/18 [==============================] - 1s 32ms/step - loss: 143.3792 - mae: 143.3792 - mse: 113306.7422 - val_loss: 774.5965 - val_mae: 774.5965 - val_mse: 2045664.2500\n",
            "Epoch 13/100\n",
            "18/18 [==============================] - 1s 33ms/step - loss: 145.2381 - mae: 145.2381 - mse: 107834.3984 - val_loss: 773.1381 - val_mae: 773.1381 - val_mse: 2023686.8750\n",
            "Epoch 14/100\n",
            "18/18 [==============================] - 1s 73ms/step - loss: 139.8540 - mae: 139.8540 - mse: 107438.2500 - val_loss: 744.4667 - val_mae: 744.4667 - val_mse: 1846194.1250\n",
            "Epoch 15/100\n",
            "18/18 [==============================] - 0s 5ms/step - loss: 132.8280 - mae: 132.8280 - mse: 98749.7578 - val_loss: 765.2435 - val_mae: 765.2435 - val_mse: 1856551.6250\n",
            "Epoch 16/100\n",
            "18/18 [==============================] - 1s 34ms/step - loss: 131.0228 - mae: 131.0228 - mse: 96167.1562 - val_loss: 717.0916 - val_mae: 717.0916 - val_mse: 1717999.3750\n",
            "Epoch 17/100\n",
            "18/18 [==============================] - 1s 35ms/step - loss: 127.3059 - mae: 127.3059 - mse: 91936.0000 - val_loss: 708.3132 - val_mae: 708.3132 - val_mse: 1665131.7500\n",
            "Epoch 18/100\n",
            "18/18 [==============================] - 1s 34ms/step - loss: 125.3344 - mae: 125.3344 - mse: 89676.4062 - val_loss: 691.4768 - val_mae: 691.4768 - val_mse: 1606857.5000\n",
            "Epoch 19/100\n",
            "18/18 [==============================] - 0s 5ms/step - loss: 125.5632 - mae: 125.5632 - mse: 88963.7734 - val_loss: 753.7785 - val_mae: 753.7785 - val_mse: 1738680.2500\n",
            "Epoch 20/100\n",
            "18/18 [==============================] - 0s 5ms/step - loss: 125.9003 - mae: 125.9003 - mse: 88576.2500 - val_loss: 736.3953 - val_mae: 736.3953 - val_mse: 1676416.3750\n",
            "Epoch 21/100\n",
            "18/18 [==============================] - 1s 32ms/step - loss: 124.3504 - mae: 124.3504 - mse: 87458.4141 - val_loss: 684.7705 - val_mae: 684.7705 - val_mse: 1529654.2500\n",
            "Epoch 22/100\n",
            "18/18 [==============================] - 0s 5ms/step - loss: 120.5320 - mae: 120.5320 - mse: 83259.5859 - val_loss: 698.9525 - val_mae: 698.9525 - val_mse: 1555615.0000\n",
            "Epoch 23/100\n",
            "18/18 [==============================] - 0s 6ms/step - loss: 125.0525 - mae: 125.0525 - mse: 82990.1875 - val_loss: 733.5749 - val_mae: 733.5749 - val_mse: 1638045.8750\n",
            "Epoch 24/100\n",
            "18/18 [==============================] - 0s 5ms/step - loss: 124.4563 - mae: 124.4563 - mse: 87194.6641 - val_loss: 740.7070 - val_mae: 740.7070 - val_mse: 1652438.6250\n",
            "Epoch 25/100\n",
            "18/18 [==============================] - 1s 35ms/step - loss: 120.2664 - mae: 120.2664 - mse: 81109.1094 - val_loss: 632.1569 - val_mae: 632.1569 - val_mse: 1381729.6250\n",
            "Epoch 26/100\n",
            "18/18 [==============================] - 1s 34ms/step - loss: 115.2223 - mae: 115.2223 - mse: 77985.5703 - val_loss: 630.4582 - val_mae: 630.4582 - val_mse: 1365284.2500\n",
            "Epoch 27/100\n",
            "18/18 [==============================] - 1s 38ms/step - loss: 116.5562 - mae: 116.5562 - mse: 79527.6797 - val_loss: 619.7468 - val_mae: 619.7468 - val_mse: 1337667.6250\n",
            "Epoch 28/100\n",
            "18/18 [==============================] - 0s 7ms/step - loss: 114.0508 - mae: 114.0508 - mse: 77756.3516 - val_loss: 624.9348 - val_mae: 624.9348 - val_mse: 1364837.2500\n",
            "Epoch 29/100\n",
            "18/18 [==============================] - 0s 6ms/step - loss: 112.6935 - mae: 112.6935 - mse: 76103.5703 - val_loss: 641.9883 - val_mae: 641.9883 - val_mse: 1371444.3750\n",
            "Epoch 30/100\n",
            "18/18 [==============================] - 1s 44ms/step - loss: 113.3718 - mae: 113.3718 - mse: 76477.9609 - val_loss: 607.7038 - val_mae: 607.7038 - val_mse: 1303627.2500\n",
            "Epoch 31/100\n",
            "18/18 [==============================] - 0s 8ms/step - loss: 115.5299 - mae: 115.5299 - mse: 77548.2422 - val_loss: 609.2644 - val_mae: 609.2644 - val_mse: 1307825.7500\n",
            "Epoch 32/100\n",
            "18/18 [==============================] - 0s 7ms/step - loss: 117.6804 - mae: 117.6804 - mse: 78500.6797 - val_loss: 640.5576 - val_mae: 640.5576 - val_mse: 1391634.7500\n",
            "Epoch 33/100\n",
            "18/18 [==============================] - 0s 8ms/step - loss: 115.5704 - mae: 115.5704 - mse: 74172.4297 - val_loss: 636.8759 - val_mae: 636.8759 - val_mse: 1344897.5000\n",
            "Epoch 34/100\n",
            "18/18 [==============================] - 1s 47ms/step - loss: 112.3369 - mae: 112.3369 - mse: 74800.5000 - val_loss: 598.1758 - val_mae: 598.1758 - val_mse: 1262978.5000\n",
            "Epoch 35/100\n",
            "18/18 [==============================] - 0s 7ms/step - loss: 111.7609 - mae: 111.7609 - mse: 72267.4609 - val_loss: 612.3721 - val_mae: 612.3721 - val_mse: 1286487.1250\n",
            "Epoch 36/100\n",
            "18/18 [==============================] - 0s 7ms/step - loss: 114.4714 - mae: 114.4714 - mse: 75890.7344 - val_loss: 647.6669 - val_mae: 647.6669 - val_mse: 1363679.5000\n",
            "Epoch 37/100\n",
            "18/18 [==============================] - 0s 7ms/step - loss: 118.5680 - mae: 118.5680 - mse: 77342.9922 - val_loss: 600.0870 - val_mae: 600.0870 - val_mse: 1271653.0000\n",
            "Epoch 38/100\n",
            "18/18 [==============================] - 0s 7ms/step - loss: 114.5752 - mae: 114.5752 - mse: 75959.9219 - val_loss: 599.6779 - val_mae: 599.6779 - val_mse: 1254899.6250\n",
            "Epoch 39/100\n",
            "18/18 [==============================] - 1s 36ms/step - loss: 108.8806 - mae: 108.8806 - mse: 72715.2422 - val_loss: 584.0787 - val_mae: 584.0787 - val_mse: 1223392.1250\n",
            "Epoch 40/100\n",
            "18/18 [==============================] - 0s 4ms/step - loss: 112.1213 - mae: 112.1213 - mse: 74487.2500 - val_loss: 596.6863 - val_mae: 596.6863 - val_mse: 1257422.2500\n",
            "Epoch 41/100\n",
            "18/18 [==============================] - 0s 4ms/step - loss: 109.0416 - mae: 109.0416 - mse: 70456.3984 - val_loss: 682.6777 - val_mae: 682.6777 - val_mse: 1477586.7500\n",
            "Epoch 42/100\n",
            "18/18 [==============================] - 0s 5ms/step - loss: 116.1478 - mae: 116.1478 - mse: 77077.4609 - val_loss: 588.7653 - val_mae: 588.7653 - val_mse: 1236262.2500\n",
            "Epoch 43/100\n",
            "18/18 [==============================] - 0s 4ms/step - loss: 111.4965 - mae: 111.4965 - mse: 73905.1484 - val_loss: 590.0817 - val_mae: 590.0817 - val_mse: 1227659.0000\n",
            "Epoch 44/100\n",
            "18/18 [==============================] - 0s 4ms/step - loss: 111.3044 - mae: 111.3044 - mse: 73417.7422 - val_loss: 707.2255 - val_mae: 707.2255 - val_mse: 1543356.8750\n",
            "Epoch 45/100\n",
            "18/18 [==============================] - 1s 34ms/step - loss: 112.8223 - mae: 112.8223 - mse: 73821.3281 - val_loss: 582.5969 - val_mae: 582.5969 - val_mse: 1217947.5000\n",
            "Epoch 46/100\n",
            "18/18 [==============================] - 1s 30ms/step - loss: 109.0207 - mae: 109.0207 - mse: 71290.2812 - val_loss: 576.8123 - val_mae: 576.8123 - val_mse: 1198749.2500\n",
            "Epoch 47/100\n",
            "18/18 [==============================] - 1s 33ms/step - loss: 109.6157 - mae: 109.6157 - mse: 71036.6016 - val_loss: 573.7451 - val_mae: 573.7451 - val_mse: 1194370.3750\n",
            "Epoch 48/100\n",
            "18/18 [==============================] - 0s 4ms/step - loss: 109.5705 - mae: 109.5705 - mse: 72650.4766 - val_loss: 575.3613 - val_mae: 575.3613 - val_mse: 1199420.6250\n",
            "Epoch 49/100\n",
            "18/18 [==============================] - 0s 4ms/step - loss: 109.3432 - mae: 109.3432 - mse: 70349.7578 - val_loss: 575.1987 - val_mae: 575.1987 - val_mse: 1198035.1250\n",
            "Epoch 50/100\n",
            "18/18 [==============================] - 1s 33ms/step - loss: 108.9925 - mae: 108.9925 - mse: 72107.1797 - val_loss: 572.9218 - val_mae: 572.9218 - val_mse: 1188690.0000\n",
            "Epoch 51/100\n",
            "18/18 [==============================] - 0s 6ms/step - loss: 114.0780 - mae: 114.0780 - mse: 72888.3125 - val_loss: 688.8146 - val_mae: 688.8146 - val_mse: 1442808.0000\n",
            "Epoch 52/100\n",
            "18/18 [==============================] - 0s 5ms/step - loss: 113.9015 - mae: 113.9015 - mse: 72079.8672 - val_loss: 611.9111 - val_mae: 611.9111 - val_mse: 1272421.1250\n",
            "Epoch 53/100\n",
            "18/18 [==============================] - 0s 6ms/step - loss: 113.6621 - mae: 113.6621 - mse: 74846.4688 - val_loss: 583.2719 - val_mae: 583.2719 - val_mse: 1203740.0000\n",
            "Epoch 54/100\n",
            "18/18 [==============================] - 1s 38ms/step - loss: 109.8874 - mae: 109.8874 - mse: 71063.9062 - val_loss: 570.2548 - val_mae: 570.2548 - val_mse: 1181107.5000\n",
            "Epoch 55/100\n",
            "18/18 [==============================] - 0s 6ms/step - loss: 106.4635 - mae: 106.4635 - mse: 68669.1562 - val_loss: 591.1260 - val_mae: 591.1260 - val_mse: 1221106.5000\n",
            "Epoch 56/100\n",
            "18/18 [==============================] - 0s 5ms/step - loss: 111.0724 - mae: 111.0724 - mse: 71619.6016 - val_loss: 579.4458 - val_mae: 579.4458 - val_mse: 1193745.5000\n",
            "Epoch 57/100\n",
            "18/18 [==============================] - 0s 5ms/step - loss: 106.5548 - mae: 106.5548 - mse: 69467.6406 - val_loss: 591.4961 - val_mae: 591.4961 - val_mse: 1220848.7500\n",
            "Epoch 58/100\n",
            "18/18 [==============================] - 0s 4ms/step - loss: 107.6098 - mae: 107.6098 - mse: 70500.3203 - val_loss: 586.7795 - val_mae: 586.7795 - val_mse: 1207593.7500\n",
            "Epoch 59/100\n",
            "18/18 [==============================] - 1s 31ms/step - loss: 106.3859 - mae: 106.3859 - mse: 69535.3125 - val_loss: 567.0217 - val_mae: 567.0217 - val_mse: 1170611.8750\n",
            "Epoch 60/100\n",
            "18/18 [==============================] - 0s 4ms/step - loss: 108.3514 - mae: 108.3514 - mse: 70043.1719 - val_loss: 568.7475 - val_mae: 568.7475 - val_mse: 1175213.8750\n",
            "Epoch 61/100\n",
            "18/18 [==============================] - 0s 4ms/step - loss: 111.2384 - mae: 111.2384 - mse: 70245.6016 - val_loss: 602.1292 - val_mae: 602.1292 - val_mse: 1233530.6250\n",
            "Epoch 62/100\n",
            "18/18 [==============================] - 0s 5ms/step - loss: 111.5036 - mae: 111.5036 - mse: 72368.5703 - val_loss: 589.3813 - val_mae: 589.3813 - val_mse: 1208143.3750\n",
            "Epoch 63/100\n",
            "18/18 [==============================] - 0s 4ms/step - loss: 113.4713 - mae: 113.4713 - mse: 71091.1250 - val_loss: 601.3565 - val_mae: 601.3565 - val_mse: 1231032.0000\n",
            "Epoch 64/100\n",
            "18/18 [==============================] - 1s 31ms/step - loss: 109.4656 - mae: 109.4656 - mse: 71083.9453 - val_loss: 566.4476 - val_mae: 566.4476 - val_mse: 1169879.3750\n",
            "Epoch 65/100\n",
            "18/18 [==============================] - 0s 5ms/step - loss: 110.0964 - mae: 110.0964 - mse: 70252.1797 - val_loss: 678.9115 - val_mae: 678.9115 - val_mse: 1408630.7500\n",
            "Epoch 66/100\n",
            "18/18 [==============================] - 0s 4ms/step - loss: 116.8402 - mae: 116.8402 - mse: 74636.2734 - val_loss: 704.8835 - val_mae: 704.8835 - val_mse: 1476726.5000\n",
            "Epoch 67/100\n",
            "18/18 [==============================] - 0s 4ms/step - loss: 123.7178 - mae: 123.7178 - mse: 79542.8906 - val_loss: 573.2450 - val_mae: 573.2450 - val_mse: 1177435.3750\n",
            "Epoch 68/100\n",
            "18/18 [==============================] - 0s 5ms/step - loss: 111.6889 - mae: 111.6889 - mse: 70861.9062 - val_loss: 645.1392 - val_mae: 645.1392 - val_mse: 1342114.1250\n",
            "Epoch 69/100\n",
            "18/18 [==============================] - 0s 5ms/step - loss: 114.8680 - mae: 114.8680 - mse: 74727.6250 - val_loss: 567.4196 - val_mae: 567.4196 - val_mse: 1170322.1250\n",
            "Epoch 70/100\n",
            "18/18 [==============================] - 0s 5ms/step - loss: 106.4775 - mae: 106.4775 - mse: 69551.1094 - val_loss: 609.0700 - val_mae: 609.0700 - val_mse: 1243960.7500\n",
            "Epoch 71/100\n",
            "18/18 [==============================] - 0s 5ms/step - loss: 112.2736 - mae: 112.2736 - mse: 72169.4062 - val_loss: 598.4535 - val_mae: 598.4535 - val_mse: 1232332.8750\n",
            "Epoch 72/100\n",
            "18/18 [==============================] - 0s 4ms/step - loss: 107.0734 - mae: 107.0734 - mse: 69760.7656 - val_loss: 585.1699 - val_mae: 585.1699 - val_mse: 1198424.3750\n",
            "Epoch 73/100\n",
            "18/18 [==============================] - 0s 4ms/step - loss: 108.4570 - mae: 108.4570 - mse: 70549.8750 - val_loss: 612.7205 - val_mae: 612.7205 - val_mse: 1266338.6250\n",
            "Epoch 74/100\n",
            "18/18 [==============================] - 0s 5ms/step - loss: 108.8367 - mae: 108.8367 - mse: 69976.9688 - val_loss: 631.8120 - val_mae: 631.8120 - val_mse: 1292254.6250\n",
            "Epoch 75/100\n",
            "18/18 [==============================] - 0s 8ms/step - loss: 112.8951 - mae: 112.8951 - mse: 71037.3516 - val_loss: 569.7509 - val_mae: 569.7509 - val_mse: 1171254.5000\n",
            "Epoch 76/100\n",
            "18/18 [==============================] - 0s 5ms/step - loss: 105.7192 - mae: 105.7192 - mse: 69517.3125 - val_loss: 568.0529 - val_mae: 568.0529 - val_mse: 1168215.2500\n",
            "Epoch 77/100\n",
            "18/18 [==============================] - 0s 4ms/step - loss: 107.3996 - mae: 107.3996 - mse: 69184.8828 - val_loss: 625.2599 - val_mae: 625.2599 - val_mse: 1294215.6250\n",
            "Epoch 78/100\n",
            "18/18 [==============================] - 0s 4ms/step - loss: 108.4811 - mae: 108.4811 - mse: 70533.4141 - val_loss: 572.3429 - val_mae: 572.3429 - val_mse: 1174867.6250\n",
            "Epoch 79/100\n",
            "18/18 [==============================] - 0s 5ms/step - loss: 106.7386 - mae: 106.7386 - mse: 68039.8516 - val_loss: 572.5206 - val_mae: 572.5206 - val_mse: 1178465.1250\n",
            "Epoch 80/100\n",
            "18/18 [==============================] - 0s 4ms/step - loss: 105.5737 - mae: 105.5737 - mse: 69337.7109 - val_loss: 660.4402 - val_mae: 660.4402 - val_mse: 1352479.7500\n",
            "Epoch 81/100\n",
            "18/18 [==============================] - 0s 4ms/step - loss: 112.6581 - mae: 112.6581 - mse: 70501.9922 - val_loss: 611.8326 - val_mae: 611.8326 - val_mse: 1247125.8750\n",
            "Epoch 82/100\n",
            "18/18 [==============================] - 0s 5ms/step - loss: 109.4501 - mae: 109.4501 - mse: 69491.6406 - val_loss: 605.3458 - val_mae: 605.3458 - val_mse: 1247577.7500\n",
            "Epoch 83/100\n",
            "18/18 [==============================] - 1s 32ms/step - loss: 107.3030 - mae: 107.3030 - mse: 69550.9453 - val_loss: 565.1171 - val_mae: 565.1171 - val_mse: 1161605.0000\n",
            "Epoch 84/100\n",
            "18/18 [==============================] - 0s 4ms/step - loss: 106.8884 - mae: 106.8884 - mse: 69366.8984 - val_loss: 591.4288 - val_mae: 591.4288 - val_mse: 1215903.1250\n",
            "Epoch 85/100\n",
            "18/18 [==============================] - 0s 5ms/step - loss: 106.8163 - mae: 106.8163 - mse: 68036.4844 - val_loss: 618.2662 - val_mae: 618.2662 - val_mse: 1276914.1250\n",
            "Epoch 86/100\n",
            "18/18 [==============================] - 0s 5ms/step - loss: 109.6897 - mae: 109.6897 - mse: 70894.7344 - val_loss: 581.2405 - val_mae: 581.2405 - val_mse: 1195670.0000\n",
            "Epoch 87/100\n",
            "18/18 [==============================] - 0s 5ms/step - loss: 111.4516 - mae: 111.4516 - mse: 73204.2969 - val_loss: 676.1088 - val_mae: 676.1088 - val_mse: 1420806.8750\n",
            "Epoch 88/100\n",
            "18/18 [==============================] - 0s 5ms/step - loss: 109.5135 - mae: 109.5135 - mse: 69363.1172 - val_loss: 637.3965 - val_mae: 637.3965 - val_mse: 1318651.5000\n",
            "Epoch 89/100\n",
            "18/18 [==============================] - 0s 4ms/step - loss: 112.3460 - mae: 112.3460 - mse: 70983.7344 - val_loss: 640.9427 - val_mae: 640.9427 - val_mse: 1330475.2500\n",
            "Epoch 90/100\n",
            "18/18 [==============================] - 0s 5ms/step - loss: 110.0081 - mae: 110.0081 - mse: 72889.9297 - val_loss: 568.2372 - val_mae: 568.2372 - val_mse: 1165790.5000\n",
            "Epoch 91/100\n",
            "18/18 [==============================] - 0s 5ms/step - loss: 105.4116 - mae: 105.4116 - mse: 68278.1797 - val_loss: 585.9047 - val_mae: 585.9047 - val_mse: 1204707.6250\n",
            "Epoch 92/100\n",
            "18/18 [==============================] - 0s 6ms/step - loss: 112.6824 - mae: 112.6824 - mse: 73751.0469 - val_loss: 567.4045 - val_mae: 567.4045 - val_mse: 1165282.7500\n",
            "Epoch 93/100\n",
            "18/18 [==============================] - 0s 5ms/step - loss: 108.3315 - mae: 108.3315 - mse: 70801.0000 - val_loss: 661.0127 - val_mae: 661.0127 - val_mse: 1351308.2500\n",
            "Epoch 94/100\n",
            "18/18 [==============================] - 0s 4ms/step - loss: 114.5789 - mae: 114.5789 - mse: 71997.2734 - val_loss: 622.5397 - val_mae: 622.5397 - val_mse: 1284113.5000\n",
            "Epoch 95/100\n",
            "18/18 [==============================] - 1s 31ms/step - loss: 108.2604 - mae: 108.2604 - mse: 70474.0234 - val_loss: 564.3345 - val_mae: 564.3345 - val_mse: 1157151.0000\n",
            "Epoch 96/100\n",
            "18/18 [==============================] - 0s 4ms/step - loss: 104.5837 - mae: 104.5837 - mse: 67758.9219 - val_loss: 567.0136 - val_mae: 567.0136 - val_mse: 1158577.7500\n",
            "Epoch 97/100\n",
            "18/18 [==============================] - 0s 6ms/step - loss: 110.9169 - mae: 110.9169 - mse: 69899.1250 - val_loss: 594.3990 - val_mae: 594.3990 - val_mse: 1208127.8750\n",
            "Epoch 98/100\n",
            "18/18 [==============================] - 0s 7ms/step - loss: 120.3638 - mae: 120.3638 - mse: 75441.7578 - val_loss: 640.3666 - val_mae: 640.3666 - val_mse: 1303036.5000\n",
            "Epoch 99/100\n",
            "18/18 [==============================] - 0s 6ms/step - loss: 109.3850 - mae: 109.3850 - mse: 69448.6562 - val_loss: 693.9583 - val_mae: 693.9583 - val_mse: 1478399.7500\n",
            "Epoch 100/100\n",
            "18/18 [==============================] - 0s 6ms/step - loss: 112.1248 - mae: 112.1248 - mse: 72546.9297 - val_loss: 586.3583 - val_mae: 586.3583 - val_mse: 1203655.1250\n"
          ]
        }
      ]
    },
    {
      "cell_type": "code",
      "source": [
        "# Load in saved best performing model_1 and evaluate it on test data\n",
        "model_1 = tf.keras.models.load_model(\"/content/model_experiments/model_1_dense\")\n",
        "model_1.evaluate(test_windows, test_labels)"
      ],
      "metadata": {
        "colab": {
          "base_uri": "https://localhost:8080/"
        },
        "id": "nJTClfSzZYRf",
        "outputId": "4d8b9b02-a1ec-4e1f-90ca-be864c9d9f24"
      },
      "execution_count": null,
      "outputs": [
        {
          "output_type": "stream",
          "name": "stdout",
          "text": [
            "18/18 [==============================] - 0s 3ms/step - loss: 564.3345 - mae: 564.3345 - mse: 1157151.0000\n"
          ]
        },
        {
          "output_type": "execute_result",
          "data": {
            "text/plain": [
              "[564.3345336914062, 564.3345336914062, 1157151.0]"
            ]
          },
          "metadata": {},
          "execution_count": 97
        }
      ]
    },
    {
      "cell_type": "markdown",
      "source": [
        "#### Define a forecast function"
      ],
      "metadata": {
        "id": "HMnhW7fmbwVY"
      }
    },
    {
      "cell_type": "code",
      "source": [
        "def make_preds(model, input_data):\n",
        "\n",
        "  forecast = model.predict(input_data)\n",
        "  return tf.squeeze(forecast)"
      ],
      "metadata": {
        "id": "zQ7r0G8yaykW"
      },
      "execution_count": null,
      "outputs": []
    },
    {
      "cell_type": "markdown",
      "source": [
        "#### Predictions"
      ],
      "metadata": {
        "id": "RUroqvFlc3zX"
      }
    },
    {
      "cell_type": "code",
      "source": [
        "model_1_preds = make_preds(model_1, test_windows)\n",
        "model_1_metrics = metrics_dict(test_labels, tf.cast(model_1_preds, dtype=tf.float64))\n",
        "model_1_metrics"
      ],
      "metadata": {
        "colab": {
          "base_uri": "https://localhost:8080/"
        },
        "id": "FCQFvMcUcFGF",
        "outputId": "9595bd82-bfbc-49e3-be57-7b2ec52b0748"
      },
      "execution_count": null,
      "outputs": [
        {
          "output_type": "stream",
          "name": "stdout",
          "text": [
            "18/18 [==============================] - 0s 2ms/step\n"
          ]
        },
        {
          "output_type": "execute_result",
          "data": {
            "text/plain": [
              "{'Mean Absolute Error': 564.3346098017358,\n",
              " 'Mean Absolute Percentage Error': 2.528351635143704,\n",
              " 'MSE': 1157151.4508582186,\n",
              " 'RMSE': 1075.7097428480504,\n",
              " 'MASE': 30.111794573692777}"
            ]
          },
          "metadata": {},
          "execution_count": 99
        }
      ]
    },
    {
      "cell_type": "markdown",
      "source": [
        "#### Plot model 1 predictions"
      ],
      "metadata": {
        "id": "-t_2LsqReg3L"
      }
    },
    {
      "cell_type": "code",
      "source": [
        "offset=300\n",
        "plt.figure(figsize=(10, 7))\n",
        "\n",
        "plot_time_series(x=X_test[-len(test_windows):], y=test_labels[:, 0], start=offset, label=\"Test Data\")\n",
        "\n",
        "plot_time_series(x=X_test[-len(test_windows):], y=model_1_preds, start=offset, label=\"Test Data\", format='-')"
      ],
      "metadata": {
        "colab": {
          "base_uri": "https://localhost:8080/",
          "height": 619
        },
        "id": "3ami5HShdQ0q",
        "outputId": "76ba4df0-9b5e-4f7b-87ea-893930ceeeb8"
      },
      "execution_count": null,
      "outputs": [
        {
          "output_type": "display_data",
          "data": {
            "text/plain": [
              "<Figure size 1000x700 with 1 Axes>"
            ],
            "image/png": "[encoded data removed]"
          },
          "metadata": {}
        }
      ]
    },
    {
      "cell_type": "markdown",
      "source": [
        "## Model 2 | Dense model | (window = 30, horizon = 1)"
      ],
      "metadata": {
        "id": "400jeB1wg_s6"
      }
    },
    {
      "cell_type": "code",
      "source": [
        "# Set up horizon and window size\n",
        "HORIZON = 1\n",
        "WINDOW_SIZE = 30\n",
        "\n",
        "# Create dataset\n",
        "full_windows, full_labels = make_windows(prices, window_size=WINDOW_SIZE, horizon=HORIZON)\n",
        "\n",
        "# Split data\n",
        "train_windows, test_windows, train_labels, test_labels = train_test_split(full_windows, full_labels, shuffle=False, test_size=0.2)"
      ],
      "metadata": {
        "id": "y9hWUma3i2ow"
      },
      "execution_count": null,
      "outputs": []
    },
    {
      "cell_type": "code",
      "source": [
        "# Build\n",
        "model_2 = tf.keras.Sequential([\n",
        "    layers.Dense(128, activation='relu'),\n",
        "    layers.Dense(HORIZON)\n",
        "], name='model_2_dense')\n",
        "\n",
        "# Compile\n",
        "model_2.compile(loss='mae',\n",
        "                optimizer=tf.keras.optimizers.Adam(),\n",
        "                metrics=['mae', 'mse'])\n",
        "\n",
        "# Fit\n",
        "history2 = model_2.fit(train_windows, train_labels,\n",
        "                       validation_data=[test_windows, test_labels],\n",
        "                       epochs=100,\n",
        "                       batch_size=128,\n",
        "                       callbacks=create_model_checkpoint(model_name=model_2.name))"
      ],
      "metadata": {
        "colab": {
          "base_uri": "https://localhost:8080/"
        },
        "id": "hthV3t26gLtE",
        "outputId": "46a0e5cf-8efe-40be-811f-f10eaf09d163"
      },
      "execution_count": null,
      "outputs": [
        {
          "output_type": "stream",
          "name": "stdout",
          "text": [
            "Epoch 1/100\n",
            "18/18 [==============================] - 2s 53ms/step - loss: 703.2445 - mae: 703.2445 - mse: 1940863.3750 - val_loss: 2319.5146 - val_mae: 2319.5146 - val_mse: 13436218.0000\n",
            "Epoch 2/100\n",
            "18/18 [==============================] - 1s 32ms/step - loss: 362.6367 - mae: 362.6367 - mse: 577968.4375 - val_loss: 1596.7113 - val_mae: 1596.7113 - val_mse: 6724601.0000\n",
            "Epoch 3/100\n",
            "18/18 [==============================] - 1s 31ms/step - loss: 225.6287 - mae: 225.6287 - mse: 244342.4219 - val_loss: 1111.2222 - val_mae: 1111.2222 - val_mse: 3771647.0000\n",
            "Epoch 4/100\n",
            "18/18 [==============================] - 1s 33ms/step - loss: 196.8226 - mae: 196.8226 - mse: 195441.1719 - val_loss: 1108.5819 - val_mae: 1108.5819 - val_mse: 4074163.0000\n",
            "Epoch 5/100\n",
            "18/18 [==============================] - 1s 34ms/step - loss: 203.8468 - mae: 203.8468 - mse: 196545.7344 - val_loss: 1025.7885 - val_mae: 1025.7885 - val_mse: 3257074.0000\n",
            "Epoch 6/100\n",
            "18/18 [==============================] - 1s 64ms/step - loss: 184.4782 - mae: 184.4782 - mse: 166261.8125 - val_loss: 956.4124 - val_mae: 956.4124 - val_mse: 3007002.5000\n",
            "Epoch 7/100\n",
            "18/18 [==============================] - 1s 34ms/step - loss: 170.6747 - mae: 170.6747 - mse: 148491.9844 - val_loss: 930.2900 - val_mae: 930.2900 - val_mse: 2866574.5000\n",
            "Epoch 8/100\n",
            "18/18 [==============================] - 1s 34ms/step - loss: 162.8325 - mae: 162.8325 - mse: 136858.9531 - val_loss: 896.0157 - val_mae: 896.0157 - val_mse: 2658924.0000\n",
            "Epoch 9/100\n",
            "18/18 [==============================] - 0s 5ms/step - loss: 173.5847 - mae: 173.5847 - mse: 145300.2969 - val_loss: 1248.1469 - val_mae: 1248.1469 - val_mse: 4601340.5000\n",
            "Epoch 10/100\n",
            "18/18 [==============================] - 1s 32ms/step - loss: 178.1878 - mae: 178.1878 - mse: 140984.2500 - val_loss: 864.0494 - val_mae: 864.0494 - val_mse: 2398378.0000\n",
            "Epoch 11/100\n",
            "18/18 [==============================] - 0s 4ms/step - loss: 186.8602 - mae: 186.8602 - mse: 154884.6406 - val_loss: 1162.8555 - val_mae: 1162.8555 - val_mse: 3482502.0000\n",
            "Epoch 12/100\n",
            "18/18 [==============================] - 0s 4ms/step - loss: 188.7869 - mae: 188.7869 - mse: 158136.7656 - val_loss: 991.4589 - val_mae: 991.4589 - val_mse: 2721885.2500\n",
            "Epoch 13/100\n",
            "18/18 [==============================] - 0s 4ms/step - loss: 160.9377 - mae: 160.9377 - mse: 128594.9062 - val_loss: 980.0449 - val_mae: 980.0449 - val_mse: 2657854.2500\n",
            "Epoch 14/100\n",
            "18/18 [==============================] - 1s 31ms/step - loss: 155.7671 - mae: 155.7671 - mse: 118228.2500 - val_loss: 804.7254 - val_mae: 804.7254 - val_mse: 2135579.2500\n",
            "Epoch 15/100\n",
            "18/18 [==============================] - 0s 6ms/step - loss: 143.0026 - mae: 143.0026 - mse: 108382.9141 - val_loss: 1081.7133 - val_mae: 1081.7133 - val_mse: 3051967.5000\n",
            "Epoch 16/100\n",
            "18/18 [==============================] - 1s 31ms/step - loss: 156.4741 - mae: 156.4741 - mse: 116434.6016 - val_loss: 797.6739 - val_mae: 797.6738 - val_mse: 2013294.8750\n",
            "Epoch 17/100\n",
            "18/18 [==============================] - 1s 32ms/step - loss: 137.0998 - mae: 137.0998 - mse: 101710.1250 - val_loss: 785.1993 - val_mae: 785.1993 - val_mse: 2035310.3750\n",
            "Epoch 18/100\n",
            "18/18 [==============================] - 0s 4ms/step - loss: 142.1766 - mae: 142.1766 - mse: 105016.8516 - val_loss: 901.6858 - val_mae: 901.6858 - val_mse: 2308337.2500\n",
            "Epoch 19/100\n",
            "18/18 [==============================] - 1s 31ms/step - loss: 151.1327 - mae: 151.1327 - mse: 110265.9531 - val_loss: 771.7078 - val_mae: 771.7078 - val_mse: 1885168.6250\n",
            "Epoch 20/100\n",
            "18/18 [==============================] - 0s 5ms/step - loss: 141.7407 - mae: 141.7407 - mse: 102906.5625 - val_loss: 1213.0237 - val_mae: 1213.0237 - val_mse: 3590424.0000\n",
            "Epoch 21/100\n",
            "18/18 [==============================] - 1s 31ms/step - loss: 154.5982 - mae: 154.5982 - mse: 111166.1406 - val_loss: 758.4195 - val_mae: 758.4195 - val_mse: 1827084.3750\n",
            "Epoch 22/100\n",
            "18/18 [==============================] - 0s 4ms/step - loss: 137.9100 - mae: 137.9100 - mse: 102162.6016 - val_loss: 911.8752 - val_mae: 911.8752 - val_mse: 2302501.0000\n",
            "Epoch 23/100\n",
            "18/18 [==============================] - 0s 5ms/step - loss: 145.4080 - mae: 145.4080 - mse: 105812.1016 - val_loss: 774.3447 - val_mae: 774.3447 - val_mse: 1847615.1250\n",
            "Epoch 24/100\n",
            "18/18 [==============================] - 0s 5ms/step - loss: 131.5063 - mae: 131.5063 - mse: 92826.6094 - val_loss: 823.7715 - val_mae: 823.7715 - val_mse: 1991501.5000\n",
            "Epoch 25/100\n",
            "18/18 [==============================] - 0s 5ms/step - loss: 150.1403 - mae: 150.1403 - mse: 108038.5469 - val_loss: 843.6296 - val_mae: 843.6296 - val_mse: 2052977.6250\n",
            "Epoch 26/100\n",
            "18/18 [==============================] - 0s 4ms/step - loss: 155.1836 - mae: 155.1836 - mse: 113099.5781 - val_loss: 1082.7635 - val_mae: 1082.7635 - val_mse: 3282035.5000\n",
            "Epoch 27/100\n",
            "18/18 [==============================] - 1s 33ms/step - loss: 190.4860 - mae: 190.4860 - mse: 143518.7031 - val_loss: 713.3297 - val_mae: 713.3297 - val_mse: 1667352.3750\n",
            "Epoch 28/100\n",
            "18/18 [==============================] - 0s 5ms/step - loss: 129.9961 - mae: 129.9961 - mse: 91142.9922 - val_loss: 718.7159 - val_mae: 718.7159 - val_mse: 1688626.3750\n",
            "Epoch 29/100\n",
            "18/18 [==============================] - 0s 4ms/step - loss: 132.0461 - mae: 132.0461 - mse: 91948.6953 - val_loss: 918.1658 - val_mae: 918.1658 - val_mse: 2311309.2500\n",
            "Epoch 30/100\n",
            "18/18 [==============================] - 0s 7ms/step - loss: 135.5305 - mae: 135.5305 - mse: 93632.8828 - val_loss: 982.9468 - val_mae: 982.9468 - val_mse: 2817502.2500\n",
            "Epoch 31/100\n",
            "18/18 [==============================] - 0s 8ms/step - loss: 144.4241 - mae: 144.4241 - mse: 103444.6094 - val_loss: 716.4417 - val_mae: 716.4417 - val_mse: 1659671.0000\n",
            "Epoch 32/100\n",
            "18/18 [==============================] - 0s 7ms/step - loss: 130.1161 - mae: 130.1161 - mse: 89474.1562 - val_loss: 829.5620 - val_mae: 829.5620 - val_mse: 1975231.5000\n",
            "Epoch 33/100\n",
            "18/18 [==============================] - 0s 10ms/step - loss: 136.3067 - mae: 136.3067 - mse: 95545.2500 - val_loss: 1067.1023 - val_mae: 1067.1023 - val_mse: 3168710.7500\n",
            "Epoch 34/100\n",
            "18/18 [==============================] - 0s 8ms/step - loss: 154.5894 - mae: 154.5894 - mse: 111507.6562 - val_loss: 1033.8539 - val_mae: 1033.8539 - val_mse: 2984486.5000\n",
            "Epoch 35/100\n",
            "18/18 [==============================] - 0s 6ms/step - loss: 155.2433 - mae: 155.2433 - mse: 106456.4688 - val_loss: 812.7453 - val_mae: 812.7453 - val_mse: 2069951.7500\n",
            "Epoch 36/100\n",
            "18/18 [==============================] - 1s 44ms/step - loss: 141.5080 - mae: 141.5080 - mse: 95871.6406 - val_loss: 694.4738 - val_mae: 694.4738 - val_mse: 1611122.6250\n",
            "Epoch 37/100\n",
            "18/18 [==============================] - 1s 48ms/step - loss: 126.7735 - mae: 126.7735 - mse: 87756.6250 - val_loss: 676.9628 - val_mae: 676.9628 - val_mse: 1526781.8750\n",
            "Epoch 38/100\n",
            "18/18 [==============================] - 0s 8ms/step - loss: 133.7307 - mae: 133.7307 - mse: 89475.2031 - val_loss: 703.1936 - val_mae: 703.1936 - val_mse: 1583988.1250\n",
            "Epoch 39/100\n",
            "18/18 [==============================] - 0s 8ms/step - loss: 125.5790 - mae: 125.5790 - mse: 84129.7188 - val_loss: 865.5618 - val_mae: 865.5618 - val_mse: 2262486.7500\n",
            "Epoch 40/100\n",
            "18/18 [==============================] - 0s 7ms/step - loss: 136.8535 - mae: 136.8535 - mse: 92700.9453 - val_loss: 852.0235 - val_mae: 852.0235 - val_mse: 2023739.1250\n",
            "Epoch 41/100\n",
            "18/18 [==============================] - 0s 7ms/step - loss: 123.1748 - mae: 123.1748 - mse: 82398.7734 - val_loss: 829.1035 - val_mae: 829.1035 - val_mse: 2110191.7500\n",
            "Epoch 42/100\n",
            "18/18 [==============================] - 0s 7ms/step - loss: 138.3617 - mae: 138.3617 - mse: 95433.4922 - val_loss: 775.1668 - val_mae: 775.1668 - val_mse: 1767714.5000\n",
            "Epoch 43/100\n",
            "18/18 [==============================] - 0s 8ms/step - loss: 134.5473 - mae: 134.5473 - mse: 91129.4375 - val_loss: 692.8543 - val_mae: 692.8543 - val_mse: 1603205.5000\n",
            "Epoch 44/100\n",
            "18/18 [==============================] - 0s 7ms/step - loss: 121.9383 - mae: 121.9383 - mse: 80418.1562 - val_loss: 783.2228 - val_mae: 783.2228 - val_mse: 1786694.3750\n",
            "Epoch 45/100\n",
            "18/18 [==============================] - 0s 8ms/step - loss: 121.7873 - mae: 121.7873 - mse: 82339.2969 - val_loss: 706.2364 - val_mae: 706.2364 - val_mse: 1571016.3750\n",
            "Epoch 46/100\n",
            "18/18 [==============================] - 0s 6ms/step - loss: 126.5698 - mae: 126.5698 - mse: 85008.2422 - val_loss: 870.0181 - val_mae: 870.0181 - val_mse: 2247269.2500\n",
            "Epoch 47/100\n",
            "18/18 [==============================] - 0s 6ms/step - loss: 130.1309 - mae: 130.1309 - mse: 89371.8984 - val_loss: 691.4098 - val_mae: 691.4098 - val_mse: 1527017.2500\n",
            "Epoch 48/100\n",
            "18/18 [==============================] - 0s 5ms/step - loss: 124.7912 - mae: 124.7912 - mse: 84656.4062 - val_loss: 729.9885 - val_mae: 729.9885 - val_mse: 1624393.7500\n",
            "Epoch 49/100\n",
            "18/18 [==============================] - 0s 5ms/step - loss: 131.2103 - mae: 131.2103 - mse: 87006.7969 - val_loss: 831.3417 - val_mae: 831.3417 - val_mse: 2115384.0000\n",
            "Epoch 50/100\n",
            "18/18 [==============================] - 0s 4ms/step - loss: 131.1207 - mae: 131.1207 - mse: 89280.1172 - val_loss: 739.3142 - val_mae: 739.3142 - val_mse: 1646615.1250\n",
            "Epoch 51/100\n",
            "18/18 [==============================] - 0s 4ms/step - loss: 134.3443 - mae: 134.3443 - mse: 89207.1562 - val_loss: 690.6339 - val_mae: 690.6339 - val_mse: 1568687.7500\n",
            "Epoch 52/100\n",
            "18/18 [==============================] - 1s 31ms/step - loss: 137.5201 - mae: 137.5201 - mse: 87286.7344 - val_loss: 675.6370 - val_mae: 675.6370 - val_mse: 1530780.5000\n",
            "Epoch 53/100\n",
            "18/18 [==============================] - 1s 32ms/step - loss: 127.6520 - mae: 127.6520 - mse: 84305.6328 - val_loss: 660.2540 - val_mae: 660.2540 - val_mse: 1481857.6250\n",
            "Epoch 54/100\n",
            "18/18 [==============================] - 0s 5ms/step - loss: 124.3036 - mae: 124.3036 - mse: 80964.6641 - val_loss: 748.7946 - val_mae: 748.7946 - val_mse: 1771705.3750\n",
            "Epoch 55/100\n",
            "18/18 [==============================] - 0s 5ms/step - loss: 139.2360 - mae: 139.2360 - mse: 94885.6406 - val_loss: 708.4062 - val_mae: 708.4062 - val_mse: 1553573.1250\n",
            "Epoch 56/100\n",
            "18/18 [==============================] - 0s 5ms/step - loss: 125.0904 - mae: 125.0904 - mse: 84691.7188 - val_loss: 1088.5254 - val_mae: 1088.5254 - val_mse: 2865222.0000\n",
            "Epoch 57/100\n",
            "18/18 [==============================] - 0s 6ms/step - loss: 148.6470 - mae: 148.6470 - mse: 103852.7266 - val_loss: 1262.2079 - val_mae: 1262.2079 - val_mse: 3624452.2500\n",
            "Epoch 58/100\n",
            "18/18 [==============================] - 1s 33ms/step - loss: 143.1398 - mae: 143.1398 - mse: 94073.0156 - val_loss: 658.2265 - val_mae: 658.2265 - val_mse: 1431037.8750\n",
            "Epoch 59/100\n",
            "18/18 [==============================] - 0s 5ms/step - loss: 118.1194 - mae: 118.1194 - mse: 77764.0234 - val_loss: 824.6527 - val_mae: 824.6527 - val_mse: 1896799.2500\n",
            "Epoch 60/100\n",
            "18/18 [==============================] - 0s 4ms/step - loss: 142.5891 - mae: 142.5891 - mse: 102280.5078 - val_loss: 675.2545 - val_mae: 675.2545 - val_mse: 1456338.3750\n",
            "Epoch 61/100\n",
            "18/18 [==============================] - 0s 5ms/step - loss: 137.8478 - mae: 137.8478 - mse: 88532.4609 - val_loss: 703.3685 - val_mae: 703.3685 - val_mse: 1578992.6250\n",
            "Epoch 62/100\n",
            "18/18 [==============================] - 1s 33ms/step - loss: 137.6218 - mae: 137.6218 - mse: 91986.9062 - val_loss: 658.0163 - val_mae: 658.0163 - val_mse: 1412627.5000\n",
            "Epoch 63/100\n",
            "18/18 [==============================] - 0s 4ms/step - loss: 121.9498 - mae: 121.9498 - mse: 78738.4609 - val_loss: 699.6973 - val_mae: 699.6973 - val_mse: 1575791.2500\n",
            "Epoch 64/100\n",
            "18/18 [==============================] - 0s 5ms/step - loss: 126.9588 - mae: 126.9588 - mse: 81694.2812 - val_loss: 752.6559 - val_mae: 752.6559 - val_mse: 1661967.5000\n",
            "Epoch 65/100\n",
            "18/18 [==============================] - 0s 5ms/step - loss: 153.1197 - mae: 153.1197 - mse: 109170.0703 - val_loss: 805.6808 - val_mae: 805.6808 - val_mse: 1825737.0000\n",
            "Epoch 66/100\n",
            "18/18 [==============================] - 0s 5ms/step - loss: 130.9457 - mae: 130.9457 - mse: 84730.7656 - val_loss: 711.0970 - val_mae: 711.0970 - val_mse: 1544670.1250\n",
            "Epoch 67/100\n",
            "18/18 [==============================] - 0s 4ms/step - loss: 117.3778 - mae: 117.3778 - mse: 78067.6016 - val_loss: 1157.8871 - val_mae: 1157.8871 - val_mse: 3140384.5000\n",
            "Epoch 68/100\n",
            "18/18 [==============================] - 0s 6ms/step - loss: 160.5386 - mae: 160.5386 - mse: 116079.0000 - val_loss: 782.0264 - val_mae: 782.0264 - val_mse: 1742568.3750\n",
            "Epoch 69/100\n",
            "18/18 [==============================] - 0s 5ms/step - loss: 119.0258 - mae: 119.0258 - mse: 75905.6328 - val_loss: 667.4620 - val_mae: 667.4620 - val_mse: 1468524.7500\n",
            "Epoch 70/100\n",
            "18/18 [==============================] - 1s 31ms/step - loss: 133.9222 - mae: 133.9222 - mse: 89943.6484 - val_loss: 647.3690 - val_mae: 647.3690 - val_mse: 1379394.8750\n",
            "Epoch 71/100\n",
            "18/18 [==============================] - 0s 5ms/step - loss: 117.8208 - mae: 117.8208 - mse: 76920.5859 - val_loss: 781.1497 - val_mae: 781.1497 - val_mse: 1742346.6250\n",
            "Epoch 72/100\n",
            "18/18 [==============================] - 0s 4ms/step - loss: 123.3830 - mae: 123.3830 - mse: 78673.7031 - val_loss: 850.0565 - val_mae: 850.0565 - val_mse: 1974492.7500\n",
            "Epoch 73/100\n",
            "18/18 [==============================] - 0s 5ms/step - loss: 138.1537 - mae: 138.1537 - mse: 88837.9375 - val_loss: 689.9334 - val_mae: 689.9334 - val_mse: 1535321.2500\n",
            "Epoch 74/100\n",
            "18/18 [==============================] - 0s 5ms/step - loss: 119.0562 - mae: 119.0562 - mse: 76628.1953 - val_loss: 814.0601 - val_mae: 814.0601 - val_mse: 1843831.6250\n",
            "Epoch 75/100\n",
            "18/18 [==============================] - 1s 32ms/step - loss: 120.4911 - mae: 120.4911 - mse: 77362.8984 - val_loss: 630.4451 - val_mae: 630.4451 - val_mse: 1361640.1250\n",
            "Epoch 76/100\n",
            "18/18 [==============================] - 0s 4ms/step - loss: 120.0036 - mae: 120.0036 - mse: 76547.8047 - val_loss: 645.8404 - val_mae: 645.8404 - val_mse: 1365248.3750\n",
            "Epoch 77/100\n",
            "18/18 [==============================] - 1s 29ms/step - loss: 136.2765 - mae: 136.2765 - mse: 87124.8203 - val_loss: 615.6873 - val_mae: 615.6873 - val_mse: 1315550.6250\n",
            "Epoch 78/100\n",
            "18/18 [==============================] - 0s 4ms/step - loss: 119.6007 - mae: 119.6007 - mse: 78332.8984 - val_loss: 619.5558 - val_mae: 619.5558 - val_mse: 1321002.3750\n",
            "Epoch 79/100\n",
            "18/18 [==============================] - 0s 5ms/step - loss: 113.7534 - mae: 113.7534 - mse: 75081.5156 - val_loss: 700.9005 - val_mae: 700.9005 - val_mse: 1558256.2500\n",
            "Epoch 80/100\n",
            "18/18 [==============================] - 0s 4ms/step - loss: 127.1649 - mae: 127.1649 - mse: 82495.9531 - val_loss: 671.9915 - val_mae: 671.9915 - val_mse: 1424863.0000\n",
            "Epoch 81/100\n",
            "18/18 [==============================] - 0s 5ms/step - loss: 158.6514 - mae: 158.6514 - mse: 108960.5078 - val_loss: 920.5179 - val_mae: 920.5179 - val_mse: 2205784.2500\n",
            "Epoch 82/100\n",
            "18/18 [==============================] - 0s 5ms/step - loss: 133.4725 - mae: 133.4725 - mse: 86905.5156 - val_loss: 690.6584 - val_mae: 690.6584 - val_mse: 1526367.2500\n",
            "Epoch 83/100\n",
            "18/18 [==============================] - 0s 5ms/step - loss: 134.0877 - mae: 134.0877 - mse: 87475.0547 - val_loss: 845.2603 - val_mae: 845.2603 - val_mse: 2052618.6250\n",
            "Epoch 84/100\n",
            "18/18 [==============================] - 0s 5ms/step - loss: 130.1694 - mae: 130.1694 - mse: 83421.0234 - val_loss: 621.9147 - val_mae: 621.9147 - val_mse: 1330632.7500\n",
            "Epoch 85/100\n",
            "18/18 [==============================] - 0s 4ms/step - loss: 117.1358 - mae: 117.1358 - mse: 75108.4531 - val_loss: 892.1463 - val_mae: 892.1463 - val_mse: 2234833.2500\n",
            "Epoch 86/100\n",
            "18/18 [==============================] - 0s 5ms/step - loss: 150.6095 - mae: 150.6095 - mse: 101550.9375 - val_loss: 618.6747 - val_mae: 618.6747 - val_mse: 1320893.6250\n",
            "Epoch 87/100\n",
            "18/18 [==============================] - 0s 5ms/step - loss: 118.4948 - mae: 118.4948 - mse: 76743.1484 - val_loss: 681.0686 - val_mae: 681.0686 - val_mse: 1502225.6250\n",
            "Epoch 88/100\n",
            "18/18 [==============================] - 1s 30ms/step - loss: 118.2430 - mae: 118.2430 - mse: 74755.0859 - val_loss: 608.5478 - val_mae: 608.5478 - val_mse: 1286436.1250\n",
            "Epoch 89/100\n",
            "18/18 [==============================] - 0s 5ms/step - loss: 113.2354 - mae: 113.2354 - mse: 72321.3516 - val_loss: 758.5253 - val_mae: 758.5253 - val_mse: 1656742.7500\n",
            "Epoch 90/100\n",
            "18/18 [==============================] - 0s 5ms/step - loss: 130.1669 - mae: 130.1669 - mse: 82418.3594 - val_loss: 707.1183 - val_mae: 707.1183 - val_mse: 1510868.3750\n",
            "Epoch 91/100\n",
            "18/18 [==============================] - 0s 5ms/step - loss: 113.7770 - mae: 113.7770 - mse: 74324.0312 - val_loss: 608.9460 - val_mae: 608.9460 - val_mse: 1283596.1250\n",
            "Epoch 92/100\n",
            "18/18 [==============================] - 0s 5ms/step - loss: 118.5249 - mae: 118.5249 - mse: 74127.1875 - val_loss: 691.6337 - val_mae: 691.6337 - val_mse: 1526278.5000\n",
            "Epoch 93/100\n",
            "18/18 [==============================] - 0s 5ms/step - loss: 132.4113 - mae: 132.4113 - mse: 87984.4141 - val_loss: 997.2699 - val_mae: 997.2699 - val_mse: 2480340.2500\n",
            "Epoch 94/100\n",
            "18/18 [==============================] - 0s 4ms/step - loss: 119.0204 - mae: 119.0204 - mse: 74511.8516 - val_loss: 621.2019 - val_mae: 621.2019 - val_mse: 1303394.5000\n",
            "Epoch 95/100\n",
            "18/18 [==============================] - 0s 5ms/step - loss: 117.5549 - mae: 117.5549 - mse: 75498.7891 - val_loss: 664.5633 - val_mae: 664.5633 - val_mse: 1401902.1250\n",
            "Epoch 96/100\n",
            "18/18 [==============================] - 0s 5ms/step - loss: 131.2974 - mae: 131.2974 - mse: 83860.8359 - val_loss: 802.7152 - val_mae: 802.7152 - val_mse: 1796055.8750\n",
            "Epoch 97/100\n",
            "18/18 [==============================] - 0s 4ms/step - loss: 130.4345 - mae: 130.4345 - mse: 83258.8594 - val_loss: 621.2586 - val_mae: 621.2586 - val_mse: 1330485.6250\n",
            "Epoch 98/100\n",
            "18/18 [==============================] - 0s 4ms/step - loss: 122.4439 - mae: 122.4439 - mse: 83172.9219 - val_loss: 638.9226 - val_mae: 638.9226 - val_mse: 1364219.1250\n",
            "Epoch 99/100\n",
            "18/18 [==============================] - 0s 5ms/step - loss: 113.6766 - mae: 113.6766 - mse: 74507.9609 - val_loss: 784.9265 - val_mae: 784.9265 - val_mse: 1731673.0000\n",
            "Epoch 100/100\n",
            "18/18 [==============================] - 0s 5ms/step - loss: 137.4470 - mae: 137.4470 - mse: 87187.4922 - val_loss: 1099.9915 - val_mae: 1099.9915 - val_mse: 2888072.7500\n"
          ]
        }
      ]
    },
    {
      "cell_type": "markdown",
      "source": [
        "#### Predictions"
      ],
      "metadata": {
        "id": "nl1UyGIzjrqI"
      }
    },
    {
      "cell_type": "code",
      "source": [
        "model_2 = tf.keras.models.load_model('/content/model_experiments/model_2_dense')\n",
        "model_2_preds = model_2.predict(test_windows)"
      ],
      "metadata": {
        "colab": {
          "base_uri": "https://localhost:8080/"
        },
        "id": "xXbZbHgsjunj",
        "outputId": "13a05f3a-4580-4602-f9f8-4566fc8e1965"
      },
      "execution_count": null,
      "outputs": [
        {
          "output_type": "stream",
          "name": "stdout",
          "text": [
            "18/18 [==============================] - 0s 2ms/step\n"
          ]
        }
      ]
    },
    {
      "cell_type": "code",
      "source": [
        "model_2_metrics = metrics_dict(test_labels, model_2_preds)\n",
        "model_2_metrics"
      ],
      "metadata": {
        "colab": {
          "base_uri": "https://localhost:8080/"
        },
        "id": "rkFmP8G-rsIt",
        "outputId": "b67648c7-21d0-41e0-aaed-6a4697b1a65f"
      },
      "execution_count": null,
      "outputs": [
        {
          "output_type": "execute_result",
          "data": {
            "text/plain": [
              "{'Mean Absolute Error': 608.5477314066446,\n",
              " 'Mean Absolute Percentage Error': 2.7530859617635093,\n",
              " 'MSE': 1286435.9986967738,\n",
              " 'RMSE': 1134.2116198914441,\n",
              " 'MASE': 1.0637473169416323}"
            ]
          },
          "metadata": {},
          "execution_count": 104
        }
      ]
    },
    {
      "cell_type": "markdown",
      "source": [
        "#### Plot model 2 predictions"
      ],
      "metadata": {
        "id": "hL_ODtgTruC3"
      }
    },
    {
      "cell_type": "code",
      "source": [
        "# Plot\n",
        "offset = 300\n",
        "plt.figure(figsize=(10, 7))\n",
        "\n",
        "plot_time_series(x=X_test[-len(test_windows):], y=test_labels[:, 0], start=offset, label=\"Test Data\", format='-')\n",
        "plot_time_series(x=X_test[-len(test_windows):], y=model_2_preds, start=offset, label=\"Test Data\")"
      ],
      "metadata": {
        "colab": {
          "base_uri": "https://localhost:8080/",
          "height": 619
        },
        "id": "bUMvpaosjf8x",
        "outputId": "0ae9e59c-fe80-49a4-b937-fb94201f8c5f"
      },
      "execution_count": null,
      "outputs": [
        {
          "output_type": "display_data",
          "data": {
            "text/plain": [
              "<Figure size 1000x700 with 1 Axes>"
            ],
            "image/png": "[encoded data removed]"
          },
          "metadata": {}
        }
      ]
    },
    {
      "cell_type": "markdown",
      "source": [
        "## Model 3 | Dense model | (horizon = 30, window = 7)"
      ],
      "metadata": {
        "id": "dnEmItchpiiF"
      }
    },
    {
      "cell_type": "markdown",
      "source": [
        "train_test_split won't work for horizons greater than 1. We need to define our own function."
      ],
      "metadata": {
        "id": "lMHSTLkHz63M"
      }
    },
    {
      "cell_type": "code",
      "source": [
        "def make_train_test_splits(windows, labels, test_split=0.2):\n",
        "  \"\"\"\n",
        "  Splits matching pairs of windows and labels into train and test splits.\n",
        "  \"\"\"\n",
        "  split_size = int(len(windows) * (1-test_split)) # this will default to 80% train/20% test\n",
        "  train_windows = windows[:split_size]\n",
        "  train_labels = labels[:split_size]\n",
        "  test_windows = windows[split_size:]\n",
        "  test_labels = labels[split_size:]\n",
        "  return train_windows, test_windows, train_labels, test_labels"
      ],
      "metadata": {
        "id": "lA8Y4zfdz6lv"
      },
      "execution_count": null,
      "outputs": []
    },
    {
      "cell_type": "code",
      "source": [
        "# Set up horizon and window size\n",
        "HORIZON = 7\n",
        "WINDOW_SIZE = 30\n",
        "\n",
        "# Create dataset\n",
        "full_windows, full_labels = make_windows(prices, window_size=WINDOW_SIZE, horizon=HORIZON)\n",
        "\n",
        "# Split dataset\n",
        "train_windows, test_windows, train_labels, test_labels = train_test_split(full_windows, full_labels, test_size=0.2, shuffle=False)"
      ],
      "metadata": {
        "id": "zhN-0hvfktQL"
      },
      "execution_count": null,
      "outputs": []
    },
    {
      "cell_type": "code",
      "source": [
        "# Build\n",
        "model_3 = tf.keras.Sequential([\n",
        "    layers.Dense(128, activation='relu'),\n",
        "    layers.Dense(HORIZON)\n",
        "], name='model_3_dense')\n",
        "\n",
        "# Compile\n",
        "model_3.compile(loss='mae',\n",
        "                optimizer=tf.keras.optimizers.Adam(),\n",
        "                metrics=['mae', 'mse'])\n",
        "\n",
        "# Fit\n",
        "history3 = model_3.fit(train_windows, train_labels,\n",
        "                       validation_data=[test_windows, test_labels],\n",
        "                       epochs=100,\n",
        "                       batch_size=128,\n",
        "                       callbacks=[create_model_checkpoint(model_name=model_3.name)])"
      ],
      "metadata": {
        "colab": {
          "base_uri": "https://localhost:8080/"
        },
        "id": "IEtt_W4Mt43k",
        "outputId": "41271f63-8a0a-4753-b261-e3bc05bbfd01"
      },
      "execution_count": null,
      "outputs": [
        {
          "output_type": "stream",
          "name": "stdout",
          "text": [
            "Epoch 1/100\n",
            "18/18 [==============================] - 1s 44ms/step - loss: 1980.1168 - mae: 1980.1168 - mse: 16932590.0000 - val_loss: 3803.8960 - val_mae: 3803.8960 - val_mse: 42654876.0000\n",
            "Epoch 2/100\n",
            "18/18 [==============================] - 1s 32ms/step - loss: 546.3437 - mae: 546.3437 - mse: 1358577.2500 - val_loss: 2120.9160 - val_mae: 2120.9160 - val_mse: 13241179.0000\n",
            "Epoch 3/100\n",
            "18/18 [==============================] - 1s 32ms/step - loss: 410.1383 - mae: 410.1383 - mse: 808149.0625 - val_loss: 2116.3069 - val_mae: 2116.3069 - val_mse: 13268442.0000\n",
            "Epoch 4/100\n",
            "18/18 [==============================] - 0s 5ms/step - loss: 378.2889 - mae: 378.2889 - mse: 706826.5000 - val_loss: 2118.0974 - val_mae: 2118.0974 - val_mse: 12788365.0000\n",
            "Epoch 5/100\n",
            "18/18 [==============================] - 1s 32ms/step - loss: 354.1234 - mae: 354.1234 - mse: 611640.8125 - val_loss: 1763.9180 - val_mae: 1763.9180 - val_mse: 9652607.0000\n",
            "Epoch 6/100\n",
            "18/18 [==============================] - 1s 30ms/step - loss: 331.7407 - mae: 331.7407 - mse: 543888.8125 - val_loss: 1740.6949 - val_mae: 1740.6949 - val_mse: 9142152.0000\n",
            "Epoch 7/100\n",
            "18/18 [==============================] - 1s 33ms/step - loss: 312.2425 - mae: 312.2425 - mse: 487016.5938 - val_loss: 1568.5186 - val_mae: 1568.5186 - val_mse: 7847296.5000\n",
            "Epoch 8/100\n",
            "18/18 [==============================] - 1s 31ms/step - loss: 296.1485 - mae: 296.1485 - mse: 446492.0625 - val_loss: 1520.2933 - val_mae: 1520.2933 - val_mse: 7380660.5000\n",
            "Epoch 9/100\n",
            "18/18 [==============================] - 0s 4ms/step - loss: 288.1750 - mae: 288.1750 - mse: 421292.3125 - val_loss: 1524.8657 - val_mae: 1524.8657 - val_mse: 7371964.5000\n",
            "Epoch 10/100\n",
            "18/18 [==============================] - 1s 75ms/step - loss: 279.9194 - mae: 279.9194 - mse: 399840.9062 - val_loss: 1442.7258 - val_mae: 1442.7258 - val_mse: 6865681.5000\n",
            "Epoch 11/100\n",
            "18/18 [==============================] - 0s 8ms/step - loss: 283.5040 - mae: 283.5040 - mse: 407158.9062 - val_loss: 1470.9178 - val_mae: 1470.9178 - val_mse: 7001943.0000\n",
            "Epoch 12/100\n",
            "18/18 [==============================] - 1s 49ms/step - loss: 276.9619 - mae: 276.9619 - mse: 386171.2812 - val_loss: 1439.9036 - val_mae: 1439.9036 - val_mse: 6745142.5000\n",
            "Epoch 13/100\n",
            "18/18 [==============================] - 0s 8ms/step - loss: 271.1800 - mae: 271.1800 - mse: 375197.4375 - val_loss: 1452.2197 - val_mae: 1452.2197 - val_mse: 6836551.5000\n",
            "Epoch 14/100\n",
            "18/18 [==============================] - 1s 51ms/step - loss: 272.4417 - mae: 272.4417 - mse: 375409.4688 - val_loss: 1421.9572 - val_mae: 1421.9572 - val_mse: 6655894.0000\n",
            "Epoch 15/100\n",
            "18/18 [==============================] - 0s 8ms/step - loss: 263.3661 - mae: 263.3661 - mse: 356710.4062 - val_loss: 1542.9611 - val_mae: 1542.9611 - val_mse: 7364206.0000\n",
            "Epoch 16/100\n",
            "18/18 [==============================] - 1s 50ms/step - loss: 263.4049 - mae: 263.4049 - mse: 358178.1250 - val_loss: 1409.3560 - val_mae: 1409.3560 - val_mse: 6512719.0000\n",
            "Epoch 17/100\n",
            "18/18 [==============================] - 0s 5ms/step - loss: 263.6982 - mae: 263.6982 - mse: 357258.3125 - val_loss: 1416.2336 - val_mae: 1416.2336 - val_mse: 6601777.5000\n",
            "Epoch 18/100\n",
            "18/18 [==============================] - 0s 5ms/step - loss: 259.8611 - mae: 259.8611 - mse: 349080.6562 - val_loss: 1757.6427 - val_mae: 1757.6427 - val_mse: 8751026.0000\n",
            "Epoch 19/100\n",
            "18/18 [==============================] - 0s 5ms/step - loss: 291.0282 - mae: 291.0282 - mse: 399798.4375 - val_loss: 1443.7074 - val_mae: 1443.7074 - val_mse: 6673521.5000\n",
            "Epoch 20/100\n",
            "18/18 [==============================] - 1s 35ms/step - loss: 269.5467 - mae: 269.5467 - mse: 356610.4062 - val_loss: 1400.0503 - val_mae: 1400.0503 - val_mse: 6476695.0000\n",
            "Epoch 21/100\n",
            "18/18 [==============================] - 0s 4ms/step - loss: 259.0305 - mae: 259.0305 - mse: 340659.4062 - val_loss: 1441.0601 - val_mae: 1441.0601 - val_mse: 6635481.5000\n",
            "Epoch 22/100\n",
            "18/18 [==============================] - 0s 4ms/step - loss: 257.2531 - mae: 257.2531 - mse: 337882.6875 - val_loss: 1540.2930 - val_mae: 1540.2930 - val_mse: 7248115.0000\n",
            "Epoch 23/100\n",
            "18/18 [==============================] - 0s 6ms/step - loss: 262.2112 - mae: 262.2112 - mse: 346379.5625 - val_loss: 1431.6062 - val_mae: 1431.6062 - val_mse: 6633911.5000\n",
            "Epoch 24/100\n",
            "18/18 [==============================] - 0s 5ms/step - loss: 251.7624 - mae: 251.7624 - mse: 331805.6250 - val_loss: 1462.7955 - val_mae: 1462.7955 - val_mse: 6767481.5000\n",
            "Epoch 25/100\n",
            "18/18 [==============================] - 0s 5ms/step - loss: 250.3457 - mae: 250.3457 - mse: 327516.7500 - val_loss: 1404.6821 - val_mae: 1404.6821 - val_mse: 6410328.0000\n",
            "Epoch 26/100\n",
            "18/18 [==============================] - 1s 34ms/step - loss: 249.8712 - mae: 249.8712 - mse: 327112.0000 - val_loss: 1359.6605 - val_mae: 1359.6605 - val_mse: 6235344.0000\n",
            "Epoch 27/100\n",
            "18/18 [==============================] - 0s 5ms/step - loss: 249.3086 - mae: 249.3086 - mse: 326748.1250 - val_loss: 1371.7118 - val_mae: 1371.7118 - val_mse: 6282499.0000\n",
            "Epoch 28/100\n",
            "18/18 [==============================] - 0s 5ms/step - loss: 247.6365 - mae: 247.6365 - mse: 323012.6875 - val_loss: 1386.5846 - val_mae: 1386.5846 - val_mse: 6281376.0000\n",
            "Epoch 29/100\n",
            "18/18 [==============================] - 0s 5ms/step - loss: 249.4900 - mae: 249.4900 - mse: 322687.3125 - val_loss: 1362.0791 - val_mae: 1362.0791 - val_mse: 6169015.0000\n",
            "Epoch 30/100\n",
            "18/18 [==============================] - 1s 32ms/step - loss: 250.0801 - mae: 250.0801 - mse: 326116.6562 - val_loss: 1339.0771 - val_mae: 1339.0771 - val_mse: 6113126.0000\n",
            "Epoch 31/100\n",
            "18/18 [==============================] - 0s 5ms/step - loss: 249.6478 - mae: 249.6478 - mse: 326239.4688 - val_loss: 1363.4851 - val_mae: 1363.4851 - val_mse: 6189716.0000\n",
            "Epoch 32/100\n",
            "18/18 [==============================] - 0s 5ms/step - loss: 248.8703 - mae: 248.8703 - mse: 320684.5000 - val_loss: 1384.5659 - val_mae: 1384.5659 - val_mse: 6280451.5000\n",
            "Epoch 33/100\n",
            "18/18 [==============================] - 0s 6ms/step - loss: 250.2222 - mae: 250.2222 - mse: 321652.2812 - val_loss: 1499.2119 - val_mae: 1499.2119 - val_mse: 6970260.0000\n",
            "Epoch 34/100\n",
            "18/18 [==============================] - 1s 31ms/step - loss: 248.6477 - mae: 248.6477 - mse: 318929.5625 - val_loss: 1335.6001 - val_mae: 1335.6001 - val_mse: 6136349.5000\n",
            "Epoch 35/100\n",
            "18/18 [==============================] - 0s 4ms/step - loss: 246.5353 - mae: 246.5353 - mse: 321761.6250 - val_loss: 1342.6113 - val_mae: 1342.6113 - val_mse: 6032360.5000\n",
            "Epoch 36/100\n",
            "18/18 [==============================] - 0s 4ms/step - loss: 242.3055 - mae: 242.3055 - mse: 308981.0312 - val_loss: 1339.0448 - val_mae: 1339.0448 - val_mse: 6044759.5000\n",
            "Epoch 37/100\n",
            "18/18 [==============================] - 1s 32ms/step - loss: 242.1429 - mae: 242.1429 - mse: 309107.4688 - val_loss: 1326.1117 - val_mae: 1326.1117 - val_mse: 5952174.5000\n",
            "Epoch 38/100\n",
            "18/18 [==============================] - 0s 5ms/step - loss: 243.2479 - mae: 243.2479 - mse: 310919.5312 - val_loss: 1347.0043 - val_mae: 1347.0043 - val_mse: 6042092.5000\n",
            "Epoch 39/100\n",
            "18/18 [==============================] - 0s 5ms/step - loss: 245.8513 - mae: 245.8513 - mse: 316428.5938 - val_loss: 1474.2209 - val_mae: 1474.2209 - val_mse: 6649322.0000\n",
            "Epoch 40/100\n",
            "18/18 [==============================] - 0s 5ms/step - loss: 241.8004 - mae: 241.8004 - mse: 305251.2500 - val_loss: 1326.7974 - val_mae: 1326.7974 - val_mse: 5984970.5000\n",
            "Epoch 41/100\n",
            "18/18 [==============================] - 0s 4ms/step - loss: 246.4735 - mae: 246.4735 - mse: 311103.6875 - val_loss: 1332.5039 - val_mae: 1332.5039 - val_mse: 6103149.0000\n",
            "Epoch 42/100\n",
            "18/18 [==============================] - 0s 4ms/step - loss: 250.3854 - mae: 250.3854 - mse: 320613.9375 - val_loss: 1367.7075 - val_mae: 1367.7075 - val_mse: 6109627.0000\n",
            "Epoch 43/100\n",
            "18/18 [==============================] - 0s 6ms/step - loss: 245.3190 - mae: 245.3190 - mse: 307427.1562 - val_loss: 1382.8737 - val_mae: 1382.8737 - val_mse: 6355811.0000\n",
            "Epoch 44/100\n",
            "18/18 [==============================] - 0s 6ms/step - loss: 249.4105 - mae: 249.4105 - mse: 318237.2500 - val_loss: 1358.6007 - val_mae: 1358.6007 - val_mse: 6042142.5000\n",
            "Epoch 45/100\n",
            "18/18 [==============================] - 0s 5ms/step - loss: 238.2219 - mae: 238.2219 - mse: 300415.0000 - val_loss: 1402.0132 - val_mae: 1402.0132 - val_mse: 6250757.5000\n",
            "Epoch 46/100\n",
            "18/18 [==============================] - 0s 5ms/step - loss: 241.0755 - mae: 241.0755 - mse: 301349.7812 - val_loss: 1339.0024 - val_mae: 1339.0024 - val_mse: 5971405.5000\n",
            "Epoch 47/100\n",
            "18/18 [==============================] - 0s 5ms/step - loss: 241.1055 - mae: 241.1055 - mse: 301980.6250 - val_loss: 1441.6368 - val_mae: 1441.6368 - val_mse: 6532607.5000\n",
            "Epoch 48/100\n",
            "18/18 [==============================] - 0s 5ms/step - loss: 252.0882 - mae: 252.0882 - mse: 320058.1875 - val_loss: 1376.6654 - val_mae: 1376.6654 - val_mse: 6136377.5000\n",
            "Epoch 49/100\n",
            "18/18 [==============================] - 1s 32ms/step - loss: 240.8284 - mae: 240.8284 - mse: 302959.1562 - val_loss: 1304.6191 - val_mae: 1304.6191 - val_mse: 5837657.0000\n",
            "Epoch 50/100\n",
            "18/18 [==============================] - 0s 5ms/step - loss: 242.0362 - mae: 242.0362 - mse: 309748.6562 - val_loss: 1387.0698 - val_mae: 1387.0698 - val_mse: 6178954.5000\n",
            "Epoch 51/100\n",
            "18/18 [==============================] - 0s 4ms/step - loss: 234.9078 - mae: 234.9078 - mse: 295109.3750 - val_loss: 1305.1874 - val_mae: 1305.1874 - val_mse: 5769962.0000\n",
            "Epoch 52/100\n",
            "18/18 [==============================] - 0s 5ms/step - loss: 236.4525 - mae: 236.4525 - mse: 294497.6250 - val_loss: 1403.9030 - val_mae: 1403.9030 - val_mse: 6181948.5000\n",
            "Epoch 53/100\n",
            "18/18 [==============================] - 1s 31ms/step - loss: 236.2782 - mae: 236.2782 - mse: 295369.5000 - val_loss: 1297.5830 - val_mae: 1297.5830 - val_mse: 5788202.5000\n",
            "Epoch 54/100\n",
            "18/18 [==============================] - 0s 5ms/step - loss: 236.1756 - mae: 236.1756 - mse: 298552.9688 - val_loss: 1365.3247 - val_mae: 1365.3247 - val_mse: 5942748.0000\n",
            "Epoch 55/100\n",
            "18/18 [==============================] - 0s 5ms/step - loss: 238.1099 - mae: 238.1099 - mse: 296977.0625 - val_loss: 1324.9736 - val_mae: 1324.9736 - val_mse: 5861775.5000\n",
            "Epoch 56/100\n",
            "18/18 [==============================] - 0s 4ms/step - loss: 234.4109 - mae: 234.4109 - mse: 294114.6250 - val_loss: 1313.5044 - val_mae: 1313.5044 - val_mse: 5821552.5000\n",
            "Epoch 57/100\n",
            "18/18 [==============================] - 0s 5ms/step - loss: 235.6401 - mae: 235.6401 - mse: 294203.5625 - val_loss: 1337.4641 - val_mae: 1337.4641 - val_mse: 5949486.5000\n",
            "Epoch 58/100\n",
            "18/18 [==============================] - 0s 4ms/step - loss: 236.1608 - mae: 236.1608 - mse: 290925.1875 - val_loss: 1421.0809 - val_mae: 1421.0809 - val_mse: 6273290.5000\n",
            "Epoch 59/100\n",
            "18/18 [==============================] - 1s 30ms/step - loss: 234.0361 - mae: 234.0361 - mse: 293287.7500 - val_loss: 1288.5959 - val_mae: 1288.5959 - val_mse: 5683220.0000\n",
            "Epoch 60/100\n",
            "18/18 [==============================] - 0s 6ms/step - loss: 234.3316 - mae: 234.3316 - mse: 292044.4062 - val_loss: 1355.7114 - val_mae: 1355.7114 - val_mse: 6005635.0000\n",
            "Epoch 61/100\n",
            "18/18 [==============================] - 0s 7ms/step - loss: 233.0547 - mae: 233.0547 - mse: 287751.3750 - val_loss: 1291.1434 - val_mae: 1291.1434 - val_mse: 5747102.5000\n",
            "Epoch 62/100\n",
            "18/18 [==============================] - 1s 34ms/step - loss: 232.7801 - mae: 232.7801 - mse: 291242.0000 - val_loss: 1282.1577 - val_mae: 1282.1577 - val_mse: 5604709.0000\n",
            "Epoch 63/100\n",
            "18/18 [==============================] - 0s 5ms/step - loss: 230.7169 - mae: 230.7169 - mse: 285608.5938 - val_loss: 1378.9681 - val_mae: 1378.9681 - val_mse: 6109715.0000\n",
            "Epoch 64/100\n",
            "18/18 [==============================] - 0s 5ms/step - loss: 233.3920 - mae: 233.3920 - mse: 289216.1875 - val_loss: 1305.3999 - val_mae: 1305.3999 - val_mse: 5732170.5000\n",
            "Epoch 65/100\n",
            "18/18 [==============================] - 0s 6ms/step - loss: 243.8191 - mae: 243.8191 - mse: 301490.9375 - val_loss: 1393.4122 - val_mae: 1393.4122 - val_mse: 6215131.0000\n",
            "Epoch 66/100\n",
            "18/18 [==============================] - 0s 6ms/step - loss: 239.1812 - mae: 239.1812 - mse: 293900.9375 - val_loss: 1363.7904 - val_mae: 1363.7904 - val_mse: 5911056.5000\n",
            "Epoch 67/100\n",
            "18/18 [==============================] - 0s 5ms/step - loss: 232.5107 - mae: 232.5107 - mse: 286480.2812 - val_loss: 1353.0906 - val_mae: 1353.0906 - val_mse: 6011842.0000\n",
            "Epoch 68/100\n",
            "18/18 [==============================] - 0s 5ms/step - loss: 232.4499 - mae: 232.4499 - mse: 290231.6875 - val_loss: 1427.7772 - val_mae: 1427.7772 - val_mse: 6447885.5000\n",
            "Epoch 69/100\n",
            "18/18 [==============================] - 0s 5ms/step - loss: 239.8044 - mae: 239.8044 - mse: 291990.0938 - val_loss: 1285.0090 - val_mae: 1285.0090 - val_mse: 5649861.5000\n",
            "Epoch 70/100\n",
            "18/18 [==============================] - 1s 36ms/step - loss: 236.1718 - mae: 236.1718 - mse: 289983.5312 - val_loss: 1270.4928 - val_mae: 1270.4928 - val_mse: 5605110.5000\n",
            "Epoch 71/100\n",
            "18/18 [==============================] - 0s 7ms/step - loss: 233.3055 - mae: 233.3055 - mse: 284932.0000 - val_loss: 1270.9768 - val_mae: 1270.9768 - val_mse: 5585498.0000\n",
            "Epoch 72/100\n",
            "18/18 [==============================] - 0s 7ms/step - loss: 232.5272 - mae: 232.5272 - mse: 287729.0000 - val_loss: 1459.6028 - val_mae: 1459.6028 - val_mse: 6594139.0000\n",
            "Epoch 73/100\n",
            "18/18 [==============================] - 0s 8ms/step - loss: 232.6291 - mae: 232.6291 - mse: 286663.0625 - val_loss: 1386.9729 - val_mae: 1386.9729 - val_mse: 6011887.5000\n",
            "Epoch 74/100\n",
            "18/18 [==============================] - 0s 8ms/step - loss: 232.5039 - mae: 232.5039 - mse: 286622.9375 - val_loss: 1291.4664 - val_mae: 1291.4664 - val_mse: 5730587.5000\n",
            "Epoch 75/100\n",
            "18/18 [==============================] - 0s 7ms/step - loss: 235.4252 - mae: 235.4252 - mse: 288244.5938 - val_loss: 1456.9812 - val_mae: 1456.9812 - val_mse: 6265768.5000\n",
            "Epoch 76/100\n",
            "18/18 [==============================] - 0s 6ms/step - loss: 236.0303 - mae: 236.0303 - mse: 289872.7500 - val_loss: 1367.4480 - val_mae: 1367.4480 - val_mse: 5977508.0000\n",
            "Epoch 77/100\n",
            "18/18 [==============================] - 0s 7ms/step - loss: 230.8136 - mae: 230.8136 - mse: 283937.6562 - val_loss: 1283.5829 - val_mae: 1283.5829 - val_mse: 5613742.5000\n",
            "Epoch 78/100\n",
            "18/18 [==============================] - 0s 10ms/step - loss: 228.6901 - mae: 228.6901 - mse: 283418.5000 - val_loss: 1285.3469 - val_mae: 1285.3469 - val_mse: 5572473.0000\n",
            "Epoch 79/100\n",
            "18/18 [==============================] - 0s 7ms/step - loss: 227.8825 - mae: 227.8825 - mse: 280279.2500 - val_loss: 1287.3843 - val_mae: 1287.3843 - val_mse: 5833416.0000\n",
            "Epoch 80/100\n",
            "18/18 [==============================] - 0s 6ms/step - loss: 235.7337 - mae: 235.7337 - mse: 289653.2812 - val_loss: 1320.3030 - val_mae: 1320.3030 - val_mse: 5765745.0000\n",
            "Epoch 81/100\n",
            "18/18 [==============================] - 1s 49ms/step - loss: 232.7685 - mae: 232.7685 - mse: 286040.8125 - val_loss: 1269.3929 - val_mae: 1269.3929 - val_mse: 5498158.5000\n",
            "Epoch 82/100\n",
            "18/18 [==============================] - 0s 7ms/step - loss: 231.8646 - mae: 231.8646 - mse: 280182.5938 - val_loss: 1374.2534 - val_mae: 1374.2534 - val_mse: 6039554.5000\n",
            "Epoch 83/100\n",
            "18/18 [==============================] - 0s 6ms/step - loss: 235.6573 - mae: 235.6573 - mse: 284354.9375 - val_loss: 1318.5717 - val_mae: 1318.5717 - val_mse: 5861674.0000\n",
            "Epoch 84/100\n",
            "18/18 [==============================] - 0s 9ms/step - loss: 239.0010 - mae: 239.0010 - mse: 294252.4062 - val_loss: 1313.8441 - val_mae: 1313.8441 - val_mse: 5715600.0000\n",
            "Epoch 85/100\n",
            "18/18 [==============================] - 0s 7ms/step - loss: 233.6088 - mae: 233.6088 - mse: 288401.7500 - val_loss: 1321.8790 - val_mae: 1321.8790 - val_mse: 5774790.5000\n",
            "Epoch 86/100\n",
            "18/18 [==============================] - 0s 7ms/step - loss: 230.3289 - mae: 230.3289 - mse: 282239.5000 - val_loss: 1327.5150 - val_mae: 1327.5150 - val_mse: 5779326.5000\n",
            "Epoch 87/100\n",
            "18/18 [==============================] - 0s 7ms/step - loss: 228.8349 - mae: 228.8349 - mse: 280876.0625 - val_loss: 1431.4401 - val_mae: 1431.4401 - val_mse: 6258306.5000\n",
            "Epoch 88/100\n",
            "18/18 [==============================] - 0s 7ms/step - loss: 232.1046 - mae: 232.1046 - mse: 285732.8750 - val_loss: 1415.7748 - val_mae: 1415.7748 - val_mse: 6083937.0000\n",
            "Epoch 89/100\n",
            "18/18 [==============================] - 0s 7ms/step - loss: 232.2824 - mae: 232.2824 - mse: 276685.9375 - val_loss: 1418.1957 - val_mae: 1418.1957 - val_mse: 6139478.5000\n",
            "Epoch 90/100\n",
            "18/18 [==============================] - 1s 32ms/step - loss: 230.9703 - mae: 230.9703 - mse: 277780.4375 - val_loss: 1261.5546 - val_mae: 1261.5546 - val_mse: 5499139.5000\n",
            "Epoch 91/100\n",
            "18/18 [==============================] - 1s 64ms/step - loss: 225.8465 - mae: 225.8465 - mse: 275407.9375 - val_loss: 1233.6023 - val_mae: 1233.6023 - val_mse: 5411411.5000\n",
            "Epoch 92/100\n",
            "18/18 [==============================] - 0s 4ms/step - loss: 235.4094 - mae: 235.4094 - mse: 283740.3125 - val_loss: 1252.7797 - val_mae: 1252.7797 - val_mse: 5462614.5000\n",
            "Epoch 93/100\n",
            "18/18 [==============================] - 0s 4ms/step - loss: 229.8912 - mae: 229.8912 - mse: 280341.4375 - val_loss: 1377.4976 - val_mae: 1377.4976 - val_mse: 5917358.5000\n",
            "Epoch 94/100\n",
            "18/18 [==============================] - 0s 4ms/step - loss: 227.6641 - mae: 227.6641 - mse: 276676.8125 - val_loss: 1304.8920 - val_mae: 1304.8920 - val_mse: 5620633.0000\n",
            "Epoch 95/100\n",
            "18/18 [==============================] - 0s 5ms/step - loss: 224.4559 - mae: 224.4559 - mse: 273689.4062 - val_loss: 1294.2430 - val_mae: 1294.2430 - val_mse: 5584853.5000\n",
            "Epoch 96/100\n",
            "18/18 [==============================] - 0s 5ms/step - loss: 225.9308 - mae: 225.9308 - mse: 276635.0625 - val_loss: 1267.0426 - val_mae: 1267.0426 - val_mse: 5500564.5000\n",
            "Epoch 97/100\n",
            "18/18 [==============================] - 0s 5ms/step - loss: 229.9815 - mae: 229.9815 - mse: 280684.0312 - val_loss: 1451.7531 - val_mae: 1451.7531 - val_mse: 6239710.5000\n",
            "Epoch 98/100\n",
            "18/18 [==============================] - 0s 4ms/step - loss: 232.9306 - mae: 232.9306 - mse: 279411.9375 - val_loss: 1266.5521 - val_mae: 1266.5521 - val_mse: 5795118.5000\n",
            "Epoch 99/100\n",
            "18/18 [==============================] - 0s 5ms/step - loss: 239.1111 - mae: 239.1111 - mse: 291920.7188 - val_loss: 1301.4924 - val_mae: 1301.4924 - val_mse: 5706394.5000\n",
            "Epoch 100/100\n",
            "18/18 [==============================] - 0s 5ms/step - loss: 223.6771 - mae: 223.6771 - mse: 270211.3750 - val_loss: 1404.3795 - val_mae: 1404.3795 - val_mse: 6260365.0000\n"
          ]
        }
      ]
    },
    {
      "cell_type": "markdown",
      "source": [
        "#### Predictions"
      ],
      "metadata": {
        "id": "u18Jqr5pvT36"
      }
    },
    {
      "cell_type": "code",
      "source": [
        "model_3 = tf.keras.models.load_model(\"/content/model_experiments/model_3_dense\")\n",
        "\n",
        "model_3_preds = model_3.predict(test_windows)"
      ],
      "metadata": {
        "colab": {
          "base_uri": "https://localhost:8080/"
        },
        "id": "UFuoOUgAvQh6",
        "outputId": "060a277d-3c59-4d5c-b32b-53dafbb268f7"
      },
      "execution_count": null,
      "outputs": [
        {
          "output_type": "stream",
          "name": "stdout",
          "text": [
            "18/18 [==============================] - 0s 2ms/step\n"
          ]
        }
      ]
    },
    {
      "cell_type": "code",
      "source": [
        "model_3_preds"
      ],
      "metadata": {
        "colab": {
          "base_uri": "https://localhost:8080/"
        },
        "id": "wHdwtDDh5OXD",
        "outputId": "1f68fd47-bc10-4f3e-bb31-a9c8f00e8d38"
      },
      "execution_count": null,
      "outputs": [
        {
          "output_type": "execute_result",
          "data": {
            "text/plain": [
              "array([[ 9435.252,  9239.86 ,  9466.193, ...,  9431.017,  9486.952,\n",
              "         9529.583],\n",
              "       [ 9013.704,  9021.747,  9071.351, ...,  9238.384,  9184.862,\n",
              "         9192.257],\n",
              "       [ 8892.526,  8946.386,  8862.099, ...,  9134.564,  9169.81 ,\n",
              "         8972.164],\n",
              "       ...,\n",
              "       [57807.94 , 57660.594, 58724.26 , ..., 58115.45 , 58641.703,\n",
              "        58512.28 ],\n",
              "       [57906.37 , 58278.543, 58784.63 , ..., 58815.094, 59161.12 ,\n",
              "        59412.53 ],\n",
              "       [57454.19 , 57584.56 , 57579.16 , ..., 58550.688, 58798.105,\n",
              "        58220.82 ]], dtype=float32)"
            ]
          },
          "metadata": {},
          "execution_count": 110
        }
      ]
    },
    {
      "cell_type": "code",
      "source": [
        "model_3_metrics = metrics_dict(test_labels, model_3_preds)\n",
        "model_3_metrics"
      ],
      "metadata": {
        "colab": {
          "base_uri": "https://localhost:8080/"
        },
        "id": "D9S-v6RPw4Er",
        "outputId": "d853db28-3b56-497d-bd82-a21999c4288e"
      },
      "execution_count": null,
      "outputs": [
        {
          "output_type": "execute_result",
          "data": {
            "text/plain": [
              "{'Mean Absolute Error': 1233.6023952086496,\n",
              " 'Mean Absolute Percentage Error': 5.548340182692226,\n",
              " 'MSE': 5411411.48551271,\n",
              " 'RMSE': 2326.2440726442937,\n",
              " 'MASE': 2.195126317266542}"
            ]
          },
          "metadata": {},
          "execution_count": 111
        }
      ]
    },
    {
      "cell_type": "markdown",
      "source": [
        "#### Plot model 3 predictions"
      ],
      "metadata": {
        "id": "1eMqr_71vp1W"
      }
    },
    {
      "cell_type": "code",
      "source": [
        "offset = 300\n",
        "plt.figure(figsize=(10, 7))\n",
        "\n",
        "plot_time_series(x=X_test[-len(test_windows):], y=test_labels[:, 0], start=offset, label=\"Test Data\", format='.')\n",
        "plot_time_series(x=X_test[-len(test_windows):], y=tf.reduce_mean(model_3_preds, axis=1), start=offset, label=\"Test Data\", format='-')"
      ],
      "metadata": {
        "colab": {
          "base_uri": "https://localhost:8080/",
          "height": 619
        },
        "id": "b87OD8VEvsUS",
        "outputId": "87432cb9-0b0e-470b-a686-a40bcc3bfddc"
      },
      "execution_count": null,
      "outputs": [
        {
          "output_type": "display_data",
          "data": {
            "text/plain": [
              "<Figure size 1000x700 with 1 Axes>"
            ],
            "image/png": "[encoded data removed]"
          },
          "metadata": {}
        }
      ]
    },
    {
      "cell_type": "markdown",
      "source": [
        "## Checkpoint: *Evaluate built models*"
      ],
      "metadata": {
        "id": "d1GuKILp97Rb"
      }
    },
    {
      "cell_type": "code",
      "source": [
        "model_compare1 = pd.DataFrame({'Model 0': model_0_metrics['Mean Absolute Error'],\n",
        "                               'Model 1': model_1_metrics['Mean Absolute Error'],\n",
        "                               'Model 2': model_2_metrics['Mean Absolute Error'],\n",
        "                               'Model 3': model_3_metrics['Mean Absolute Error']}, index=['mae']).plot(figsize=(10, 7), kind='bar')"
      ],
      "metadata": {
        "id": "KmV3MK614JKX",
        "colab": {
          "base_uri": "https://localhost:8080/",
          "height": 616
        },
        "outputId": "c60f795f-6202-47bb-9e99-67d2e5b0fdfe"
      },
      "execution_count": null,
      "outputs": [
        {
          "output_type": "display_data",
          "data": {
            "text/plain": [
              "<Figure size 1000x700 with 1 Axes>"
            ],
            "image/png": "[encoded data removed]"
          },
          "metadata": {}
        }
      ]
    },
    {
      "cell_type": "markdown",
      "source": [
        "## Model 4 | Conv1D"
      ],
      "metadata": {
        "id": "QQ3KGNA3mHA8"
      }
    },
    {
      "cell_type": "code",
      "source": [
        "HORIZON = 1\n",
        "WINDOW_SIZE = 7"
      ],
      "metadata": {
        "id": "DxPS6EnbBOR-"
      },
      "execution_count": null,
      "outputs": []
    },
    {
      "cell_type": "code",
      "source": [
        "full_windows, full_labels = make_windows(prices, window_size=WINDOW_SIZE, horizon=HORIZON)\n",
        "\n",
        "train_windows, test_windows, train_labels, test_labels = train_test_split(full_windows, full_labels, shuffle=False, test_size=0.2)"
      ],
      "metadata": {
        "id": "gAdr1ZFAmNiv"
      },
      "execution_count": null,
      "outputs": []
    },
    {
      "cell_type": "code",
      "source": [
        "# Make Lambda layer to fit dimensions\n",
        "x = tf.constant(train_windows[0])\n",
        "expand_dims_layer = layers.Lambda(lambda x : tf.expand_dims(x, axis=1))"
      ],
      "metadata": {
        "id": "HnaB1T1UnO_c"
      },
      "execution_count": null,
      "outputs": []
    },
    {
      "cell_type": "code",
      "source": [
        "# Build\n",
        "model_4 = tf.keras.Sequential([\n",
        "    layers.Lambda(lambda x : tf.expand_dims(x, axis=1)),\n",
        "    layers.Conv1D(128, 5, padding='causal', activation='relu'),\n",
        "    layers.Dense(HORIZON)\n",
        "], name='model_4_conv1d')\n",
        "\n",
        "# Complile\n",
        "model_4.compile(loss='mae',\n",
        "                optimizer=tf.keras.optimizers.Adam(),\n",
        "                metrics=['mae', 'mse'])\n",
        "\n",
        "# Fit\n",
        "history4 = model_4.fit(train_windows, train_labels,\n",
        "                       validation_data=[test_windows, test_labels],\n",
        "                       batch_size=128,\n",
        "                       epochs=100,\n",
        "                       callbacks=[create_model_checkpoint(model_name=model_4.name)])"
      ],
      "metadata": {
        "colab": {
          "base_uri": "https://localhost:8080/"
        },
        "id": "-f8foGXWmuRB",
        "outputId": "d9c43db0-1825-4a25-8d66-fec04a786e75"
      },
      "execution_count": null,
      "outputs": [
        {
          "output_type": "stream",
          "name": "stdout",
          "text": [
            "Epoch 1/100\n",
            "18/18 [==============================] - 2s 59ms/step - loss: 1141.7610 - mae: 1141.7610 - mse: 4690307.0000 - val_loss: 2601.3145 - val_mae: 2601.3145 - val_mse: 15223721.0000\n",
            "Epoch 2/100\n",
            "18/18 [==============================] - 1s 60ms/step - loss: 291.9826 - mae: 291.9826 - mse: 348964.3438 - val_loss: 1170.8772 - val_mae: 1170.8772 - val_mse: 3678153.0000\n",
            "Epoch 3/100\n",
            "18/18 [==============================] - 1s 62ms/step - loss: 177.8346 - mae: 177.8346 - mse: 156730.6875 - val_loss: 992.9044 - val_mae: 992.9044 - val_mse: 2971313.7500\n",
            "Epoch 4/100\n",
            "18/18 [==============================] - 1s 53ms/step - loss: 167.6984 - mae: 167.6984 - mse: 147041.2656 - val_loss: 929.9670 - val_mae: 929.9670 - val_mse: 2761647.0000\n",
            "Epoch 5/100\n",
            "18/18 [==============================] - 1s 40ms/step - loss: 161.8442 - mae: 161.8442 - mse: 138903.2656 - val_loss: 902.1894 - val_mae: 902.1894 - val_mse: 2659301.0000\n",
            "Epoch 6/100\n",
            "18/18 [==============================] - 0s 5ms/step - loss: 158.1181 - mae: 158.1181 - mse: 135534.2500 - val_loss: 905.0185 - val_mae: 905.0185 - val_mse: 2612389.2500\n",
            "Epoch 7/100\n",
            "18/18 [==============================] - 1s 42ms/step - loss: 157.0210 - mae: 157.0210 - mse: 132726.4375 - val_loss: 860.9818 - val_mae: 860.9818 - val_mse: 2480960.5000\n",
            "Epoch 8/100\n",
            "18/18 [==============================] - 0s 4ms/step - loss: 152.7711 - mae: 152.7711 - mse: 126804.9609 - val_loss: 894.9631 - val_mae: 894.9631 - val_mse: 2490440.7500\n",
            "Epoch 9/100\n",
            "18/18 [==============================] - 1s 77ms/step - loss: 153.1605 - mae: 153.1605 - mse: 123996.8906 - val_loss: 830.3240 - val_mae: 830.3240 - val_mse: 2323000.5000\n",
            "Epoch 10/100\n",
            "18/18 [==============================] - 1s 44ms/step - loss: 150.3564 - mae: 150.3564 - mse: 121449.0938 - val_loss: 823.7130 - val_mae: 823.7130 - val_mse: 2242890.2500\n",
            "Epoch 11/100\n",
            "18/18 [==============================] - 1s 43ms/step - loss: 146.8410 - mae: 146.8410 - mse: 116835.7500 - val_loss: 817.1636 - val_mae: 817.1636 - val_mse: 2172046.7500\n",
            "Epoch 12/100\n",
            "18/18 [==============================] - 1s 42ms/step - loss: 143.8493 - mae: 143.8493 - mse: 113643.5312 - val_loss: 813.3091 - val_mae: 813.3091 - val_mse: 2227076.7500\n",
            "Epoch 13/100\n",
            "18/18 [==============================] - 1s 42ms/step - loss: 140.6593 - mae: 140.6593 - mse: 109823.3203 - val_loss: 771.6994 - val_mae: 771.6994 - val_mse: 2037422.0000\n",
            "Epoch 14/100\n",
            "18/18 [==============================] - 0s 5ms/step - loss: 141.8559 - mae: 141.8559 - mse: 107888.2109 - val_loss: 850.3071 - val_mae: 850.3071 - val_mse: 2146890.7500\n",
            "Epoch 15/100\n",
            "18/18 [==============================] - 1s 40ms/step - loss: 137.9097 - mae: 137.9097 - mse: 104365.4531 - val_loss: 746.5394 - val_mae: 746.5394 - val_mse: 1869775.8750\n",
            "Epoch 16/100\n",
            "18/18 [==============================] - 1s 41ms/step - loss: 137.5312 - mae: 137.5312 - mse: 101927.4219 - val_loss: 730.0090 - val_mae: 730.0090 - val_mse: 1820020.2500\n",
            "Epoch 17/100\n",
            "18/18 [==============================] - 0s 5ms/step - loss: 132.2965 - mae: 132.2965 - mse: 97644.7969 - val_loss: 779.3093 - val_mae: 779.3093 - val_mse: 1875825.8750\n",
            "Epoch 18/100\n",
            "18/18 [==============================] - 0s 5ms/step - loss: 134.4703 - mae: 134.4703 - mse: 99077.5234 - val_loss: 832.8126 - val_mae: 832.8126 - val_mse: 2014881.8750\n",
            "Epoch 19/100\n",
            "18/18 [==============================] - 0s 5ms/step - loss: 134.2357 - mae: 134.2357 - mse: 98079.7500 - val_loss: 807.8090 - val_mae: 807.8090 - val_mse: 1923282.0000\n",
            "Epoch 20/100\n",
            "18/18 [==============================] - 1s 41ms/step - loss: 131.9008 - mae: 131.9008 - mse: 96420.5781 - val_loss: 707.0082 - val_mae: 707.0082 - val_mse: 1645824.0000\n",
            "Epoch 21/100\n",
            "18/18 [==============================] - 1s 43ms/step - loss: 128.0585 - mae: 128.0585 - mse: 91572.3594 - val_loss: 690.1703 - val_mae: 690.1703 - val_mse: 1630552.8750\n",
            "Epoch 22/100\n",
            "18/18 [==============================] - 0s 5ms/step - loss: 125.3064 - mae: 125.3064 - mse: 88358.7422 - val_loss: 783.4019 - val_mae: 783.4019 - val_mse: 1814834.8750\n",
            "Epoch 23/100\n",
            "18/18 [==============================] - 1s 47ms/step - loss: 124.7442 - mae: 124.7442 - mse: 89440.3203 - val_loss: 667.6444 - val_mae: 667.6444 - val_mse: 1515713.8750\n",
            "Epoch 24/100\n",
            "18/18 [==============================] - 1s 54ms/step - loss: 121.4735 - mae: 121.4735 - mse: 84952.0859 - val_loss: 660.5532 - val_mae: 660.5532 - val_mse: 1485057.2500\n",
            "Epoch 25/100\n",
            "18/18 [==============================] - 0s 6ms/step - loss: 119.6423 - mae: 119.6423 - mse: 84596.8125 - val_loss: 679.4691 - val_mae: 679.4691 - val_mse: 1507260.6250\n",
            "Epoch 26/100\n",
            "18/18 [==============================] - 1s 62ms/step - loss: 119.5527 - mae: 119.5527 - mse: 83240.6094 - val_loss: 644.8420 - val_mae: 644.8420 - val_mse: 1434856.2500\n",
            "Epoch 27/100\n",
            "18/18 [==============================] - 1s 57ms/step - loss: 117.4352 - mae: 117.4352 - mse: 82036.6953 - val_loss: 644.7816 - val_mae: 644.7816 - val_mse: 1415875.6250\n",
            "Epoch 28/100\n",
            "18/18 [==============================] - 0s 5ms/step - loss: 117.6895 - mae: 117.6895 - mse: 82082.4609 - val_loss: 647.6600 - val_mae: 647.6600 - val_mse: 1453616.7500\n",
            "Epoch 29/100\n",
            "18/18 [==============================] - 1s 41ms/step - loss: 118.4755 - mae: 118.4755 - mse: 81326.1016 - val_loss: 630.4207 - val_mae: 630.4207 - val_mse: 1391752.2500\n",
            "Epoch 30/100\n",
            "18/18 [==============================] - 1s 41ms/step - loss: 115.7131 - mae: 115.7131 - mse: 80218.2344 - val_loss: 624.3896 - val_mae: 624.3896 - val_mse: 1360440.7500\n",
            "Epoch 31/100\n",
            "18/18 [==============================] - 0s 5ms/step - loss: 116.1189 - mae: 116.1189 - mse: 79798.1562 - val_loss: 655.7292 - val_mae: 655.7292 - val_mse: 1410920.7500\n",
            "Epoch 32/100\n",
            "18/18 [==============================] - 1s 41ms/step - loss: 116.1973 - mae: 116.1973 - mse: 78665.3203 - val_loss: 616.3714 - val_mae: 616.3714 - val_mse: 1331421.3750\n",
            "Epoch 33/100\n",
            "18/18 [==============================] - 1s 42ms/step - loss: 114.9252 - mae: 114.9252 - mse: 77804.4375 - val_loss: 614.5082 - val_mae: 614.5082 - val_mse: 1333599.7500\n",
            "Epoch 34/100\n",
            "18/18 [==============================] - 1s 41ms/step - loss: 117.5533 - mae: 117.5533 - mse: 78991.4062 - val_loss: 611.8042 - val_mae: 611.8042 - val_mse: 1310587.2500\n",
            "Epoch 35/100\n",
            "18/18 [==============================] - 0s 5ms/step - loss: 113.7929 - mae: 113.7929 - mse: 77311.2500 - val_loss: 631.6868 - val_mae: 631.6868 - val_mse: 1376152.0000\n",
            "Epoch 36/100\n",
            "18/18 [==============================] - 1s 40ms/step - loss: 114.5376 - mae: 114.5376 - mse: 77626.5703 - val_loss: 605.3494 - val_mae: 605.3494 - val_mse: 1296122.0000\n",
            "Epoch 37/100\n",
            "18/18 [==============================] - 0s 4ms/step - loss: 113.1892 - mae: 113.1892 - mse: 75938.2812 - val_loss: 668.8150 - val_mae: 668.8150 - val_mse: 1426871.5000\n",
            "Epoch 38/100\n",
            "18/18 [==============================] - 0s 5ms/step - loss: 114.3771 - mae: 114.3771 - mse: 77295.9922 - val_loss: 615.7637 - val_mae: 615.7637 - val_mse: 1327238.8750\n",
            "Epoch 39/100\n",
            "18/18 [==============================] - 0s 4ms/step - loss: 124.4112 - mae: 124.4112 - mse: 84917.8750 - val_loss: 607.0180 - val_mae: 607.0180 - val_mse: 1284641.3750\n",
            "Epoch 40/100\n",
            "18/18 [==============================] - 1s 41ms/step - loss: 116.0167 - mae: 116.0167 - mse: 78207.2031 - val_loss: 599.5767 - val_mae: 599.5767 - val_mse: 1281829.5000\n",
            "Epoch 41/100\n",
            "18/18 [==============================] - 0s 5ms/step - loss: 116.5759 - mae: 116.5759 - mse: 77994.4062 - val_loss: 602.8996 - val_mae: 602.8996 - val_mse: 1273366.1250\n",
            "Epoch 42/100\n",
            "18/18 [==============================] - 1s 39ms/step - loss: 119.6400 - mae: 119.6400 - mse: 81116.2969 - val_loss: 596.5371 - val_mae: 596.5371 - val_mse: 1264458.8750\n",
            "Epoch 43/100\n",
            "18/18 [==============================] - 0s 6ms/step - loss: 112.2146 - mae: 112.2146 - mse: 75749.4141 - val_loss: 648.5234 - val_mae: 648.5234 - val_mse: 1401561.5000\n",
            "Epoch 44/100\n",
            "18/18 [==============================] - 1s 40ms/step - loss: 116.5531 - mae: 116.5531 - mse: 79928.8359 - val_loss: 594.2682 - val_mae: 594.2682 - val_mse: 1259459.8750\n",
            "Epoch 45/100\n",
            "18/18 [==============================] - 0s 4ms/step - loss: 113.5804 - mae: 113.5804 - mse: 76306.8750 - val_loss: 662.0654 - val_mae: 662.0654 - val_mse: 1393152.7500\n",
            "Epoch 46/100\n",
            "18/18 [==============================] - 0s 4ms/step - loss: 125.3567 - mae: 125.3567 - mse: 84269.7656 - val_loss: 663.3506 - val_mae: 663.3506 - val_mse: 1394303.6250\n",
            "Epoch 47/100\n",
            "18/18 [==============================] - 1s 42ms/step - loss: 116.1982 - mae: 116.1982 - mse: 77014.9609 - val_loss: 592.6386 - val_mae: 592.6386 - val_mse: 1250841.0000\n",
            "Epoch 48/100\n",
            "18/18 [==============================] - 0s 6ms/step - loss: 110.9554 - mae: 110.9554 - mse: 72694.3203 - val_loss: 603.8930 - val_mae: 603.8930 - val_mse: 1286461.8750\n",
            "Epoch 49/100\n",
            "18/18 [==============================] - 0s 6ms/step - loss: 126.6018 - mae: 126.6018 - mse: 83702.4141 - val_loss: 623.7174 - val_mae: 623.7174 - val_mse: 1337039.3750\n",
            "Epoch 50/100\n",
            "18/18 [==============================] - 0s 5ms/step - loss: 117.5630 - mae: 117.5630 - mse: 77614.6094 - val_loss: 640.0903 - val_mae: 640.0903 - val_mse: 1370782.6250\n",
            "Epoch 51/100\n",
            "18/18 [==============================] - 0s 7ms/step - loss: 111.2752 - mae: 111.2752 - mse: 74866.6328 - val_loss: 626.7888 - val_mae: 626.7888 - val_mse: 1305837.1250\n",
            "Epoch 52/100\n",
            "18/18 [==============================] - 1s 82ms/step - loss: 115.5703 - mae: 115.5703 - mse: 76442.3984 - val_loss: 588.7864 - val_mae: 588.7864 - val_mse: 1243950.1250\n",
            "Epoch 53/100\n",
            "18/18 [==============================] - 0s 8ms/step - loss: 114.6354 - mae: 114.6354 - mse: 74588.3984 - val_loss: 600.7073 - val_mae: 600.7073 - val_mse: 1274239.2500\n",
            "Epoch 54/100\n",
            "18/18 [==============================] - 1s 62ms/step - loss: 110.4572 - mae: 110.4572 - mse: 73398.0781 - val_loss: 588.4631 - val_mae: 588.4631 - val_mse: 1231846.2500\n",
            "Epoch 55/100\n",
            "18/18 [==============================] - 1s 65ms/step - loss: 109.2438 - mae: 109.2438 - mse: 73112.5156 - val_loss: 583.4263 - val_mae: 583.4263 - val_mse: 1227202.2500\n",
            "Epoch 56/100\n",
            "18/18 [==============================] - 0s 9ms/step - loss: 115.2840 - mae: 115.2840 - mse: 75100.7812 - val_loss: 588.7038 - val_mae: 588.7038 - val_mse: 1228698.7500\n",
            "Epoch 57/100\n",
            "18/18 [==============================] - 0s 8ms/step - loss: 109.9639 - mae: 109.9639 - mse: 72720.6016 - val_loss: 655.7782 - val_mae: 655.7782 - val_mse: 1361386.5000\n",
            "Epoch 58/100\n",
            "18/18 [==============================] - 0s 9ms/step - loss: 117.1486 - mae: 117.1486 - mse: 76934.0469 - val_loss: 645.2466 - val_mae: 645.2466 - val_mse: 1336936.0000\n",
            "Epoch 59/100\n",
            "18/18 [==============================] - 0s 8ms/step - loss: 110.4573 - mae: 110.4573 - mse: 74134.0625 - val_loss: 645.6490 - val_mae: 645.6490 - val_mse: 1375375.8750\n",
            "Epoch 60/100\n",
            "18/18 [==============================] - 1s 43ms/step - loss: 109.1170 - mae: 109.1170 - mse: 73202.6875 - val_loss: 583.3948 - val_mae: 583.3948 - val_mse: 1222593.0000\n",
            "Epoch 61/100\n",
            "18/18 [==============================] - 0s 6ms/step - loss: 108.8817 - mae: 108.8817 - mse: 72061.5625 - val_loss: 603.5200 - val_mae: 603.5200 - val_mse: 1247802.8750\n",
            "Epoch 62/100\n",
            "18/18 [==============================] - 0s 5ms/step - loss: 108.4629 - mae: 108.4629 - mse: 71106.2031 - val_loss: 701.0874 - val_mae: 701.0874 - val_mse: 1528176.8750\n",
            "Epoch 63/100\n",
            "18/18 [==============================] - 1s 41ms/step - loss: 119.6455 - mae: 119.6455 - mse: 80794.9219 - val_loss: 578.8669 - val_mae: 578.8669 - val_mse: 1211831.2500\n",
            "Epoch 64/100\n",
            "18/18 [==============================] - 0s 5ms/step - loss: 113.5733 - mae: 113.5733 - mse: 75040.2422 - val_loss: 686.2112 - val_mae: 686.2112 - val_mse: 1428813.6250\n",
            "Epoch 65/100\n",
            "18/18 [==============================] - 0s 6ms/step - loss: 112.7780 - mae: 112.7780 - mse: 71311.7812 - val_loss: 582.7462 - val_mae: 582.7462 - val_mse: 1223619.1250\n",
            "Epoch 66/100\n",
            "18/18 [==============================] - 0s 5ms/step - loss: 110.4035 - mae: 110.4035 - mse: 73105.6719 - val_loss: 590.4895 - val_mae: 590.4895 - val_mse: 1243571.2500\n",
            "Epoch 67/100\n",
            "18/18 [==============================] - 0s 5ms/step - loss: 108.5615 - mae: 108.5615 - mse: 71777.5938 - val_loss: 584.3569 - val_mae: 584.3569 - val_mse: 1212384.3750\n",
            "Epoch 68/100\n",
            "18/18 [==============================] - 0s 5ms/step - loss: 109.5245 - mae: 109.5245 - mse: 71980.4766 - val_loss: 603.1730 - val_mae: 603.1730 - val_mse: 1265207.6250\n",
            "Epoch 69/100\n",
            "18/18 [==============================] - 1s 43ms/step - loss: 108.4777 - mae: 108.4777 - mse: 71898.3281 - val_loss: 578.4024 - val_mae: 578.4024 - val_mse: 1203110.3750\n",
            "Epoch 70/100\n",
            "18/18 [==============================] - 0s 6ms/step - loss: 107.3388 - mae: 107.3388 - mse: 71047.2891 - val_loss: 603.4812 - val_mae: 603.4812 - val_mse: 1266808.0000\n",
            "Epoch 71/100\n",
            "18/18 [==============================] - 1s 40ms/step - loss: 110.0885 - mae: 110.0885 - mse: 71591.1328 - val_loss: 578.1174 - val_mae: 578.1174 - val_mse: 1203007.5000\n",
            "Epoch 72/100\n",
            "18/18 [==============================] - 0s 4ms/step - loss: 107.7482 - mae: 107.7482 - mse: 71280.9375 - val_loss: 579.1722 - val_mae: 579.1722 - val_mse: 1201746.0000\n",
            "Epoch 73/100\n",
            "18/18 [==============================] - 0s 6ms/step - loss: 113.2755 - mae: 113.2755 - mse: 74532.8984 - val_loss: 657.1404 - val_mae: 657.1404 - val_mse: 1353526.5000\n",
            "Epoch 74/100\n",
            "18/18 [==============================] - 1s 42ms/step - loss: 108.1527 - mae: 108.1527 - mse: 71317.1562 - val_loss: 577.2643 - val_mae: 577.2643 - val_mse: 1201009.0000\n",
            "Epoch 75/100\n",
            "18/18 [==============================] - 1s 42ms/step - loss: 108.9245 - mae: 108.9245 - mse: 70146.3828 - val_loss: 576.1445 - val_mae: 576.1445 - val_mse: 1202936.0000\n",
            "Epoch 76/100\n",
            "18/18 [==============================] - 0s 5ms/step - loss: 106.9475 - mae: 106.9475 - mse: 70146.0156 - val_loss: 576.6397 - val_mae: 576.6397 - val_mse: 1193968.7500\n",
            "Epoch 77/100\n",
            "18/18 [==============================] - 0s 6ms/step - loss: 108.2698 - mae: 108.2698 - mse: 71891.9375 - val_loss: 603.3986 - val_mae: 603.3986 - val_mse: 1259682.0000\n",
            "Epoch 78/100\n",
            "18/18 [==============================] - 0s 4ms/step - loss: 110.0696 - mae: 110.0696 - mse: 71424.7969 - val_loss: 581.3359 - val_mae: 581.3359 - val_mse: 1198711.7500\n",
            "Epoch 79/100\n",
            "18/18 [==============================] - 0s 4ms/step - loss: 108.3111 - mae: 108.3111 - mse: 72224.6562 - val_loss: 594.0844 - val_mae: 594.0844 - val_mse: 1241333.8750\n",
            "Epoch 80/100\n",
            "18/18 [==============================] - 0s 4ms/step - loss: 109.2859 - mae: 109.2859 - mse: 72904.3047 - val_loss: 610.1874 - val_mae: 610.1874 - val_mse: 1274288.1250\n",
            "Epoch 81/100\n",
            "18/18 [==============================] - 0s 5ms/step - loss: 114.4576 - mae: 114.4576 - mse: 75768.6094 - val_loss: 594.6651 - val_mae: 594.6651 - val_mse: 1223078.2500\n",
            "Epoch 82/100\n",
            "18/18 [==============================] - 0s 5ms/step - loss: 111.6592 - mae: 111.6592 - mse: 72736.8750 - val_loss: 661.7266 - val_mae: 661.7266 - val_mse: 1405675.1250\n",
            "Epoch 83/100\n",
            "18/18 [==============================] - 0s 5ms/step - loss: 110.1015 - mae: 110.1015 - mse: 73193.3672 - val_loss: 579.5560 - val_mae: 579.5560 - val_mse: 1207475.6250\n",
            "Epoch 84/100\n",
            "18/18 [==============================] - 1s 44ms/step - loss: 107.6341 - mae: 107.6341 - mse: 71943.9453 - val_loss: 573.4478 - val_mae: 573.4478 - val_mse: 1185501.8750\n",
            "Epoch 85/100\n",
            "18/18 [==============================] - 0s 6ms/step - loss: 108.8585 - mae: 108.8585 - mse: 70377.6406 - val_loss: 577.2795 - val_mae: 577.2795 - val_mse: 1191602.8750\n",
            "Epoch 86/100\n",
            "18/18 [==============================] - 0s 4ms/step - loss: 107.8188 - mae: 107.8188 - mse: 71618.5469 - val_loss: 592.1624 - val_mae: 592.1624 - val_mse: 1213603.2500\n",
            "Epoch 87/100\n",
            "18/18 [==============================] - 0s 6ms/step - loss: 112.5720 - mae: 112.5720 - mse: 71985.6953 - val_loss: 631.7620 - val_mae: 631.7620 - val_mse: 1292876.0000\n",
            "Epoch 88/100\n",
            "18/18 [==============================] - 0s 5ms/step - loss: 118.9983 - mae: 118.9983 - mse: 78272.9531 - val_loss: 578.7475 - val_mae: 578.7475 - val_mse: 1190344.2500\n",
            "Epoch 89/100\n",
            "18/18 [==============================] - 0s 5ms/step - loss: 115.6692 - mae: 115.6692 - mse: 77513.4297 - val_loss: 627.4260 - val_mae: 627.4260 - val_mse: 1308030.1250\n",
            "Epoch 90/100\n",
            "18/18 [==============================] - 1s 43ms/step - loss: 110.6225 - mae: 110.6225 - mse: 72236.6562 - val_loss: 571.0953 - val_mae: 571.0953 - val_mse: 1184186.8750\n",
            "Epoch 91/100\n",
            "18/18 [==============================] - 1s 38ms/step - loss: 114.8301 - mae: 114.8301 - mse: 74534.9141 - val_loss: 568.9784 - val_mae: 568.9784 - val_mse: 1176618.1250\n",
            "Epoch 92/100\n",
            "18/18 [==============================] - 0s 5ms/step - loss: 107.2369 - mae: 107.2369 - mse: 70365.7734 - val_loss: 570.4449 - val_mae: 570.4449 - val_mse: 1182751.2500\n",
            "Epoch 93/100\n",
            "18/18 [==============================] - 0s 5ms/step - loss: 106.9521 - mae: 106.9521 - mse: 69882.1328 - val_loss: 569.8871 - val_mae: 569.8871 - val_mse: 1180055.0000\n",
            "Epoch 94/100\n",
            "18/18 [==============================] - 0s 4ms/step - loss: 108.2094 - mae: 108.2094 - mse: 70127.9688 - val_loss: 643.8891 - val_mae: 643.8891 - val_mse: 1347434.8750\n",
            "Epoch 95/100\n",
            "18/18 [==============================] - 0s 4ms/step - loss: 115.5064 - mae: 115.5064 - mse: 73851.2812 - val_loss: 590.6262 - val_mae: 590.6262 - val_mse: 1227933.8750\n",
            "Epoch 96/100\n",
            "18/18 [==============================] - 0s 5ms/step - loss: 105.9411 - mae: 105.9411 - mse: 68822.9141 - val_loss: 682.9811 - val_mae: 682.9811 - val_mse: 1455759.2500\n",
            "Epoch 97/100\n",
            "18/18 [==============================] - 0s 4ms/step - loss: 113.4100 - mae: 113.4100 - mse: 74501.9766 - val_loss: 573.0917 - val_mae: 573.0917 - val_mse: 1189504.8750\n",
            "Epoch 98/100\n",
            "18/18 [==============================] - 0s 5ms/step - loss: 107.6927 - mae: 107.6927 - mse: 70845.8906 - val_loss: 649.8292 - val_mae: 649.8292 - val_mse: 1325810.1250\n",
            "Epoch 99/100\n",
            "18/18 [==============================] - 0s 5ms/step - loss: 112.0490 - mae: 112.0490 - mse: 73411.7578 - val_loss: 609.2930 - val_mae: 609.2930 - val_mse: 1242567.8750\n",
            "Epoch 100/100\n",
            "18/18 [==============================] - 0s 5ms/step - loss: 108.3512 - mae: 108.3512 - mse: 71358.2109 - val_loss: 569.9213 - val_mae: 569.9213 - val_mse: 1177659.8750\n"
          ]
        }
      ]
    },
    {
      "cell_type": "markdown",
      "source": [
        "### Predictions"
      ],
      "metadata": {
        "id": "XaBIPu0gphod"
      }
    },
    {
      "cell_type": "code",
      "source": [
        "model_4 = tf.keras.models.load_model('/content/model_experiments/model_4_conv1d')\n",
        "\n",
        "model_4_preds = model_4.predict(test_windows)"
      ],
      "metadata": {
        "colab": {
          "base_uri": "https://localhost:8080/"
        },
        "id": "2zMu3bDfpIK5",
        "outputId": "79d494cf-8b65-419f-f9a1-6734178dd6b8"
      },
      "execution_count": null,
      "outputs": [
        {
          "output_type": "stream",
          "name": "stdout",
          "text": [
            "18/18 [==============================] - 0s 2ms/step\n"
          ]
        }
      ]
    },
    {
      "cell_type": "code",
      "source": [
        "# Metrics\n",
        "model_4_metrics = metrics_dict(test_labels, tf.squeeze(tf.cast(model_4_preds, dtype=tf.float64)))\n",
        "model_4_metrics"
      ],
      "metadata": {
        "colab": {
          "base_uri": "https://localhost:8080/"
        },
        "id": "BfXRcJHtpsGn",
        "outputId": "645acdf3-e24a-4511-8fe5-c74b676dfa59"
      },
      "execution_count": null,
      "outputs": [
        {
          "output_type": "execute_result",
          "data": {
            "text/plain": [
              "{'Mean Absolute Error': 568.9783983540223,\n",
              " 'Mean Absolute Percentage Error': 2.5455392678347883,\n",
              " 'MSE': 1176618.0210367392,\n",
              " 'RMSE': 1084.7202501275337,\n",
              " 'MASE': 30.11810426461753}"
            ]
          },
          "metadata": {},
          "execution_count": 119
        }
      ]
    },
    {
      "cell_type": "markdown",
      "source": [
        "### Plot model 4 predictions"
      ],
      "metadata": {
        "id": "3Osdsw3muNil"
      }
    },
    {
      "cell_type": "code",
      "source": [
        "offset = 300\n",
        "plt.figure(figsize=(10,7))\n",
        "\n",
        "plot_time_series(x=X_test[-len(test_windows):], y=test_labels[:, 0], start=offset, format='.', label='Test Data')\n",
        "plot_time_series(x=X_test[-len(test_windows):], y=tf.squeeze(model_4_preds), start=offset, format='-', label='Test Data')"
      ],
      "metadata": {
        "colab": {
          "base_uri": "https://localhost:8080/",
          "height": 619
        },
        "id": "OCBtv3dPp27w",
        "outputId": "797b58f5-6ade-46cf-8505-ee4d1b41a1d5"
      },
      "execution_count": null,
      "outputs": [
        {
          "output_type": "display_data",
          "data": {
            "text/plain": [
              "<Figure size 1000x700 with 1 Axes>"
            ],
            "image/png": "[encoded data removed]"
          },
          "metadata": {}
        }
      ]
    },
    {
      "cell_type": "markdown",
      "source": [
        "## Model 5 | LSTM"
      ],
      "metadata": {
        "id": "8xdbTCCP2JQr"
      }
    },
    {
      "cell_type": "code",
      "source": [
        "# Build (using functional API)\n",
        "inputs = tf.keras.Input(WINDOW_SIZE)\n",
        "x = layers.Lambda(lambda x : tf.expand_dims(x, axis=1))(inputs)\n",
        "x = layers.LSTM(128, activation='relu')(x)\n",
        "x = layers.Dense(32, activation='relu')(x)\n",
        "output = layers.Dense(HORIZON)(x)\n",
        "model_5 = tf.keras.Model(inputs=inputs, outputs=output, name='model_5_lstm')\n",
        "\n",
        "# Compile\n",
        "model_5.compile(loss='mae',\n",
        "                optimizer=tf.keras.optimizers.Adam(),\n",
        "                metrics=['mae', 'mse'])\n",
        "\n",
        "# Fit\n",
        "history5 = model_5.fit(train_windows, train_labels,\n",
        "                   validation_data=[test_windows, test_labels],\n",
        "                   batch_size=32,\n",
        "                   epochs=100,\n",
        "                   callbacks=[create_model_checkpoint(model_name=model_5.name)])"
      ],
      "metadata": {
        "colab": {
          "base_uri": "https://localhost:8080/"
        },
        "id": "78tIV3_CvNeC",
        "outputId": "ad544bdc-159d-4488-b934-0e18380e1ba1"
      },
      "execution_count": null,
      "outputs": [
        {
          "output_type": "stream",
          "name": "stdout",
          "text": [
            "Epoch 1/100\n",
            "70/70 [==============================] - 4s 35ms/step - loss: 947.7385 - mae: 947.7385 - mse: 4731797.0000 - val_loss: 1013.9286 - val_mae: 1013.9286 - val_mse: 3144824.2500\n",
            "Epoch 2/100\n",
            "70/70 [==============================] - 3s 42ms/step - loss: 170.9741 - mae: 170.9741 - mse: 149457.6562 - val_loss: 940.4904 - val_mae: 940.4904 - val_mse: 2856507.0000\n",
            "Epoch 3/100\n",
            "70/70 [==============================] - 0s 5ms/step - loss: 162.6723 - mae: 162.6723 - mse: 141610.8906 - val_loss: 1021.7145 - val_mae: 1021.7145 - val_mse: 2997161.5000\n",
            "Epoch 4/100\n",
            "70/70 [==============================] - 2s 33ms/step - loss: 164.1074 - mae: 164.1074 - mse: 143242.0000 - val_loss: 864.7973 - val_mae: 864.7973 - val_mse: 2477642.0000\n",
            "Epoch 5/100\n",
            "70/70 [==============================] - 3s 47ms/step - loss: 155.4096 - mae: 155.4096 - mse: 130561.5078 - val_loss: 828.1134 - val_mae: 828.1134 - val_mse: 2314346.2500\n",
            "Epoch 6/100\n",
            "70/70 [==============================] - 1s 8ms/step - loss: 148.0667 - mae: 148.0667 - mse: 118085.4219 - val_loss: 947.6688 - val_mae: 947.6688 - val_mse: 2867481.2500\n",
            "Epoch 7/100\n",
            "70/70 [==============================] - 2s 34ms/step - loss: 153.4204 - mae: 153.4204 - mse: 118710.7500 - val_loss: 779.2992 - val_mae: 779.2992 - val_mse: 2070994.8750\n",
            "Epoch 8/100\n",
            "70/70 [==============================] - 3s 50ms/step - loss: 146.4059 - mae: 146.4059 - mse: 109591.3281 - val_loss: 754.0010 - val_mae: 754.0010 - val_mse: 1933208.6250\n",
            "Epoch 9/100\n",
            "70/70 [==============================] - 4s 56ms/step - loss: 137.7642 - mae: 137.7642 - mse: 103682.9531 - val_loss: 731.3925 - val_mae: 731.3925 - val_mse: 1811688.1250\n",
            "Epoch 10/100\n",
            "70/70 [==============================] - 1s 14ms/step - loss: 136.2167 - mae: 136.2167 - mse: 101820.9141 - val_loss: 736.9479 - val_mae: 736.9479 - val_mse: 1757932.5000\n",
            "Epoch 11/100\n",
            "70/70 [==============================] - 5s 72ms/step - loss: 131.9268 - mae: 131.9268 - mse: 93366.3828 - val_loss: 695.5203 - val_mae: 695.5203 - val_mse: 1650882.3750\n",
            "Epoch 12/100\n",
            "70/70 [==============================] - 4s 61ms/step - loss: 128.9616 - mae: 128.9616 - mse: 91266.8281 - val_loss: 677.6569 - val_mae: 677.6569 - val_mse: 1576869.3750\n",
            "Epoch 13/100\n",
            "70/70 [==============================] - 0s 6ms/step - loss: 125.8839 - mae: 125.8839 - mse: 88453.1562 - val_loss: 766.5223 - val_mae: 766.5223 - val_mse: 1750122.7500\n",
            "Epoch 14/100\n",
            "70/70 [==============================] - 2s 33ms/step - loss: 126.6304 - mae: 126.6304 - mse: 88620.3906 - val_loss: 676.0992 - val_mae: 676.0992 - val_mse: 1495809.0000\n",
            "Epoch 15/100\n",
            "70/70 [==============================] - 3s 40ms/step - loss: 133.7916 - mae: 133.7916 - mse: 91572.8047 - val_loss: 646.9991 - val_mae: 646.9991 - val_mse: 1421622.6250\n",
            "Epoch 16/100\n",
            "70/70 [==============================] - 3s 38ms/step - loss: 120.4048 - mae: 120.4048 - mse: 81210.6641 - val_loss: 635.0900 - val_mae: 635.0900 - val_mse: 1411550.3750\n",
            "Epoch 17/100\n",
            "70/70 [==============================] - 2s 32ms/step - loss: 122.3496 - mae: 122.3496 - mse: 85972.1328 - val_loss: 626.0600 - val_mae: 626.0600 - val_mse: 1363224.1250\n",
            "Epoch 18/100\n",
            "70/70 [==============================] - 2s 32ms/step - loss: 119.8281 - mae: 119.8281 - mse: 82594.7422 - val_loss: 619.2004 - val_mae: 619.2004 - val_mse: 1341635.6250\n",
            "Epoch 19/100\n",
            "70/70 [==============================] - 0s 6ms/step - loss: 124.3177 - mae: 124.3177 - mse: 84118.3203 - val_loss: 625.5792 - val_mae: 625.5792 - val_mse: 1369561.7500\n",
            "Epoch 20/100\n",
            "70/70 [==============================] - 3s 44ms/step - loss: 119.9133 - mae: 119.9133 - mse: 84334.2344 - val_loss: 609.6765 - val_mae: 609.6765 - val_mse: 1308360.1250\n",
            "Epoch 21/100\n",
            "70/70 [==============================] - 0s 6ms/step - loss: 124.1068 - mae: 124.1068 - mse: 86088.2188 - val_loss: 669.8379 - val_mae: 669.8379 - val_mse: 1435499.0000\n",
            "Epoch 22/100\n",
            "70/70 [==============================] - 1s 9ms/step - loss: 124.1212 - mae: 124.1212 - mse: 84516.4453 - val_loss: 623.9045 - val_mae: 623.9045 - val_mse: 1324694.0000\n",
            "Epoch 23/100\n",
            "70/70 [==============================] - 1s 9ms/step - loss: 120.9288 - mae: 120.9288 - mse: 81007.8438 - val_loss: 616.4326 - val_mae: 616.4326 - val_mse: 1331725.3750\n",
            "Epoch 24/100\n",
            "70/70 [==============================] - 1s 9ms/step - loss: 118.1101 - mae: 118.1101 - mse: 78834.5000 - val_loss: 615.2211 - val_mae: 615.2211 - val_mse: 1297439.7500\n",
            "Epoch 25/100\n",
            "70/70 [==============================] - 1s 9ms/step - loss: 122.3348 - mae: 122.3348 - mse: 81988.7109 - val_loss: 610.1510 - val_mae: 610.1510 - val_mse: 1284155.1250\n",
            "Epoch 26/100\n",
            "70/70 [==============================] - 1s 9ms/step - loss: 120.1649 - mae: 120.1649 - mse: 79562.6562 - val_loss: 636.5696 - val_mae: 636.5696 - val_mse: 1374699.5000\n",
            "Epoch 27/100\n",
            "70/70 [==============================] - 2s 34ms/step - loss: 116.2847 - mae: 116.2847 - mse: 78261.9141 - val_loss: 599.8987 - val_mae: 599.8987 - val_mse: 1260507.5000\n",
            "Epoch 28/100\n",
            "70/70 [==============================] - 0s 6ms/step - loss: 117.7841 - mae: 117.7841 - mse: 79950.3906 - val_loss: 607.6412 - val_mae: 607.6412 - val_mse: 1272649.1250\n",
            "Epoch 29/100\n",
            "70/70 [==============================] - 0s 5ms/step - loss: 116.8605 - mae: 116.8605 - mse: 78724.9297 - val_loss: 809.1077 - val_mae: 809.1077 - val_mse: 1817706.6250\n",
            "Epoch 30/100\n",
            "70/70 [==============================] - 0s 6ms/step - loss: 119.1155 - mae: 119.1155 - mse: 78654.0234 - val_loss: 609.3611 - val_mae: 609.3611 - val_mse: 1293567.1250\n",
            "Epoch 31/100\n",
            "70/70 [==============================] - 2s 33ms/step - loss: 116.4149 - mae: 116.4149 - mse: 78951.5938 - val_loss: 595.8522 - val_mae: 595.8522 - val_mse: 1244929.2500\n",
            "Epoch 32/100\n",
            "70/70 [==============================] - 4s 57ms/step - loss: 112.1955 - mae: 112.1955 - mse: 73735.0547 - val_loss: 584.0737 - val_mae: 584.0737 - val_mse: 1224836.5000\n",
            "Epoch 33/100\n",
            "70/70 [==============================] - 1s 12ms/step - loss: 112.1790 - mae: 112.1790 - mse: 74048.6406 - val_loss: 587.1060 - val_mae: 587.1060 - val_mse: 1232639.2500\n",
            "Epoch 34/100\n",
            "70/70 [==============================] - 1s 12ms/step - loss: 120.4465 - mae: 120.4465 - mse: 78344.7422 - val_loss: 651.6204 - val_mae: 651.6204 - val_mse: 1389961.5000\n",
            "Epoch 35/100\n",
            "70/70 [==============================] - 1s 13ms/step - loss: 114.5529 - mae: 114.5529 - mse: 76633.0781 - val_loss: 587.3903 - val_mae: 587.3903 - val_mse: 1233677.8750\n",
            "Epoch 36/100\n",
            "70/70 [==============================] - 4s 57ms/step - loss: 113.2971 - mae: 113.2971 - mse: 75070.7422 - val_loss: 579.3482 - val_mae: 579.3482 - val_mse: 1211669.1250\n",
            "Epoch 37/100\n",
            "70/70 [==============================] - 1s 7ms/step - loss: 119.4541 - mae: 119.4541 - mse: 76516.1719 - val_loss: 863.6555 - val_mae: 863.6555 - val_mse: 2081195.0000\n",
            "Epoch 38/100\n",
            "70/70 [==============================] - 1s 11ms/step - loss: 115.8327 - mae: 115.8327 - mse: 77732.4844 - val_loss: 593.9620 - val_mae: 593.9620 - val_mse: 1246215.5000\n",
            "Epoch 39/100\n",
            "70/70 [==============================] - 1s 10ms/step - loss: 116.5790 - mae: 116.5790 - mse: 75947.5234 - val_loss: 804.7510 - val_mae: 804.7510 - val_mse: 1794788.1250\n",
            "Epoch 40/100\n",
            "70/70 [==============================] - 1s 9ms/step - loss: 116.8411 - mae: 116.8411 - mse: 78235.2969 - val_loss: 589.5444 - val_mae: 589.5444 - val_mse: 1234572.2500\n",
            "Epoch 41/100\n",
            "70/70 [==============================] - 1s 9ms/step - loss: 121.0506 - mae: 121.0506 - mse: 78971.7031 - val_loss: 687.6660 - val_mae: 687.6660 - val_mse: 1449040.5000\n",
            "Epoch 42/100\n",
            "70/70 [==============================] - 3s 37ms/step - loss: 112.8693 - mae: 112.8693 - mse: 75498.2500 - val_loss: 578.0168 - val_mae: 578.0168 - val_mse: 1208239.8750\n",
            "Epoch 43/100\n",
            "70/70 [==============================] - 0s 5ms/step - loss: 115.1601 - mae: 115.1601 - mse: 75664.1328 - val_loss: 676.8496 - val_mae: 676.8496 - val_mse: 1447641.0000\n",
            "Epoch 44/100\n",
            "70/70 [==============================] - 0s 5ms/step - loss: 122.0188 - mae: 122.0188 - mse: 77022.6719 - val_loss: 584.3977 - val_mae: 584.3977 - val_mse: 1210202.2500\n",
            "Epoch 45/100\n",
            "70/70 [==============================] - 0s 6ms/step - loss: 110.4968 - mae: 110.4968 - mse: 71345.8750 - val_loss: 621.7670 - val_mae: 621.7670 - val_mse: 1282404.1250\n",
            "Epoch 46/100\n",
            "70/70 [==============================] - 0s 6ms/step - loss: 111.7306 - mae: 111.7306 - mse: 74765.9531 - val_loss: 600.1536 - val_mae: 600.1536 - val_mse: 1236859.1250\n",
            "Epoch 47/100\n",
            "70/70 [==============================] - 0s 5ms/step - loss: 115.0254 - mae: 115.0254 - mse: 75558.0625 - val_loss: 676.4053 - val_mae: 676.4053 - val_mse: 1442065.7500\n",
            "Epoch 48/100\n",
            "70/70 [==============================] - 1s 7ms/step - loss: 114.1569 - mae: 114.1569 - mse: 75355.5156 - val_loss: 631.8355 - val_mae: 631.8355 - val_mse: 1318636.1250\n",
            "Epoch 49/100\n",
            "70/70 [==============================] - 3s 44ms/step - loss: 113.8304 - mae: 113.8304 - mse: 74443.0547 - val_loss: 575.0174 - val_mae: 575.0174 - val_mse: 1184186.8750\n",
            "Epoch 50/100\n",
            "70/70 [==============================] - 0s 5ms/step - loss: 114.8160 - mae: 114.8160 - mse: 78380.9375 - val_loss: 779.7745 - val_mae: 779.7745 - val_mse: 1755041.6250\n",
            "Epoch 51/100\n",
            "70/70 [==============================] - 3s 44ms/step - loss: 114.0085 - mae: 114.0085 - mse: 72710.5000 - val_loss: 570.3535 - val_mae: 570.3535 - val_mse: 1183026.0000\n",
            "Epoch 52/100\n",
            "70/70 [==============================] - 0s 6ms/step - loss: 110.7840 - mae: 110.7840 - mse: 71693.0312 - val_loss: 571.9839 - val_mae: 571.9839 - val_mse: 1188209.8750\n",
            "Epoch 53/100\n",
            "70/70 [==============================] - 0s 6ms/step - loss: 110.8238 - mae: 110.8238 - mse: 72449.0000 - val_loss: 590.7092 - val_mae: 590.7092 - val_mse: 1224834.1250\n",
            "Epoch 54/100\n",
            "70/70 [==============================] - 3s 44ms/step - loss: 109.9042 - mae: 109.9042 - mse: 70735.1016 - val_loss: 569.7222 - val_mae: 569.7222 - val_mse: 1171836.1250\n",
            "Epoch 55/100\n",
            "70/70 [==============================] - 1s 9ms/step - loss: 109.3859 - mae: 109.3859 - mse: 70141.4922 - val_loss: 630.0686 - val_mae: 630.0686 - val_mse: 1291674.2500\n",
            "Epoch 56/100\n",
            "70/70 [==============================] - 1s 9ms/step - loss: 120.2438 - mae: 120.2438 - mse: 77259.1328 - val_loss: 580.5294 - val_mae: 580.5294 - val_mse: 1188427.3750\n",
            "Epoch 57/100\n",
            "70/70 [==============================] - 1s 7ms/step - loss: 111.6244 - mae: 111.6244 - mse: 75153.8984 - val_loss: 593.9113 - val_mae: 593.9113 - val_mse: 1224623.5000\n",
            "Epoch 58/100\n",
            "70/70 [==============================] - 3s 44ms/step - loss: 111.9040 - mae: 111.9040 - mse: 71572.6562 - val_loss: 568.8148 - val_mae: 568.8148 - val_mse: 1173498.3750\n",
            "Epoch 59/100\n",
            "70/70 [==============================] - 1s 11ms/step - loss: 110.9852 - mae: 110.9852 - mse: 71601.0391 - val_loss: 604.4494 - val_mae: 604.4494 - val_mse: 1250256.0000\n",
            "Epoch 60/100\n",
            "70/70 [==============================] - 0s 6ms/step - loss: 111.8015 - mae: 111.8015 - mse: 71711.4531 - val_loss: 597.8846 - val_mae: 597.8846 - val_mse: 1220574.7500\n",
            "Epoch 61/100\n",
            "70/70 [==============================] - 0s 6ms/step - loss: 118.3594 - mae: 118.3594 - mse: 76120.9766 - val_loss: 614.9045 - val_mae: 614.9045 - val_mse: 1270404.2500\n",
            "Epoch 62/100\n",
            "70/70 [==============================] - 0s 6ms/step - loss: 111.8964 - mae: 111.8964 - mse: 73843.8125 - val_loss: 571.9981 - val_mae: 571.9981 - val_mse: 1168680.3750\n",
            "Epoch 63/100\n",
            "70/70 [==============================] - 0s 5ms/step - loss: 110.8362 - mae: 110.8362 - mse: 73312.3672 - val_loss: 604.9144 - val_mae: 604.9144 - val_mse: 1247852.5000\n",
            "Epoch 64/100\n",
            "70/70 [==============================] - 0s 6ms/step - loss: 113.1092 - mae: 113.1092 - mse: 74514.3750 - val_loss: 651.4947 - val_mae: 651.4947 - val_mse: 1354914.3750\n",
            "Epoch 65/100\n",
            "70/70 [==============================] - 0s 6ms/step - loss: 118.4087 - mae: 118.4087 - mse: 76463.7656 - val_loss: 625.6066 - val_mae: 625.6066 - val_mse: 1275142.7500\n",
            "Epoch 66/100\n",
            "70/70 [==============================] - 0s 6ms/step - loss: 115.1337 - mae: 115.1337 - mse: 73984.2188 - val_loss: 609.0895 - val_mae: 609.0895 - val_mse: 1242512.3750\n",
            "Epoch 67/100\n",
            "70/70 [==============================] - 0s 6ms/step - loss: 111.2310 - mae: 111.2310 - mse: 73937.8750 - val_loss: 626.8885 - val_mae: 626.8885 - val_mse: 1283661.1250\n",
            "Epoch 68/100\n",
            "70/70 [==============================] - 3s 39ms/step - loss: 110.8257 - mae: 110.8257 - mse: 71107.3828 - val_loss: 568.2271 - val_mae: 568.2271 - val_mse: 1167141.1250\n",
            "Epoch 69/100\n",
            "70/70 [==============================] - 1s 7ms/step - loss: 110.3904 - mae: 110.3904 - mse: 71982.1875 - val_loss: 668.1652 - val_mae: 668.1652 - val_mse: 1393582.0000\n",
            "Epoch 70/100\n",
            "70/70 [==============================] - 0s 6ms/step - loss: 114.4811 - mae: 114.4811 - mse: 73119.2266 - val_loss: 570.8217 - val_mae: 570.8217 - val_mse: 1169234.3750\n",
            "Epoch 71/100\n",
            "70/70 [==============================] - 1s 7ms/step - loss: 113.7717 - mae: 113.7717 - mse: 73272.5938 - val_loss: 569.8171 - val_mae: 569.8171 - val_mse: 1169516.5000\n",
            "Epoch 72/100\n",
            "70/70 [==============================] - 1s 9ms/step - loss: 108.2001 - mae: 108.2001 - mse: 70784.0391 - val_loss: 570.4460 - val_mae: 570.4460 - val_mse: 1163454.6250\n",
            "Epoch 73/100\n",
            "70/70 [==============================] - 1s 8ms/step - loss: 123.0746 - mae: 123.0746 - mse: 79528.6406 - val_loss: 612.6793 - val_mae: 612.6793 - val_mse: 1250113.3750\n",
            "Epoch 74/100\n",
            "70/70 [==============================] - 1s 7ms/step - loss: 109.3760 - mae: 109.3760 - mse: 69580.9141 - val_loss: 574.1384 - val_mae: 574.1384 - val_mse: 1181798.1250\n",
            "Epoch 75/100\n",
            "70/70 [==============================] - 1s 8ms/step - loss: 112.6079 - mae: 112.6079 - mse: 72127.1484 - val_loss: 635.1941 - val_mae: 635.1941 - val_mse: 1324435.5000\n",
            "Epoch 76/100\n",
            "70/70 [==============================] - 1s 10ms/step - loss: 111.0169 - mae: 111.0169 - mse: 73154.7109 - val_loss: 701.2498 - val_mae: 701.2498 - val_mse: 1501113.2500\n",
            "Epoch 77/100\n",
            "70/70 [==============================] - 1s 11ms/step - loss: 115.4289 - mae: 115.4289 - mse: 77453.9844 - val_loss: 571.6547 - val_mae: 571.6547 - val_mse: 1173388.0000\n",
            "Epoch 78/100\n",
            "70/70 [==============================] - 4s 54ms/step - loss: 109.7086 - mae: 109.7086 - mse: 73008.4297 - val_loss: 566.1099 - val_mae: 566.1099 - val_mse: 1157410.8750\n",
            "Epoch 79/100\n",
            "70/70 [==============================] - 0s 6ms/step - loss: 109.2184 - mae: 109.2184 - mse: 72109.9453 - val_loss: 568.3995 - val_mae: 568.3995 - val_mse: 1166503.1250\n",
            "Epoch 80/100\n",
            "70/70 [==============================] - 3s 42ms/step - loss: 108.7023 - mae: 108.7023 - mse: 70978.9531 - val_loss: 565.9881 - val_mae: 565.9881 - val_mse: 1157290.3750\n",
            "Epoch 81/100\n",
            "70/70 [==============================] - 1s 12ms/step - loss: 108.4697 - mae: 108.4697 - mse: 70451.9531 - val_loss: 572.0176 - val_mae: 572.0176 - val_mse: 1173816.5000\n",
            "Epoch 82/100\n",
            "70/70 [==============================] - 1s 11ms/step - loss: 110.5413 - mae: 110.5413 - mse: 70439.2109 - val_loss: 575.6339 - val_mae: 575.6339 - val_mse: 1172690.2500\n",
            "Epoch 83/100\n",
            "70/70 [==============================] - 1s 8ms/step - loss: 111.0911 - mae: 111.0911 - mse: 71015.3359 - val_loss: 571.7322 - val_mae: 571.7322 - val_mse: 1172006.0000\n",
            "Epoch 84/100\n",
            "70/70 [==============================] - 0s 7ms/step - loss: 109.5128 - mae: 109.5128 - mse: 70821.1797 - val_loss: 660.6644 - val_mae: 660.6644 - val_mse: 1370951.6250\n",
            "Epoch 85/100\n",
            "70/70 [==============================] - 0s 6ms/step - loss: 109.9993 - mae: 109.9993 - mse: 71332.0312 - val_loss: 568.3788 - val_mae: 568.3788 - val_mse: 1156059.8750\n",
            "Epoch 86/100\n",
            "70/70 [==============================] - 0s 7ms/step - loss: 113.4599 - mae: 113.4599 - mse: 77236.3203 - val_loss: 835.6659 - val_mae: 835.6659 - val_mse: 1924674.1250\n",
            "Epoch 87/100\n",
            "70/70 [==============================] - 3s 46ms/step - loss: 113.3734 - mae: 113.3734 - mse: 70485.1484 - val_loss: 565.1721 - val_mae: 565.1721 - val_mse: 1158012.3750\n",
            "Epoch 88/100\n",
            "70/70 [==============================] - 1s 15ms/step - loss: 109.4981 - mae: 109.4981 - mse: 71622.8906 - val_loss: 580.2796 - val_mae: 580.2796 - val_mse: 1184688.1250\n",
            "Epoch 89/100\n",
            "70/70 [==============================] - 1s 21ms/step - loss: 115.6657 - mae: 115.6657 - mse: 74509.0312 - val_loss: 579.2880 - val_mae: 579.2880 - val_mse: 1177094.0000\n",
            "Epoch 90/100\n",
            "70/70 [==============================] - 1s 13ms/step - loss: 113.7024 - mae: 113.7024 - mse: 73793.4922 - val_loss: 567.3276 - val_mae: 567.3276 - val_mse: 1156833.6250\n",
            "Epoch 91/100\n",
            "70/70 [==============================] - 1s 14ms/step - loss: 116.9298 - mae: 116.9298 - mse: 76716.7031 - val_loss: 623.9131 - val_mae: 623.9131 - val_mse: 1288474.5000\n",
            "Epoch 92/100\n",
            "70/70 [==============================] - 1s 11ms/step - loss: 114.2485 - mae: 114.2485 - mse: 75284.1484 - val_loss: 569.6868 - val_mae: 569.6868 - val_mse: 1167010.1250\n",
            "Epoch 93/100\n",
            "70/70 [==============================] - 1s 12ms/step - loss: 112.7151 - mae: 112.7151 - mse: 72768.2578 - val_loss: 592.5956 - val_mae: 592.5956 - val_mse: 1202488.8750\n",
            "Epoch 94/100\n",
            "70/70 [==============================] - 1s 16ms/step - loss: 108.9280 - mae: 108.9280 - mse: 69907.1172 - val_loss: 565.8593 - val_mae: 565.8593 - val_mse: 1158534.5000\n",
            "Epoch 95/100\n",
            "70/70 [==============================] - 0s 7ms/step - loss: 108.4363 - mae: 108.4363 - mse: 69636.0703 - val_loss: 591.6395 - val_mae: 591.6395 - val_mse: 1201875.0000\n",
            "Epoch 96/100\n",
            "70/70 [==============================] - 1s 12ms/step - loss: 112.5763 - mae: 112.5763 - mse: 72953.5312 - val_loss: 565.2915 - val_mae: 565.2915 - val_mse: 1158895.2500\n",
            "Epoch 97/100\n",
            "70/70 [==============================] - 1s 7ms/step - loss: 107.7810 - mae: 107.7810 - mse: 71367.8281 - val_loss: 591.9425 - val_mae: 591.9425 - val_mse: 1201036.3750\n",
            "Epoch 98/100\n",
            "70/70 [==============================] - 0s 7ms/step - loss: 108.9185 - mae: 108.9185 - mse: 71438.9375 - val_loss: 588.0724 - val_mae: 588.0724 - val_mse: 1193600.6250\n",
            "Epoch 99/100\n",
            "70/70 [==============================] - 1s 11ms/step - loss: 106.8799 - mae: 106.8799 - mse: 70567.1328 - val_loss: 581.1599 - val_mae: 581.1599 - val_mse: 1193558.5000\n",
            "Epoch 100/100\n",
            "70/70 [==============================] - 1s 11ms/step - loss: 113.4324 - mae: 113.4324 - mse: 70598.3125 - val_loss: 597.6324 - val_mae: 597.6324 - val_mse: 1215381.6250\n"
          ]
        }
      ]
    },
    {
      "cell_type": "markdown",
      "source": [
        "### Predictions"
      ],
      "metadata": {
        "id": "Ee3H9ZAM44-V"
      }
    },
    {
      "cell_type": "code",
      "source": [
        "model_5 = tf.keras.models.load_model('/content/model_experiments/model_5_lstm')\n",
        "\n",
        "model_5_preds = model_5.predict(test_windows)"
      ],
      "metadata": {
        "colab": {
          "base_uri": "https://localhost:8080/"
        },
        "id": "blM0PBx24uS4",
        "outputId": "724f556f-61dc-42e7-c65b-8d4e3e0371fa"
      },
      "execution_count": null,
      "outputs": [
        {
          "output_type": "stream",
          "name": "stdout",
          "text": [
            "18/18 [==============================] - 1s 5ms/step\n"
          ]
        }
      ]
    },
    {
      "cell_type": "code",
      "source": [
        "# Metrics\n",
        "model_5_metrics = metrics_dict(test_labels, model_5_preds)\n",
        "model_5_metrics"
      ],
      "metadata": {
        "colab": {
          "base_uri": "https://localhost:8080/"
        },
        "id": "N1YpYOvF5GQz",
        "outputId": "9a8fc154-a446-4322-a260-2b0aac99083f"
      },
      "execution_count": null,
      "outputs": [
        {
          "output_type": "execute_result",
          "data": {
            "text/plain": [
              "{'Mean Absolute Error': 565.1720734170467,\n",
              " 'Mean Absolute Percentage Error': 2.5325473863209247,\n",
              " 'MSE': 1158012.1932761737,\n",
              " 'RMSE': 1076.109749642746,\n",
              " 'MASE': 0.992850691009494}"
            ]
          },
          "metadata": {},
          "execution_count": 123
        }
      ]
    },
    {
      "cell_type": "markdown",
      "source": [
        "### Plot model 5 predictions"
      ],
      "metadata": {
        "id": "gGk6VaE85WIt"
      }
    },
    {
      "cell_type": "code",
      "source": [
        "offset = 300\n",
        "plt.figure(figsize=(10, 7))\n",
        "\n",
        "plot_time_series(x=X_test[-len(test_windows):], y=test_labels[:, 0], start=offset, label='Test Data', format='.')\n",
        "plot_time_series(x=X_test[-len(test_windows):], y=model_5_preds, start=offset, format='-', label='Test Data')"
      ],
      "metadata": {
        "colab": {
          "base_uri": "https://localhost:8080/",
          "height": 619
        },
        "id": "Dib8Ouog5fcX",
        "outputId": "ad301ccd-1845-426b-b1fb-edd3300edd8f"
      },
      "execution_count": null,
      "outputs": [
        {
          "output_type": "display_data",
          "data": {
            "text/plain": [
              "<Figure size 1000x700 with 1 Axes>"
            ],
            "image/png": "[encoded data removed]"
          },
          "metadata": {}
        }
      ]
    },
    {
      "cell_type": "markdown",
      "source": [
        "## Model 6 | Multivariate Series"
      ],
      "metadata": {
        "id": "pExtF5nt_mT5"
      }
    },
    {
      "cell_type": "markdown",
      "source": [
        "### Making our multivariate time series dataset"
      ],
      "metadata": {
        "id": "GutKtkQP_uO9"
      }
    },
    {
      "cell_type": "markdown",
      "source": [
        "We're using an open system: we can add any feature to our time series -> we're going to use the bitcoin block size halving events"
      ],
      "metadata": {
        "id": "pff-jhUm_6Ve"
      }
    },
    {
      "cell_type": "code",
      "source": [
        "# Review dataset\n",
        "bitcoin_prices.head()"
      ],
      "metadata": {
        "colab": {
          "base_uri": "https://localhost:8080/",
          "height": 235
        },
        "id": "Dg5aaeKk6io7",
        "outputId": "9b307d8a-11c6-479c-ae8c-1580f19b23de"
      },
      "execution_count": null,
      "outputs": [
        {
          "output_type": "execute_result",
          "data": {
            "text/plain": [
              "                Price\n",
              "Date                 \n",
              "2013-10-01  123.65499\n",
              "2013-10-02  125.45500\n",
              "2013-10-03  108.58483\n",
              "2013-10-04  118.67466\n",
              "2013-10-05  121.33866"
            ],
            "text/html": [
              "\n",
              "  <div id=\"df-da7a4782-fd48-404c-807b-1f4ad1e73717\" class=\"colab-df-container\">\n",
              "    <div>\n",
              "<style scoped>\n",
              "    .dataframe tbody tr th:only-of-type {\n",
              "        vertical-align: middle;\n",
              "    }\n",
              "\n",
              "    .dataframe tbody tr th {\n",
              "        vertical-align: top;\n",
              "    }\n",
              "\n",
              "    .dataframe thead th {\n",
              "        text-align: right;\n",
              "    }\n",
              "</style>\n",
              "<table border=\"1\" class=\"dataframe\">\n",
              "  <thead>\n",
              "    <tr style=\"text-align: right;\">\n",
              "      <th></th>\n",
              "      <th>Price</th>\n",
              "    </tr>\n",
              "    <tr>\n",
              "      <th>Date</th>\n",
              "      <th></th>\n",
              "    </tr>\n",
              "  </thead>\n",
              "  <tbody>\n",
              "    <tr>\n",
              "      <th>2013-10-01</th>\n",
              "      <td>123.65499</td>\n",
              "    </tr>\n",
              "    <tr>\n",
              "      <th>2013-10-02</th>\n",
              "      <td>125.45500</td>\n",
              "    </tr>\n",
              "    <tr>\n",
              "      <th>2013-10-03</th>\n",
              "      <td>108.58483</td>\n",
              "    </tr>\n",
              "    <tr>\n",
              "      <th>2013-10-04</th>\n",
              "      <td>118.67466</td>\n",
              "    </tr>\n",
              "    <tr>\n",
              "      <th>2013-10-05</th>\n",
              "      <td>121.33866</td>\n",
              "    </tr>\n",
              "  </tbody>\n",
              "</table>\n",
              "</div>\n",
              "    <div class=\"colab-df-buttons\">\n",
              "\n",
              "  <div class=\"colab-df-container\">\n",
              "    <button class=\"colab-df-convert\" onclick=\"convertToInteractive('df-da7a4782-fd48-404c-807b-1f4ad1e73717')\"\n",
              "            title=\"Convert this dataframe to an interactive table.\"\n",
              "            style=\"display:none;\">\n",
              "\n",
              "  <svg xmlns=\"http://www.w3.org/2000/svg\" height=\"24px\" viewBox=\"0 -960 960 960\">\n",
              "    <path d=\"M120-120v-720h720v720H120Zm60-500h600v-160H180v160Zm220 220h160v-160H400v160Zm0 220h160v-160H400v160ZM180-400h160v-160H180v160Zm440 0h160v-160H620v160ZM180-180h160v-160H180v160Zm440 0h160v-160H620v160Z\"/>\n",
              "  </svg>\n",
              "    </button>\n",
              "\n",
              "  <style>\n",
              "    .colab-df-container {\n",
              "      display:flex;\n",
              "      gap: 12px;\n",
              "    }\n",
              "\n",
              "    .colab-df-convert {\n",
              "      background-color: #E8F0FE;\n",
              "      border: none;\n",
              "      border-radius: 50%;\n",
              "      cursor: pointer;\n",
              "      display: none;\n",
              "      fill: #1967D2;\n",
              "      height: 32px;\n",
              "      padding: 0 0 0 0;\n",
              "      width: 32px;\n",
              "    }\n",
              "\n",
              "    .colab-df-convert:hover {\n",
              "      background-color: #E2EBFA;\n",
              "      box-shadow: 0px 1px 2px rgba(60, 64, 67, 0.3), 0px 1px 3px 1px rgba(60, 64, 67, 0.15);\n",
              "      fill: #174EA6;\n",
              "    }\n",
              "\n",
              "    .colab-df-buttons div {\n",
              "      margin-bottom: 4px;\n",
              "    }\n",
              "\n",
              "    [theme=dark] .colab-df-convert {\n",
              "      background-color: #3B4455;\n",
              "      fill: #D2E3FC;\n",
              "    }\n",
              "\n",
              "    [theme=dark] .colab-df-convert:hover {\n",
              "      background-color: #434B5C;\n",
              "      box-shadow: 0px 1px 3px 1px rgba(0, 0, 0, 0.15);\n",
              "      filter: drop-shadow(0px 1px 2px rgba(0, 0, 0, 0.3));\n",
              "      fill: #FFFFFF;\n",
              "    }\n",
              "  </style>\n",
              "\n",
              "    <script>\n",
              "      const buttonEl =\n",
              "        document.querySelector('#df-da7a4782-fd48-404c-807b-1f4ad1e73717 button.colab-df-convert');\n",
              "      buttonEl.style.display =\n",
              "        google.colab.kernel.accessAllowed ? 'block' : 'none';\n",
              "\n",
              "      async function convertToInteractive(key) {\n",
              "        const element = document.querySelector('#df-da7a4782-fd48-404c-807b-1f4ad1e73717');\n",
              "        const dataTable =\n",
              "          await google.colab.kernel.invokeFunction('convertToInteractive',\n",
              "                                                    [key], {});\n",
              "        if (!dataTable) return;\n",
              "\n",
              "        const docLinkHtml = 'Like what you see? Visit the ' +\n",
              "          '<a target=\"_blank\" href=https://colab.research.google.com/notebooks/data_table.ipynb>data table notebook</a>'\n",
              "          + ' to learn more about interactive tables.';\n",
              "        element.innerHTML = '';\n",
              "        dataTable['output_type'] = 'display_data';\n",
              "        await google.colab.output.renderOutput(dataTable, element);\n",
              "        const docLink = document.createElement('div');\n",
              "        docLink.innerHTML = docLinkHtml;\n",
              "        element.appendChild(docLink);\n",
              "      }\n",
              "    </script>\n",
              "  </div>\n",
              "\n",
              "\n",
              "<div id=\"df-1498483d-2e82-4d1a-9ba5-39bda4a1769b\">\n",
              "  <button class=\"colab-df-quickchart\" onclick=\"quickchart('df-1498483d-2e82-4d1a-9ba5-39bda4a1769b')\"\n",
              "            title=\"Suggest charts\"\n",
              "            style=\"display:none;\">\n",
              "\n",
              "<svg xmlns=\"http://www.w3.org/2000/svg\" height=\"24px\"viewBox=\"0 0 24 24\"\n",
              "     width=\"24px\">\n",
              "    <g>\n",
              "        <path d=\"M19 3H5c-1.1 0-2 .9-2 2v14c0 1.1.9 2 2 2h14c1.1 0 2-.9 2-2V5c0-1.1-.9-2-2-2zM9 17H7v-7h2v7zm4 0h-2V7h2v10zm4 0h-2v-4h2v4z\"/>\n",
              "    </g>\n",
              "</svg>\n",
              "  </button>\n",
              "\n",
              "<style>\n",
              "  .colab-df-quickchart {\n",
              "      --bg-color: #E8F0FE;\n",
              "      --fill-color: #1967D2;\n",
              "      --hover-bg-color: #E2EBFA;\n",
              "      --hover-fill-color: #174EA6;\n",
              "      --disabled-fill-color: #AAA;\n",
              "      --disabled-bg-color: #DDD;\n",
              "  }\n",
              "\n",
              "  [theme=dark] .colab-df-quickchart {\n",
              "      --bg-color: #3B4455;\n",
              "      --fill-color: #D2E3FC;\n",
              "      --hover-bg-color: #434B5C;\n",
              "      --hover-fill-color: #FFFFFF;\n",
              "      --disabled-bg-color: #3B4455;\n",
              "      --disabled-fill-color: #666;\n",
              "  }\n",
              "\n",
              "  .colab-df-quickchart {\n",
              "    background-color: var(--bg-color);\n",
              "    border: none;\n",
              "    border-radius: 50%;\n",
              "    cursor: pointer;\n",
              "    display: none;\n",
              "    fill: var(--fill-color);\n",
              "    height: 32px;\n",
              "    padding: 0;\n",
              "    width: 32px;\n",
              "  }\n",
              "\n",
              "  .colab-df-quickchart:hover {\n",
              "    background-color: var(--hover-bg-color);\n",
              "    box-shadow: 0 1px 2px rgba(60, 64, 67, 0.3), 0 1px 3px 1px rgba(60, 64, 67, 0.15);\n",
              "    fill: var(--button-hover-fill-color);\n",
              "  }\n",
              "\n",
              "  .colab-df-quickchart-complete:disabled,\n",
              "  .colab-df-quickchart-complete:disabled:hover {\n",
              "    background-color: var(--disabled-bg-color);\n",
              "    fill: var(--disabled-fill-color);\n",
              "    box-shadow: none;\n",
              "  }\n",
              "\n",
              "  .colab-df-spinner {\n",
              "    border: 2px solid var(--fill-color);\n",
              "    border-color: transparent;\n",
              "    border-bottom-color: var(--fill-color);\n",
              "    animation:\n",
              "      spin 1s steps(1) infinite;\n",
              "  }\n",
              "\n",
              "  @keyframes spin {\n",
              "    0% {\n",
              "      border-color: transparent;\n",
              "      border-bottom-color: var(--fill-color);\n",
              "      border-left-color: var(--fill-color);\n",
              "    }\n",
              "    20% {\n",
              "      border-color: transparent;\n",
              "      border-left-color: var(--fill-color);\n",
              "      border-top-color: var(--fill-color);\n",
              "    }\n",
              "    30% {\n",
              "      border-color: transparent;\n",
              "      border-left-color: var(--fill-color);\n",
              "      border-top-color: var(--fill-color);\n",
              "      border-right-color: var(--fill-color);\n",
              "    }\n",
              "    40% {\n",
              "      border-color: transparent;\n",
              "      border-right-color: var(--fill-color);\n",
              "      border-top-color: var(--fill-color);\n",
              "    }\n",
              "    60% {\n",
              "      border-color: transparent;\n",
              "      border-right-color: var(--fill-color);\n",
              "    }\n",
              "    80% {\n",
              "      border-color: transparent;\n",
              "      border-right-color: var(--fill-color);\n",
              "      border-bottom-color: var(--fill-color);\n",
              "    }\n",
              "    90% {\n",
              "      border-color: transparent;\n",
              "      border-bottom-color: var(--fill-color);\n",
              "    }\n",
              "  }\n",
              "</style>\n",
              "\n",
              "  <script>\n",
              "    async function quickchart(key) {\n",
              "      const quickchartButtonEl =\n",
              "        document.querySelector('#' + key + ' button');\n",
              "      quickchartButtonEl.disabled = true;  // To prevent multiple clicks.\n",
              "      quickchartButtonEl.classList.add('colab-df-spinner');\n",
              "      try {\n",
              "        const charts = await google.colab.kernel.invokeFunction(\n",
              "            'suggestCharts', [key], {});\n",
              "      } catch (error) {\n",
              "        console.error('Error during call to suggestCharts:', error);\n",
              "      }\n",
              "      quickchartButtonEl.classList.remove('colab-df-spinner');\n",
              "      quickchartButtonEl.classList.add('colab-df-quickchart-complete');\n",
              "    }\n",
              "    (() => {\n",
              "      let quickchartButtonEl =\n",
              "        document.querySelector('#df-1498483d-2e82-4d1a-9ba5-39bda4a1769b button');\n",
              "      quickchartButtonEl.style.display =\n",
              "        google.colab.kernel.accessAllowed ? 'block' : 'none';\n",
              "    })();\n",
              "  </script>\n",
              "</div>\n",
              "\n",
              "    </div>\n",
              "  </div>\n"
            ],
            "application/vnd.google.colaboratory.intrinsic+json": {
              "type": "dataframe",
              "variable_name": "bitcoin_prices",
              "summary": "{\n  \"name\": \"bitcoin_prices\",\n  \"rows\": 2787,\n  \"fields\": [\n    {\n      \"column\": \"Date\",\n      \"properties\": {\n        \"dtype\": \"date\",\n        \"min\": \"2013-10-01 00:00:00\",\n        \"max\": \"2021-05-18 00:00:00\",\n        \"num_unique_values\": 2787,\n        \"samples\": [\n          \"2019-06-11 00:00:00\",\n          \"2021-05-03 00:00:00\",\n          \"2017-10-05 00:00:00\"\n        ],\n        \"semantic_type\": \"\",\n        \"description\": \"\"\n      }\n    },\n    {\n      \"column\": \"Price\",\n      \"properties\": {\n        \"dtype\": \"number\",\n        \"std\": 10887.84744436952,\n        \"min\": 108.58483,\n        \"max\": 63346.7890351052,\n        \"num_unique_values\": 2787,\n        \"samples\": [\n          7954.0062377205,\n          56427.0431250152,\n          4186.78374\n        ],\n        \"semantic_type\": \"\",\n        \"description\": \"\"\n      }\n    }\n  ]\n}"
            }
          },
          "metadata": {},
          "execution_count": 125
        }
      ]
    },
    {
      "cell_type": "code",
      "source": [
        "# Block reward halving dataset\n",
        "block_reward_1 = 50 # 3 January 2009\n",
        "block_reward_2 = 25 # 8 November 2012\n",
        "block_reward_3 = 12.5 # 9 July 2016\n",
        "block_reward_4 = 6.25 # 18 May 2020\n",
        "\n",
        "# Block reward dates\n",
        "block_reward_2_datetime = np.datetime64('2012-11-28')\n",
        "block_reward_3_datetime = np.datetime64('2016-07-09')\n",
        "block_reward_4_datetime = np.datetime64('2020-05-18')"
      ],
      "metadata": {
        "id": "Fkfxw_eaArLg"
      },
      "execution_count": null,
      "outputs": []
    },
    {
      "cell_type": "code",
      "source": [
        "bitcoin_prices_block = bitcoin_prices.copy()\n",
        "bitcoin_prices_block['block_reward'] = np.nan\n",
        "bitcoin_prices_block.head()"
      ],
      "metadata": {
        "colab": {
          "base_uri": "https://localhost:8080/",
          "height": 235
        },
        "id": "zYcf1SPnCm7r",
        "outputId": "10a66730-8789-46d5-8e0a-853d10d0783a"
      },
      "execution_count": null,
      "outputs": [
        {
          "output_type": "execute_result",
          "data": {
            "text/plain": [
              "                Price  block_reward\n",
              "Date                               \n",
              "2013-10-01  123.65499           NaN\n",
              "2013-10-02  125.45500           NaN\n",
              "2013-10-03  108.58483           NaN\n",
              "2013-10-04  118.67466           NaN\n",
              "2013-10-05  121.33866           NaN"
            ],
            "text/html": [
              "\n",
              "  <div id=\"df-5e8da4b3-12bc-4b1a-a887-da1fc5b1feb0\" class=\"colab-df-container\">\n",
              "    <div>\n",
              "<style scoped>\n",
              "    .dataframe tbody tr th:only-of-type {\n",
              "        vertical-align: middle;\n",
              "    }\n",
              "\n",
              "    .dataframe tbody tr th {\n",
              "        vertical-align: top;\n",
              "    }\n",
              "\n",
              "    .dataframe thead th {\n",
              "        text-align: right;\n",
              "    }\n",
              "</style>\n",
              "<table border=\"1\" class=\"dataframe\">\n",
              "  <thead>\n",
              "    <tr style=\"text-align: right;\">\n",
              "      <th></th>\n",
              "      <th>Price</th>\n",
              "      <th>block_reward</th>\n",
              "    </tr>\n",
              "    <tr>\n",
              "      <th>Date</th>\n",
              "      <th></th>\n",
              "      <th></th>\n",
              "    </tr>\n",
              "  </thead>\n",
              "  <tbody>\n",
              "    <tr>\n",
              "      <th>2013-10-01</th>\n",
              "      <td>123.65499</td>\n",
              "      <td>NaN</td>\n",
              "    </tr>\n",
              "    <tr>\n",
              "      <th>2013-10-02</th>\n",
              "      <td>125.45500</td>\n",
              "      <td>NaN</td>\n",
              "    </tr>\n",
              "    <tr>\n",
              "      <th>2013-10-03</th>\n",
              "      <td>108.58483</td>\n",
              "      <td>NaN</td>\n",
              "    </tr>\n",
              "    <tr>\n",
              "      <th>2013-10-04</th>\n",
              "      <td>118.67466</td>\n",
              "      <td>NaN</td>\n",
              "    </tr>\n",
              "    <tr>\n",
              "      <th>2013-10-05</th>\n",
              "      <td>121.33866</td>\n",
              "      <td>NaN</td>\n",
              "    </tr>\n",
              "  </tbody>\n",
              "</table>\n",
              "</div>\n",
              "    <div class=\"colab-df-buttons\">\n",
              "\n",
              "  <div class=\"colab-df-container\">\n",
              "    <button class=\"colab-df-convert\" onclick=\"convertToInteractive('df-5e8da4b3-12bc-4b1a-a887-da1fc5b1feb0')\"\n",
              "            title=\"Convert this dataframe to an interactive table.\"\n",
              "            style=\"display:none;\">\n",
              "\n",
              "  <svg xmlns=\"http://www.w3.org/2000/svg\" height=\"24px\" viewBox=\"0 -960 960 960\">\n",
              "    <path d=\"M120-120v-720h720v720H120Zm60-500h600v-160H180v160Zm220 220h160v-160H400v160Zm0 220h160v-160H400v160ZM180-400h160v-160H180v160Zm440 0h160v-160H620v160ZM180-180h160v-160H180v160Zm440 0h160v-160H620v160Z\"/>\n",
              "  </svg>\n",
              "    </button>\n",
              "\n",
              "  <style>\n",
              "    .colab-df-container {\n",
              "      display:flex;\n",
              "      gap: 12px;\n",
              "    }\n",
              "\n",
              "    .colab-df-convert {\n",
              "      background-color: #E8F0FE;\n",
              "      border: none;\n",
              "      border-radius: 50%;\n",
              "      cursor: pointer;\n",
              "      display: none;\n",
              "      fill: #1967D2;\n",
              "      height: 32px;\n",
              "      padding: 0 0 0 0;\n",
              "      width: 32px;\n",
              "    }\n",
              "\n",
              "    .colab-df-convert:hover {\n",
              "      background-color: #E2EBFA;\n",
              "      box-shadow: 0px 1px 2px rgba(60, 64, 67, 0.3), 0px 1px 3px 1px rgba(60, 64, 67, 0.15);\n",
              "      fill: #174EA6;\n",
              "    }\n",
              "\n",
              "    .colab-df-buttons div {\n",
              "      margin-bottom: 4px;\n",
              "    }\n",
              "\n",
              "    [theme=dark] .colab-df-convert {\n",
              "      background-color: #3B4455;\n",
              "      fill: #D2E3FC;\n",
              "    }\n",
              "\n",
              "    [theme=dark] .colab-df-convert:hover {\n",
              "      background-color: #434B5C;\n",
              "      box-shadow: 0px 1px 3px 1px rgba(0, 0, 0, 0.15);\n",
              "      filter: drop-shadow(0px 1px 2px rgba(0, 0, 0, 0.3));\n",
              "      fill: #FFFFFF;\n",
              "    }\n",
              "  </style>\n",
              "\n",
              "    <script>\n",
              "      const buttonEl =\n",
              "        document.querySelector('#df-5e8da4b3-12bc-4b1a-a887-da1fc5b1feb0 button.colab-df-convert');\n",
              "      buttonEl.style.display =\n",
              "        google.colab.kernel.accessAllowed ? 'block' : 'none';\n",
              "\n",
              "      async function convertToInteractive(key) {\n",
              "        const element = document.querySelector('#df-5e8da4b3-12bc-4b1a-a887-da1fc5b1feb0');\n",
              "        const dataTable =\n",
              "          await google.colab.kernel.invokeFunction('convertToInteractive',\n",
              "                                                    [key], {});\n",
              "        if (!dataTable) return;\n",
              "\n",
              "        const docLinkHtml = 'Like what you see? Visit the ' +\n",
              "          '<a target=\"_blank\" href=https://colab.research.google.com/notebooks/data_table.ipynb>data table notebook</a>'\n",
              "          + ' to learn more about interactive tables.';\n",
              "        element.innerHTML = '';\n",
              "        dataTable['output_type'] = 'display_data';\n",
              "        await google.colab.output.renderOutput(dataTable, element);\n",
              "        const docLink = document.createElement('div');\n",
              "        docLink.innerHTML = docLinkHtml;\n",
              "        element.appendChild(docLink);\n",
              "      }\n",
              "    </script>\n",
              "  </div>\n",
              "\n",
              "\n",
              "<div id=\"df-dd2dc4f0-b857-4f98-a609-0411ba5fb0e8\">\n",
              "  <button class=\"colab-df-quickchart\" onclick=\"quickchart('df-dd2dc4f0-b857-4f98-a609-0411ba5fb0e8')\"\n",
              "            title=\"Suggest charts\"\n",
              "            style=\"display:none;\">\n",
              "\n",
              "<svg xmlns=\"http://www.w3.org/2000/svg\" height=\"24px\"viewBox=\"0 0 24 24\"\n",
              "     width=\"24px\">\n",
              "    <g>\n",
              "        <path d=\"M19 3H5c-1.1 0-2 .9-2 2v14c0 1.1.9 2 2 2h14c1.1 0 2-.9 2-2V5c0-1.1-.9-2-2-2zM9 17H7v-7h2v7zm4 0h-2V7h2v10zm4 0h-2v-4h2v4z\"/>\n",
              "    </g>\n",
              "</svg>\n",
              "  </button>\n",
              "\n",
              "<style>\n",
              "  .colab-df-quickchart {\n",
              "      --bg-color: #E8F0FE;\n",
              "      --fill-color: #1967D2;\n",
              "      --hover-bg-color: #E2EBFA;\n",
              "      --hover-fill-color: #174EA6;\n",
              "      --disabled-fill-color: #AAA;\n",
              "      --disabled-bg-color: #DDD;\n",
              "  }\n",
              "\n",
              "  [theme=dark] .colab-df-quickchart {\n",
              "      --bg-color: #3B4455;\n",
              "      --fill-color: #D2E3FC;\n",
              "      --hover-bg-color: #434B5C;\n",
              "      --hover-fill-color: #FFFFFF;\n",
              "      --disabled-bg-color: #3B4455;\n",
              "      --disabled-fill-color: #666;\n",
              "  }\n",
              "\n",
              "  .colab-df-quickchart {\n",
              "    background-color: var(--bg-color);\n",
              "    border: none;\n",
              "    border-radius: 50%;\n",
              "    cursor: pointer;\n",
              "    display: none;\n",
              "    fill: var(--fill-color);\n",
              "    height: 32px;\n",
              "    padding: 0;\n",
              "    width: 32px;\n",
              "  }\n",
              "\n",
              "  .colab-df-quickchart:hover {\n",
              "    background-color: var(--hover-bg-color);\n",
              "    box-shadow: 0 1px 2px rgba(60, 64, 67, 0.3), 0 1px 3px 1px rgba(60, 64, 67, 0.15);\n",
              "    fill: var(--button-hover-fill-color);\n",
              "  }\n",
              "\n",
              "  .colab-df-quickchart-complete:disabled,\n",
              "  .colab-df-quickchart-complete:disabled:hover {\n",
              "    background-color: var(--disabled-bg-color);\n",
              "    fill: var(--disabled-fill-color);\n",
              "    box-shadow: none;\n",
              "  }\n",
              "\n",
              "  .colab-df-spinner {\n",
              "    border: 2px solid var(--fill-color);\n",
              "    border-color: transparent;\n",
              "    border-bottom-color: var(--fill-color);\n",
              "    animation:\n",
              "      spin 1s steps(1) infinite;\n",
              "  }\n",
              "\n",
              "  @keyframes spin {\n",
              "    0% {\n",
              "      border-color: transparent;\n",
              "      border-bottom-color: var(--fill-color);\n",
              "      border-left-color: var(--fill-color);\n",
              "    }\n",
              "    20% {\n",
              "      border-color: transparent;\n",
              "      border-left-color: var(--fill-color);\n",
              "      border-top-color: var(--fill-color);\n",
              "    }\n",
              "    30% {\n",
              "      border-color: transparent;\n",
              "      border-left-color: var(--fill-color);\n",
              "      border-top-color: var(--fill-color);\n",
              "      border-right-color: var(--fill-color);\n",
              "    }\n",
              "    40% {\n",
              "      border-color: transparent;\n",
              "      border-right-color: var(--fill-color);\n",
              "      border-top-color: var(--fill-color);\n",
              "    }\n",
              "    60% {\n",
              "      border-color: transparent;\n",
              "      border-right-color: var(--fill-color);\n",
              "    }\n",
              "    80% {\n",
              "      border-color: transparent;\n",
              "      border-right-color: var(--fill-color);\n",
              "      border-bottom-color: var(--fill-color);\n",
              "    }\n",
              "    90% {\n",
              "      border-color: transparent;\n",
              "      border-bottom-color: var(--fill-color);\n",
              "    }\n",
              "  }\n",
              "</style>\n",
              "\n",
              "  <script>\n",
              "    async function quickchart(key) {\n",
              "      const quickchartButtonEl =\n",
              "        document.querySelector('#' + key + ' button');\n",
              "      quickchartButtonEl.disabled = true;  // To prevent multiple clicks.\n",
              "      quickchartButtonEl.classList.add('colab-df-spinner');\n",
              "      try {\n",
              "        const charts = await google.colab.kernel.invokeFunction(\n",
              "            'suggestCharts', [key], {});\n",
              "      } catch (error) {\n",
              "        console.error('Error during call to suggestCharts:', error);\n",
              "      }\n",
              "      quickchartButtonEl.classList.remove('colab-df-spinner');\n",
              "      quickchartButtonEl.classList.add('colab-df-quickchart-complete');\n",
              "    }\n",
              "    (() => {\n",
              "      let quickchartButtonEl =\n",
              "        document.querySelector('#df-dd2dc4f0-b857-4f98-a609-0411ba5fb0e8 button');\n",
              "      quickchartButtonEl.style.display =\n",
              "        google.colab.kernel.accessAllowed ? 'block' : 'none';\n",
              "    })();\n",
              "  </script>\n",
              "</div>\n",
              "\n",
              "    </div>\n",
              "  </div>\n"
            ],
            "application/vnd.google.colaboratory.intrinsic+json": {
              "type": "dataframe",
              "variable_name": "bitcoin_prices_block",
              "summary": "{\n  \"name\": \"bitcoin_prices_block\",\n  \"rows\": 2787,\n  \"fields\": [\n    {\n      \"column\": \"Date\",\n      \"properties\": {\n        \"dtype\": \"date\",\n        \"min\": \"2013-10-01 00:00:00\",\n        \"max\": \"2021-05-18 00:00:00\",\n        \"num_unique_values\": 2787,\n        \"samples\": [\n          \"2019-06-11 00:00:00\",\n          \"2021-05-03 00:00:00\",\n          \"2017-10-05 00:00:00\"\n        ],\n        \"semantic_type\": \"\",\n        \"description\": \"\"\n      }\n    },\n    {\n      \"column\": \"Price\",\n      \"properties\": {\n        \"dtype\": \"number\",\n        \"std\": 10887.84744436952,\n        \"min\": 108.58483,\n        \"max\": 63346.7890351052,\n        \"num_unique_values\": 2787,\n        \"samples\": [\n          7954.0062377205,\n          56427.0431250152,\n          4186.78374\n        ],\n        \"semantic_type\": \"\",\n        \"description\": \"\"\n      }\n    },\n    {\n      \"column\": \"block_reward\",\n      \"properties\": {\n        \"dtype\": \"number\",\n        \"std\": null,\n        \"min\": null,\n        \"max\": null,\n        \"num_unique_values\": 0,\n        \"samples\": [],\n        \"semantic_type\": \"\",\n        \"description\": \"\"\n      }\n    }\n  ]\n}"
            }
          },
          "metadata": {},
          "execution_count": 127
        }
      ]
    },
    {
      "cell_type": "code",
      "source": [
        "block_2_range = bitcoin_prices_block.loc[:'2016-07-09']\n",
        "block_3_range = bitcoin_prices_block.loc['2016-07-10':'2020-05-18']\n",
        "block_4_range = bitcoin_prices_block.loc['2020-05-19':]"
      ],
      "metadata": {
        "id": "fZHfDVBfCIvs"
      },
      "execution_count": null,
      "outputs": []
    },
    {
      "cell_type": "code",
      "source": [
        "bitcoin_prices_block.loc[:'2016-07-09', 'block_reward'] = block_reward_2\n",
        "bitcoin_prices_block.loc['2016-07-10':'2020-05-18', 'block_reward'] = block_reward_3\n",
        "bitcoin_prices_block.loc['2020-05-19':, 'block_reward'] = block_reward_4"
      ],
      "metadata": {
        "id": "Bng6o3QCE7jK"
      },
      "execution_count": null,
      "outputs": []
    },
    {
      "cell_type": "code",
      "source": [
        "bitcoin_prices_block.loc['2016-07-09':'2016-07-10']"
      ],
      "metadata": {
        "colab": {
          "base_uri": "https://localhost:8080/",
          "height": 142
        },
        "id": "cr1gAV6zGnqz",
        "outputId": "377b9e29-bf79-486d-eb3a-bceed91d98c6"
      },
      "execution_count": null,
      "outputs": [
        {
          "output_type": "execute_result",
          "data": {
            "text/plain": [
              "                Price  block_reward\n",
              "Date                               \n",
              "2016-07-09  654.85299          25.0\n",
              "2016-07-10  649.35600          12.5"
            ],
            "text/html": [
              "\n",
              "  <div id=\"df-eb842354-6e5e-4483-b5c3-93e06bbf578f\" class=\"colab-df-container\">\n",
              "    <div>\n",
              "<style scoped>\n",
              "    .dataframe tbody tr th:only-of-type {\n",
              "        vertical-align: middle;\n",
              "    }\n",
              "\n",
              "    .dataframe tbody tr th {\n",
              "        vertical-align: top;\n",
              "    }\n",
              "\n",
              "    .dataframe thead th {\n",
              "        text-align: right;\n",
              "    }\n",
              "</style>\n",
              "<table border=\"1\" class=\"dataframe\">\n",
              "  <thead>\n",
              "    <tr style=\"text-align: right;\">\n",
              "      <th></th>\n",
              "      <th>Price</th>\n",
              "      <th>block_reward</th>\n",
              "    </tr>\n",
              "    <tr>\n",
              "      <th>Date</th>\n",
              "      <th></th>\n",
              "      <th></th>\n",
              "    </tr>\n",
              "  </thead>\n",
              "  <tbody>\n",
              "    <tr>\n",
              "      <th>2016-07-09</th>\n",
              "      <td>654.85299</td>\n",
              "      <td>25.0</td>\n",
              "    </tr>\n",
              "    <tr>\n",
              "      <th>2016-07-10</th>\n",
              "      <td>649.35600</td>\n",
              "      <td>12.5</td>\n",
              "    </tr>\n",
              "  </tbody>\n",
              "</table>\n",
              "</div>\n",
              "    <div class=\"colab-df-buttons\">\n",
              "\n",
              "  <div class=\"colab-df-container\">\n",
              "    <button class=\"colab-df-convert\" onclick=\"convertToInteractive('df-eb842354-6e5e-4483-b5c3-93e06bbf578f')\"\n",
              "            title=\"Convert this dataframe to an interactive table.\"\n",
              "            style=\"display:none;\">\n",
              "\n",
              "  <svg xmlns=\"http://www.w3.org/2000/svg\" height=\"24px\" viewBox=\"0 -960 960 960\">\n",
              "    <path d=\"M120-120v-720h720v720H120Zm60-500h600v-160H180v160Zm220 220h160v-160H400v160Zm0 220h160v-160H400v160ZM180-400h160v-160H180v160Zm440 0h160v-160H620v160ZM180-180h160v-160H180v160Zm440 0h160v-160H620v160Z\"/>\n",
              "  </svg>\n",
              "    </button>\n",
              "\n",
              "  <style>\n",
              "    .colab-df-container {\n",
              "      display:flex;\n",
              "      gap: 12px;\n",
              "    }\n",
              "\n",
              "    .colab-df-convert {\n",
              "      background-color: #E8F0FE;\n",
              "      border: none;\n",
              "      border-radius: 50%;\n",
              "      cursor: pointer;\n",
              "      display: none;\n",
              "      fill: #1967D2;\n",
              "      height: 32px;\n",
              "      padding: 0 0 0 0;\n",
              "      width: 32px;\n",
              "    }\n",
              "\n",
              "    .colab-df-convert:hover {\n",
              "      background-color: #E2EBFA;\n",
              "      box-shadow: 0px 1px 2px rgba(60, 64, 67, 0.3), 0px 1px 3px 1px rgba(60, 64, 67, 0.15);\n",
              "      fill: #174EA6;\n",
              "    }\n",
              "\n",
              "    .colab-df-buttons div {\n",
              "      margin-bottom: 4px;\n",
              "    }\n",
              "\n",
              "    [theme=dark] .colab-df-convert {\n",
              "      background-color: #3B4455;\n",
              "      fill: #D2E3FC;\n",
              "    }\n",
              "\n",
              "    [theme=dark] .colab-df-convert:hover {\n",
              "      background-color: #434B5C;\n",
              "      box-shadow: 0px 1px 3px 1px rgba(0, 0, 0, 0.15);\n",
              "      filter: drop-shadow(0px 1px 2px rgba(0, 0, 0, 0.3));\n",
              "      fill: #FFFFFF;\n",
              "    }\n",
              "  </style>\n",
              "\n",
              "    <script>\n",
              "      const buttonEl =\n",
              "        document.querySelector('#df-eb842354-6e5e-4483-b5c3-93e06bbf578f button.colab-df-convert');\n",
              "      buttonEl.style.display =\n",
              "        google.colab.kernel.accessAllowed ? 'block' : 'none';\n",
              "\n",
              "      async function convertToInteractive(key) {\n",
              "        const element = document.querySelector('#df-eb842354-6e5e-4483-b5c3-93e06bbf578f');\n",
              "        const dataTable =\n",
              "          await google.colab.kernel.invokeFunction('convertToInteractive',\n",
              "                                                    [key], {});\n",
              "        if (!dataTable) return;\n",
              "\n",
              "        const docLinkHtml = 'Like what you see? Visit the ' +\n",
              "          '<a target=\"_blank\" href=https://colab.research.google.com/notebooks/data_table.ipynb>data table notebook</a>'\n",
              "          + ' to learn more about interactive tables.';\n",
              "        element.innerHTML = '';\n",
              "        dataTable['output_type'] = 'display_data';\n",
              "        await google.colab.output.renderOutput(dataTable, element);\n",
              "        const docLink = document.createElement('div');\n",
              "        docLink.innerHTML = docLinkHtml;\n",
              "        element.appendChild(docLink);\n",
              "      }\n",
              "    </script>\n",
              "  </div>\n",
              "\n",
              "\n",
              "<div id=\"df-dd46e50e-7d3d-49e1-b07b-970529e929af\">\n",
              "  <button class=\"colab-df-quickchart\" onclick=\"quickchart('df-dd46e50e-7d3d-49e1-b07b-970529e929af')\"\n",
              "            title=\"Suggest charts\"\n",
              "            style=\"display:none;\">\n",
              "\n",
              "<svg xmlns=\"http://www.w3.org/2000/svg\" height=\"24px\"viewBox=\"0 0 24 24\"\n",
              "     width=\"24px\">\n",
              "    <g>\n",
              "        <path d=\"M19 3H5c-1.1 0-2 .9-2 2v14c0 1.1.9 2 2 2h14c1.1 0 2-.9 2-2V5c0-1.1-.9-2-2-2zM9 17H7v-7h2v7zm4 0h-2V7h2v10zm4 0h-2v-4h2v4z\"/>\n",
              "    </g>\n",
              "</svg>\n",
              "  </button>\n",
              "\n",
              "<style>\n",
              "  .colab-df-quickchart {\n",
              "      --bg-color: #E8F0FE;\n",
              "      --fill-color: #1967D2;\n",
              "      --hover-bg-color: #E2EBFA;\n",
              "      --hover-fill-color: #174EA6;\n",
              "      --disabled-fill-color: #AAA;\n",
              "      --disabled-bg-color: #DDD;\n",
              "  }\n",
              "\n",
              "  [theme=dark] .colab-df-quickchart {\n",
              "      --bg-color: #3B4455;\n",
              "      --fill-color: #D2E3FC;\n",
              "      --hover-bg-color: #434B5C;\n",
              "      --hover-fill-color: #FFFFFF;\n",
              "      --disabled-bg-color: #3B4455;\n",
              "      --disabled-fill-color: #666;\n",
              "  }\n",
              "\n",
              "  .colab-df-quickchart {\n",
              "    background-color: var(--bg-color);\n",
              "    border: none;\n",
              "    border-radius: 50%;\n",
              "    cursor: pointer;\n",
              "    display: none;\n",
              "    fill: var(--fill-color);\n",
              "    height: 32px;\n",
              "    padding: 0;\n",
              "    width: 32px;\n",
              "  }\n",
              "\n",
              "  .colab-df-quickchart:hover {\n",
              "    background-color: var(--hover-bg-color);\n",
              "    box-shadow: 0 1px 2px rgba(60, 64, 67, 0.3), 0 1px 3px 1px rgba(60, 64, 67, 0.15);\n",
              "    fill: var(--button-hover-fill-color);\n",
              "  }\n",
              "\n",
              "  .colab-df-quickchart-complete:disabled,\n",
              "  .colab-df-quickchart-complete:disabled:hover {\n",
              "    background-color: var(--disabled-bg-color);\n",
              "    fill: var(--disabled-fill-color);\n",
              "    box-shadow: none;\n",
              "  }\n",
              "\n",
              "  .colab-df-spinner {\n",
              "    border: 2px solid var(--fill-color);\n",
              "    border-color: transparent;\n",
              "    border-bottom-color: var(--fill-color);\n",
              "    animation:\n",
              "      spin 1s steps(1) infinite;\n",
              "  }\n",
              "\n",
              "  @keyframes spin {\n",
              "    0% {\n",
              "      border-color: transparent;\n",
              "      border-bottom-color: var(--fill-color);\n",
              "      border-left-color: var(--fill-color);\n",
              "    }\n",
              "    20% {\n",
              "      border-color: transparent;\n",
              "      border-left-color: var(--fill-color);\n",
              "      border-top-color: var(--fill-color);\n",
              "    }\n",
              "    30% {\n",
              "      border-color: transparent;\n",
              "      border-left-color: var(--fill-color);\n",
              "      border-top-color: var(--fill-color);\n",
              "      border-right-color: var(--fill-color);\n",
              "    }\n",
              "    40% {\n",
              "      border-color: transparent;\n",
              "      border-right-color: var(--fill-color);\n",
              "      border-top-color: var(--fill-color);\n",
              "    }\n",
              "    60% {\n",
              "      border-color: transparent;\n",
              "      border-right-color: var(--fill-color);\n",
              "    }\n",
              "    80% {\n",
              "      border-color: transparent;\n",
              "      border-right-color: var(--fill-color);\n",
              "      border-bottom-color: var(--fill-color);\n",
              "    }\n",
              "    90% {\n",
              "      border-color: transparent;\n",
              "      border-bottom-color: var(--fill-color);\n",
              "    }\n",
              "  }\n",
              "</style>\n",
              "\n",
              "  <script>\n",
              "    async function quickchart(key) {\n",
              "      const quickchartButtonEl =\n",
              "        document.querySelector('#' + key + ' button');\n",
              "      quickchartButtonEl.disabled = true;  // To prevent multiple clicks.\n",
              "      quickchartButtonEl.classList.add('colab-df-spinner');\n",
              "      try {\n",
              "        const charts = await google.colab.kernel.invokeFunction(\n",
              "            'suggestCharts', [key], {});\n",
              "      } catch (error) {\n",
              "        console.error('Error during call to suggestCharts:', error);\n",
              "      }\n",
              "      quickchartButtonEl.classList.remove('colab-df-spinner');\n",
              "      quickchartButtonEl.classList.add('colab-df-quickchart-complete');\n",
              "    }\n",
              "    (() => {\n",
              "      let quickchartButtonEl =\n",
              "        document.querySelector('#df-dd46e50e-7d3d-49e1-b07b-970529e929af button');\n",
              "      quickchartButtonEl.style.display =\n",
              "        google.colab.kernel.accessAllowed ? 'block' : 'none';\n",
              "    })();\n",
              "  </script>\n",
              "</div>\n",
              "\n",
              "    </div>\n",
              "  </div>\n"
            ],
            "application/vnd.google.colaboratory.intrinsic+json": {
              "type": "dataframe",
              "summary": "{\n  \"name\": \"bitcoin_prices_block\",\n  \"rows\": 2,\n  \"fields\": [\n    {\n      \"column\": \"Date\",\n      \"properties\": {\n        \"dtype\": \"date\",\n        \"min\": \"2016-07-09 00:00:00\",\n        \"max\": \"2016-07-10 00:00:00\",\n        \"num_unique_values\": 2,\n        \"samples\": [\n          \"2016-07-10 00:00:00\",\n          \"2016-07-09 00:00:00\"\n        ],\n        \"semantic_type\": \"\",\n        \"description\": \"\"\n      }\n    },\n    {\n      \"column\": \"Price\",\n      \"properties\": {\n        \"dtype\": \"number\",\n        \"std\": 3.886958905114627,\n        \"min\": 649.356,\n        \"max\": 654.85299,\n        \"num_unique_values\": 2,\n        \"samples\": [\n          649.356,\n          654.85299\n        ],\n        \"semantic_type\": \"\",\n        \"description\": \"\"\n      }\n    },\n    {\n      \"column\": \"block_reward\",\n      \"properties\": {\n        \"dtype\": \"number\",\n        \"std\": 8.838834764831844,\n        \"min\": 12.5,\n        \"max\": 25.0,\n        \"num_unique_values\": 2,\n        \"samples\": [\n          12.5,\n          25.0\n        ],\n        \"semantic_type\": \"\",\n        \"description\": \"\"\n      }\n    }\n  ]\n}"
            }
          },
          "metadata": {},
          "execution_count": 130
        }
      ]
    },
    {
      "cell_type": "code",
      "source": [
        "# Plot block reward against price over time\n",
        "scaled_price_block_df = pd.DataFrame(minmax_scale(bitcoin_prices_block[['Price', 'block_reward']]),\n",
        "                                                  columns=bitcoin_prices_block.columns,\n",
        "                                                  index=bitcoin_prices_block.index)\n",
        "scaled_price_block_df.plot(figsize=(10, 7))"
      ],
      "metadata": {
        "colab": {
          "base_uri": "https://localhost:8080/",
          "height": 636
        },
        "id": "fbHKXEjVGrZE",
        "outputId": "7261808c-19e1-4a49-e8b7-97ca1d92071f"
      },
      "execution_count": null,
      "outputs": [
        {
          "output_type": "execute_result",
          "data": {
            "text/plain": [
              "<Axes: xlabel='Date'>"
            ]
          },
          "metadata": {},
          "execution_count": 131
        },
        {
          "output_type": "display_data",
          "data": {
            "text/plain": [
              "<Figure size 1000x700 with 1 Axes>"
            ],
            "image/png": "[encoded data removed]"
          },
          "metadata": {}
        }
      ]
    },
    {
      "cell_type": "markdown",
      "source": [
        "#### Making a windowed dataset with pandas"
      ],
      "metadata": {
        "id": "csCB8yr6cn1k"
      }
    },
    {
      "cell_type": "code",
      "source": [
        "HORIZON = 1\n",
        "WINDOW_SIZE = 7"
      ],
      "metadata": {
        "id": "JCw_bDHWbqza"
      },
      "execution_count": null,
      "outputs": []
    },
    {
      "cell_type": "code",
      "source": [
        "bitcoin_prices_windowed = bitcoin_prices_block.copy()\n",
        "\n",
        "# Add windowed columns\n",
        "for i in range(WINDOW_SIZE):\n",
        "  bitcoin_prices_windowed[f\"Price{i+1}\"] = bitcoin_prices_windowed[\"Price\"].shift(i+1)\n",
        "\n",
        "bitcoin_prices_windowed.head(10)"
      ],
      "metadata": {
        "colab": {
          "base_uri": "https://localhost:8080/",
          "height": 390
        },
        "id": "aR1zBbttc_Co",
        "outputId": "28ae1e48-729d-4630-d6a4-66cac90bad1e"
      },
      "execution_count": null,
      "outputs": [
        {
          "output_type": "execute_result",
          "data": {
            "text/plain": [
              "                Price  block_reward     Price1     Price2     Price3  \\\n",
              "Date                                                                   \n",
              "2013-10-01  123.65499          25.0        NaN        NaN        NaN   \n",
              "2013-10-02  125.45500          25.0  123.65499        NaN        NaN   \n",
              "2013-10-03  108.58483          25.0  125.45500  123.65499        NaN   \n",
              "2013-10-04  118.67466          25.0  108.58483  125.45500  123.65499   \n",
              "2013-10-05  121.33866          25.0  118.67466  108.58483  125.45500   \n",
              "2013-10-06  120.65533          25.0  121.33866  118.67466  108.58483   \n",
              "2013-10-07  121.79500          25.0  120.65533  121.33866  118.67466   \n",
              "2013-10-08  123.03300          25.0  121.79500  120.65533  121.33866   \n",
              "2013-10-09  124.04900          25.0  123.03300  121.79500  120.65533   \n",
              "2013-10-10  125.96116          25.0  124.04900  123.03300  121.79500   \n",
              "\n",
              "               Price4     Price5     Price6     Price7  \n",
              "Date                                                    \n",
              "2013-10-01        NaN        NaN        NaN        NaN  \n",
              "2013-10-02        NaN        NaN        NaN        NaN  \n",
              "2013-10-03        NaN        NaN        NaN        NaN  \n",
              "2013-10-04        NaN        NaN        NaN        NaN  \n",
              "2013-10-05  123.65499        NaN        NaN        NaN  \n",
              "2013-10-06  125.45500  123.65499        NaN        NaN  \n",
              "2013-10-07  108.58483  125.45500  123.65499        NaN  \n",
              "2013-10-08  118.67466  108.58483  125.45500  123.65499  \n",
              "2013-10-09  121.33866  118.67466  108.58483  125.45500  \n",
              "2013-10-10  120.65533  121.33866  118.67466  108.58483  "
            ],
            "text/html": [
              "\n",
              "  <div id=\"df-1a9c0aab-c545-4e11-9225-9c066678c198\" class=\"colab-df-container\">\n",
              "    <div>\n",
              "<style scoped>\n",
              "    .dataframe tbody tr th:only-of-type {\n",
              "        vertical-align: middle;\n",
              "    }\n",
              "\n",
              "    .dataframe tbody tr th {\n",
              "        vertical-align: top;\n",
              "    }\n",
              "\n",
              "    .dataframe thead th {\n",
              "        text-align: right;\n",
              "    }\n",
              "</style>\n",
              "<table border=\"1\" class=\"dataframe\">\n",
              "  <thead>\n",
              "    <tr style=\"text-align: right;\">\n",
              "      <th></th>\n",
              "      <th>Price</th>\n",
              "      <th>block_reward</th>\n",
              "      <th>Price1</th>\n",
              "      <th>Price2</th>\n",
              "      <th>Price3</th>\n",
              "      <th>Price4</th>\n",
              "      <th>Price5</th>\n",
              "      <th>Price6</th>\n",
              "      <th>Price7</th>\n",
              "    </tr>\n",
              "    <tr>\n",
              "      <th>Date</th>\n",
              "      <th></th>\n",
              "      <th></th>\n",
              "      <th></th>\n",
              "      <th></th>\n",
              "      <th></th>\n",
              "      <th></th>\n",
              "      <th></th>\n",
              "      <th></th>\n",
              "      <th></th>\n",
              "    </tr>\n",
              "  </thead>\n",
              "  <tbody>\n",
              "    <tr>\n",
              "      <th>2013-10-01</th>\n",
              "      <td>123.65499</td>\n",
              "      <td>25.0</td>\n",
              "      <td>NaN</td>\n",
              "      <td>NaN</td>\n",
              "      <td>NaN</td>\n",
              "      <td>NaN</td>\n",
              "      <td>NaN</td>\n",
              "      <td>NaN</td>\n",
              "      <td>NaN</td>\n",
              "    </tr>\n",
              "    <tr>\n",
              "      <th>2013-10-02</th>\n",
              "      <td>125.45500</td>\n",
              "      <td>25.0</td>\n",
              "      <td>123.65499</td>\n",
              "      <td>NaN</td>\n",
              "      <td>NaN</td>\n",
              "      <td>NaN</td>\n",
              "      <td>NaN</td>\n",
              "      <td>NaN</td>\n",
              "      <td>NaN</td>\n",
              "    </tr>\n",
              "    <tr>\n",
              "      <th>2013-10-03</th>\n",
              "      <td>108.58483</td>\n",
              "      <td>25.0</td>\n",
              "      <td>125.45500</td>\n",
              "      <td>123.65499</td>\n",
              "      <td>NaN</td>\n",
              "      <td>NaN</td>\n",
              "      <td>NaN</td>\n",
              "      <td>NaN</td>\n",
              "      <td>NaN</td>\n",
              "    </tr>\n",
              "    <tr>\n",
              "      <th>2013-10-04</th>\n",
              "      <td>118.67466</td>\n",
              "      <td>25.0</td>\n",
              "      <td>108.58483</td>\n",
              "      <td>125.45500</td>\n",
              "      <td>123.65499</td>\n",
              "      <td>NaN</td>\n",
              "      <td>NaN</td>\n",
              "      <td>NaN</td>\n",
              "      <td>NaN</td>\n",
              "    </tr>\n",
              "    <tr>\n",
              "      <th>2013-10-05</th>\n",
              "      <td>121.33866</td>\n",
              "      <td>25.0</td>\n",
              "      <td>118.67466</td>\n",
              "      <td>108.58483</td>\n",
              "      <td>125.45500</td>\n",
              "      <td>123.65499</td>\n",
              "      <td>NaN</td>\n",
              "      <td>NaN</td>\n",
              "      <td>NaN</td>\n",
              "    </tr>\n",
              "    <tr>\n",
              "      <th>2013-10-06</th>\n",
              "      <td>120.65533</td>\n",
              "      <td>25.0</td>\n",
              "      <td>121.33866</td>\n",
              "      <td>118.67466</td>\n",
              "      <td>108.58483</td>\n",
              "      <td>125.45500</td>\n",
              "      <td>123.65499</td>\n",
              "      <td>NaN</td>\n",
              "      <td>NaN</td>\n",
              "    </tr>\n",
              "    <tr>\n",
              "      <th>2013-10-07</th>\n",
              "      <td>121.79500</td>\n",
              "      <td>25.0</td>\n",
              "      <td>120.65533</td>\n",
              "      <td>121.33866</td>\n",
              "      <td>118.67466</td>\n",
              "      <td>108.58483</td>\n",
              "      <td>125.45500</td>\n",
              "      <td>123.65499</td>\n",
              "      <td>NaN</td>\n",
              "    </tr>\n",
              "    <tr>\n",
              "      <th>2013-10-08</th>\n",
              "      <td>123.03300</td>\n",
              "      <td>25.0</td>\n",
              "      <td>121.79500</td>\n",
              "      <td>120.65533</td>\n",
              "      <td>121.33866</td>\n",
              "      <td>118.67466</td>\n",
              "      <td>108.58483</td>\n",
              "      <td>125.45500</td>\n",
              "      <td>123.65499</td>\n",
              "    </tr>\n",
              "    <tr>\n",
              "      <th>2013-10-09</th>\n",
              "      <td>124.04900</td>\n",
              "      <td>25.0</td>\n",
              "      <td>123.03300</td>\n",
              "      <td>121.79500</td>\n",
              "      <td>120.65533</td>\n",
              "      <td>121.33866</td>\n",
              "      <td>118.67466</td>\n",
              "      <td>108.58483</td>\n",
              "      <td>125.45500</td>\n",
              "    </tr>\n",
              "    <tr>\n",
              "      <th>2013-10-10</th>\n",
              "      <td>125.96116</td>\n",
              "      <td>25.0</td>\n",
              "      <td>124.04900</td>\n",
              "      <td>123.03300</td>\n",
              "      <td>121.79500</td>\n",
              "      <td>120.65533</td>\n",
              "      <td>121.33866</td>\n",
              "      <td>118.67466</td>\n",
              "      <td>108.58483</td>\n",
              "    </tr>\n",
              "  </tbody>\n",
              "</table>\n",
              "</div>\n",
              "    <div class=\"colab-df-buttons\">\n",
              "\n",
              "  <div class=\"colab-df-container\">\n",
              "    <button class=\"colab-df-convert\" onclick=\"convertToInteractive('df-1a9c0aab-c545-4e11-9225-9c066678c198')\"\n",
              "            title=\"Convert this dataframe to an interactive table.\"\n",
              "            style=\"display:none;\">\n",
              "\n",
              "  <svg xmlns=\"http://www.w3.org/2000/svg\" height=\"24px\" viewBox=\"0 -960 960 960\">\n",
              "    <path d=\"M120-120v-720h720v720H120Zm60-500h600v-160H180v160Zm220 220h160v-160H400v160Zm0 220h160v-160H400v160ZM180-400h160v-160H180v160Zm440 0h160v-160H620v160ZM180-180h160v-160H180v160Zm440 0h160v-160H620v160Z\"/>\n",
              "  </svg>\n",
              "    </button>\n",
              "\n",
              "  <style>\n",
              "    .colab-df-container {\n",
              "      display:flex;\n",
              "      gap: 12px;\n",
              "    }\n",
              "\n",
              "    .colab-df-convert {\n",
              "      background-color: #E8F0FE;\n",
              "      border: none;\n",
              "      border-radius: 50%;\n",
              "      cursor: pointer;\n",
              "      display: none;\n",
              "      fill: #1967D2;\n",
              "      height: 32px;\n",
              "      padding: 0 0 0 0;\n",
              "      width: 32px;\n",
              "    }\n",
              "\n",
              "    .colab-df-convert:hover {\n",
              "      background-color: #E2EBFA;\n",
              "      box-shadow: 0px 1px 2px rgba(60, 64, 67, 0.3), 0px 1px 3px 1px rgba(60, 64, 67, 0.15);\n",
              "      fill: #174EA6;\n",
              "    }\n",
              "\n",
              "    .colab-df-buttons div {\n",
              "      margin-bottom: 4px;\n",
              "    }\n",
              "\n",
              "    [theme=dark] .colab-df-convert {\n",
              "      background-color: #3B4455;\n",
              "      fill: #D2E3FC;\n",
              "    }\n",
              "\n",
              "    [theme=dark] .colab-df-convert:hover {\n",
              "      background-color: #434B5C;\n",
              "      box-shadow: 0px 1px 3px 1px rgba(0, 0, 0, 0.15);\n",
              "      filter: drop-shadow(0px 1px 2px rgba(0, 0, 0, 0.3));\n",
              "      fill: #FFFFFF;\n",
              "    }\n",
              "  </style>\n",
              "\n",
              "    <script>\n",
              "      const buttonEl =\n",
              "        document.querySelector('#df-1a9c0aab-c545-4e11-9225-9c066678c198 button.colab-df-convert');\n",
              "      buttonEl.style.display =\n",
              "        google.colab.kernel.accessAllowed ? 'block' : 'none';\n",
              "\n",
              "      async function convertToInteractive(key) {\n",
              "        const element = document.querySelector('#df-1a9c0aab-c545-4e11-9225-9c066678c198');\n",
              "        const dataTable =\n",
              "          await google.colab.kernel.invokeFunction('convertToInteractive',\n",
              "                                                    [key], {});\n",
              "        if (!dataTable) return;\n",
              "\n",
              "        const docLinkHtml = 'Like what you see? Visit the ' +\n",
              "          '<a target=\"_blank\" href=https://colab.research.google.com/notebooks/data_table.ipynb>data table notebook</a>'\n",
              "          + ' to learn more about interactive tables.';\n",
              "        element.innerHTML = '';\n",
              "        dataTable['output_type'] = 'display_data';\n",
              "        await google.colab.output.renderOutput(dataTable, element);\n",
              "        const docLink = document.createElement('div');\n",
              "        docLink.innerHTML = docLinkHtml;\n",
              "        element.appendChild(docLink);\n",
              "      }\n",
              "    </script>\n",
              "  </div>\n",
              "\n",
              "\n",
              "<div id=\"df-e8dfb769-f4c3-43cf-a49c-00d64860b824\">\n",
              "  <button class=\"colab-df-quickchart\" onclick=\"quickchart('df-e8dfb769-f4c3-43cf-a49c-00d64860b824')\"\n",
              "            title=\"Suggest charts\"\n",
              "            style=\"display:none;\">\n",
              "\n",
              "<svg xmlns=\"http://www.w3.org/2000/svg\" height=\"24px\"viewBox=\"0 0 24 24\"\n",
              "     width=\"24px\">\n",
              "    <g>\n",
              "        <path d=\"M19 3H5c-1.1 0-2 .9-2 2v14c0 1.1.9 2 2 2h14c1.1 0 2-.9 2-2V5c0-1.1-.9-2-2-2zM9 17H7v-7h2v7zm4 0h-2V7h2v10zm4 0h-2v-4h2v4z\"/>\n",
              "    </g>\n",
              "</svg>\n",
              "  </button>\n",
              "\n",
              "<style>\n",
              "  .colab-df-quickchart {\n",
              "      --bg-color: #E8F0FE;\n",
              "      --fill-color: #1967D2;\n",
              "      --hover-bg-color: #E2EBFA;\n",
              "      --hover-fill-color: #174EA6;\n",
              "      --disabled-fill-color: #AAA;\n",
              "      --disabled-bg-color: #DDD;\n",
              "  }\n",
              "\n",
              "  [theme=dark] .colab-df-quickchart {\n",
              "      --bg-color: #3B4455;\n",
              "      --fill-color: #D2E3FC;\n",
              "      --hover-bg-color: #434B5C;\n",
              "      --hover-fill-color: #FFFFFF;\n",
              "      --disabled-bg-color: #3B4455;\n",
              "      --disabled-fill-color: #666;\n",
              "  }\n",
              "\n",
              "  .colab-df-quickchart {\n",
              "    background-color: var(--bg-color);\n",
              "    border: none;\n",
              "    border-radius: 50%;\n",
              "    cursor: pointer;\n",
              "    display: none;\n",
              "    fill: var(--fill-color);\n",
              "    height: 32px;\n",
              "    padding: 0;\n",
              "    width: 32px;\n",
              "  }\n",
              "\n",
              "  .colab-df-quickchart:hover {\n",
              "    background-color: var(--hover-bg-color);\n",
              "    box-shadow: 0 1px 2px rgba(60, 64, 67, 0.3), 0 1px 3px 1px rgba(60, 64, 67, 0.15);\n",
              "    fill: var(--button-hover-fill-color);\n",
              "  }\n",
              "\n",
              "  .colab-df-quickchart-complete:disabled,\n",
              "  .colab-df-quickchart-complete:disabled:hover {\n",
              "    background-color: var(--disabled-bg-color);\n",
              "    fill: var(--disabled-fill-color);\n",
              "    box-shadow: none;\n",
              "  }\n",
              "\n",
              "  .colab-df-spinner {\n",
              "    border: 2px solid var(--fill-color);\n",
              "    border-color: transparent;\n",
              "    border-bottom-color: var(--fill-color);\n",
              "    animation:\n",
              "      spin 1s steps(1) infinite;\n",
              "  }\n",
              "\n",
              "  @keyframes spin {\n",
              "    0% {\n",
              "      border-color: transparent;\n",
              "      border-bottom-color: var(--fill-color);\n",
              "      border-left-color: var(--fill-color);\n",
              "    }\n",
              "    20% {\n",
              "      border-color: transparent;\n",
              "      border-left-color: var(--fill-color);\n",
              "      border-top-color: var(--fill-color);\n",
              "    }\n",
              "    30% {\n",
              "      border-color: transparent;\n",
              "      border-left-color: var(--fill-color);\n",
              "      border-top-color: var(--fill-color);\n",
              "      border-right-color: var(--fill-color);\n",
              "    }\n",
              "    40% {\n",
              "      border-color: transparent;\n",
              "      border-right-color: var(--fill-color);\n",
              "      border-top-color: var(--fill-color);\n",
              "    }\n",
              "    60% {\n",
              "      border-color: transparent;\n",
              "      border-right-color: var(--fill-color);\n",
              "    }\n",
              "    80% {\n",
              "      border-color: transparent;\n",
              "      border-right-color: var(--fill-color);\n",
              "      border-bottom-color: var(--fill-color);\n",
              "    }\n",
              "    90% {\n",
              "      border-color: transparent;\n",
              "      border-bottom-color: var(--fill-color);\n",
              "    }\n",
              "  }\n",
              "</style>\n",
              "\n",
              "  <script>\n",
              "    async function quickchart(key) {\n",
              "      const quickchartButtonEl =\n",
              "        document.querySelector('#' + key + ' button');\n",
              "      quickchartButtonEl.disabled = true;  // To prevent multiple clicks.\n",
              "      quickchartButtonEl.classList.add('colab-df-spinner');\n",
              "      try {\n",
              "        const charts = await google.colab.kernel.invokeFunction(\n",
              "            'suggestCharts', [key], {});\n",
              "      } catch (error) {\n",
              "        console.error('Error during call to suggestCharts:', error);\n",
              "      }\n",
              "      quickchartButtonEl.classList.remove('colab-df-spinner');\n",
              "      quickchartButtonEl.classList.add('colab-df-quickchart-complete');\n",
              "    }\n",
              "    (() => {\n",
              "      let quickchartButtonEl =\n",
              "        document.querySelector('#df-e8dfb769-f4c3-43cf-a49c-00d64860b824 button');\n",
              "      quickchartButtonEl.style.display =\n",
              "        google.colab.kernel.accessAllowed ? 'block' : 'none';\n",
              "    })();\n",
              "  </script>\n",
              "</div>\n",
              "\n",
              "    </div>\n",
              "  </div>\n"
            ],
            "application/vnd.google.colaboratory.intrinsic+json": {
              "type": "dataframe",
              "variable_name": "bitcoin_prices_windowed",
              "summary": "{\n  \"name\": \"bitcoin_prices_windowed\",\n  \"rows\": 2787,\n  \"fields\": [\n    {\n      \"column\": \"Date\",\n      \"properties\": {\n        \"dtype\": \"date\",\n        \"min\": \"2013-10-01 00:00:00\",\n        \"max\": \"2021-05-18 00:00:00\",\n        \"num_unique_values\": 2787,\n        \"samples\": [\n          \"2019-06-11 00:00:00\",\n          \"2021-05-03 00:00:00\",\n          \"2017-10-05 00:00:00\"\n        ],\n        \"semantic_type\": \"\",\n        \"description\": \"\"\n      }\n    },\n    {\n      \"column\": \"Price\",\n      \"properties\": {\n        \"dtype\": \"number\",\n        \"std\": 10887.84744436952,\n        \"min\": 108.58483,\n        \"max\": 63346.7890351052,\n        \"num_unique_values\": 2787,\n        \"samples\": [\n          7954.0062377205,\n          56427.0431250152,\n          4186.78374\n        ],\n        \"semantic_type\": \"\",\n        \"description\": \"\"\n      }\n    },\n    {\n      \"column\": \"block_reward\",\n      \"properties\": {\n        \"dtype\": \"number\",\n        \"std\": 6.9318836594819775,\n        \"min\": 6.25,\n        \"max\": 25.0,\n        \"num_unique_values\": 3,\n        \"samples\": [\n          25.0,\n          12.5,\n          6.25\n        ],\n        \"semantic_type\": \"\",\n        \"description\": \"\"\n      }\n    },\n    {\n      \"column\": \"Price1\",\n      \"properties\": {\n        \"dtype\": \"number\",\n        \"std\": 10867.669449725987,\n        \"min\": 108.58483,\n        \"max\": 63346.7890351052,\n        \"num_unique_values\": 2786,\n        \"samples\": [\n          7600.9224920885,\n          57677.9752218988,\n          4186.78374\n        ],\n        \"semantic_type\": \"\",\n        \"description\": \"\"\n      }\n    },\n    {\n      \"column\": \"Price2\",\n      \"properties\": {\n        \"dtype\": \"number\",\n        \"std\": 10844.337848303785,\n        \"min\": 108.58483,\n        \"max\": 63346.7890351052,\n        \"num_unique_values\": 2785,\n        \"samples\": [\n          7600.9224920885,\n          57302.6464240813,\n          4186.78374\n        ],\n        \"semantic_type\": \"\",\n        \"description\": \"\"\n      }\n    },\n    {\n      \"column\": \"Price3\",\n      \"properties\": {\n        \"dtype\": \"number\",\n        \"std\": 10817.871229715483,\n        \"min\": 108.58483,\n        \"max\": 63346.7890351052,\n        \"num_unique_values\": 2784,\n        \"samples\": [\n          241.07183,\n          6883.4963937703,\n          9126.6368222216\n        ],\n        \"semantic_type\": \"\",\n        \"description\": \"\"\n      }\n    },\n    {\n      \"column\": \"Price4\",\n      \"properties\": {\n        \"dtype\": \"number\",\n        \"std\": 10788.261115483672,\n        \"min\": 108.58483,\n        \"max\": 63346.7890351052,\n        \"num_unique_values\": 2783,\n        \"samples\": [\n          241.07183,\n          15374.0443857602,\n          9078.5787771302\n        ],\n        \"semantic_type\": \"\",\n        \"description\": \"\"\n      }\n    },\n    {\n      \"column\": \"Price5\",\n      \"properties\": {\n        \"dtype\": \"number\",\n        \"std\": 10758.915269128049,\n        \"min\": 108.58483,\n        \"max\": 63346.7890351052,\n        \"num_unique_values\": 2782,\n        \"samples\": [\n          6181.7442069566,\n          10691.31129913,\n          3920.99125\n        ],\n        \"semantic_type\": \"\",\n        \"description\": \"\"\n      }\n    },\n    {\n      \"column\": \"Price6\",\n      \"properties\": {\n        \"dtype\": \"number\",\n        \"std\": 10725.887328798459,\n        \"min\": 108.58483,\n        \"max\": 63346.7890351052,\n        \"num_unique_values\": 2781,\n        \"samples\": [\n          15242.93625,\n          609.495,\n          3753.435\n        ],\n        \"semantic_type\": \"\",\n        \"description\": \"\"\n      }\n    },\n    {\n      \"column\": \"Price7\",\n      \"properties\": {\n        \"dtype\": \"number\",\n        \"std\": 10685.56601239665,\n        \"min\": 108.58483,\n        \"max\": 63346.7890351052,\n        \"num_unique_values\": 2780,\n        \"samples\": [\n          15242.93625,\n          609.495,\n          3753.435\n        ],\n        \"semantic_type\": \"\",\n        \"description\": \"\"\n      }\n    }\n  ]\n}"
            }
          },
          "metadata": {},
          "execution_count": 133
        }
      ]
    },
    {
      "cell_type": "code",
      "source": [
        "X = bitcoin_prices_windowed.dropna().drop(\"Price\", axis=1).astype('float32')\n",
        "y = bitcoin_prices_windowed.dropna()['Price'].astype('float32')\n",
        "X.head()"
      ],
      "metadata": {
        "colab": {
          "base_uri": "https://localhost:8080/",
          "height": 235
        },
        "id": "b9bevrABdrSF",
        "outputId": "b23c8aff-0aad-4329-d132-be277abdc16c"
      },
      "execution_count": null,
      "outputs": [
        {
          "output_type": "execute_result",
          "data": {
            "text/plain": [
              "            block_reward      Price1      Price2      Price3      Price4  \\\n",
              "Date                                                                       \n",
              "2013-10-08          25.0  121.794998  120.655327  121.338661  118.674660   \n",
              "2013-10-09          25.0  123.032997  121.794998  120.655327  121.338661   \n",
              "2013-10-10          25.0  124.049004  123.032997  121.794998  120.655327   \n",
              "2013-10-11          25.0  125.961159  124.049004  123.032997  121.794998   \n",
              "2013-10-12          25.0  125.279663  125.961159  124.049004  123.032997   \n",
              "\n",
              "                Price5      Price6      Price7  \n",
              "Date                                            \n",
              "2013-10-08  108.584831  125.455002  123.654991  \n",
              "2013-10-09  118.674660  108.584831  125.455002  \n",
              "2013-10-10  121.338661  118.674660  108.584831  \n",
              "2013-10-11  120.655327  121.338661  118.674660  \n",
              "2013-10-12  121.794998  120.655327  121.338661  "
            ],
            "text/html": [
              "\n",
              "  <div id=\"df-96d83574-9fee-4dd1-b624-757d4f15d86a\" class=\"colab-df-container\">\n",
              "    <div>\n",
              "<style scoped>\n",
              "    .dataframe tbody tr th:only-of-type {\n",
              "        vertical-align: middle;\n",
              "    }\n",
              "\n",
              "    .dataframe tbody tr th {\n",
              "        vertical-align: top;\n",
              "    }\n",
              "\n",
              "    .dataframe thead th {\n",
              "        text-align: right;\n",
              "    }\n",
              "</style>\n",
              "<table border=\"1\" class=\"dataframe\">\n",
              "  <thead>\n",
              "    <tr style=\"text-align: right;\">\n",
              "      <th></th>\n",
              "      <th>block_reward</th>\n",
              "      <th>Price1</th>\n",
              "      <th>Price2</th>\n",
              "      <th>Price3</th>\n",
              "      <th>Price4</th>\n",
              "      <th>Price5</th>\n",
              "      <th>Price6</th>\n",
              "      <th>Price7</th>\n",
              "    </tr>\n",
              "    <tr>\n",
              "      <th>Date</th>\n",
              "      <th></th>\n",
              "      <th></th>\n",
              "      <th></th>\n",
              "      <th></th>\n",
              "      <th></th>\n",
              "      <th></th>\n",
              "      <th></th>\n",
              "      <th></th>\n",
              "    </tr>\n",
              "  </thead>\n",
              "  <tbody>\n",
              "    <tr>\n",
              "      <th>2013-10-08</th>\n",
              "      <td>25.0</td>\n",
              "      <td>121.794998</td>\n",
              "      <td>120.655327</td>\n",
              "      <td>121.338661</td>\n",
              "      <td>118.674660</td>\n",
              "      <td>108.584831</td>\n",
              "      <td>125.455002</td>\n",
              "      <td>123.654991</td>\n",
              "    </tr>\n",
              "    <tr>\n",
              "      <th>2013-10-09</th>\n",
              "      <td>25.0</td>\n",
              "      <td>123.032997</td>\n",
              "      <td>121.794998</td>\n",
              "      <td>120.655327</td>\n",
              "      <td>121.338661</td>\n",
              "      <td>118.674660</td>\n",
              "      <td>108.584831</td>\n",
              "      <td>125.455002</td>\n",
              "    </tr>\n",
              "    <tr>\n",
              "      <th>2013-10-10</th>\n",
              "      <td>25.0</td>\n",
              "      <td>124.049004</td>\n",
              "      <td>123.032997</td>\n",
              "      <td>121.794998</td>\n",
              "      <td>120.655327</td>\n",
              "      <td>121.338661</td>\n",
              "      <td>118.674660</td>\n",
              "      <td>108.584831</td>\n",
              "    </tr>\n",
              "    <tr>\n",
              "      <th>2013-10-11</th>\n",
              "      <td>25.0</td>\n",
              "      <td>125.961159</td>\n",
              "      <td>124.049004</td>\n",
              "      <td>123.032997</td>\n",
              "      <td>121.794998</td>\n",
              "      <td>120.655327</td>\n",
              "      <td>121.338661</td>\n",
              "      <td>118.674660</td>\n",
              "    </tr>\n",
              "    <tr>\n",
              "      <th>2013-10-12</th>\n",
              "      <td>25.0</td>\n",
              "      <td>125.279663</td>\n",
              "      <td>125.961159</td>\n",
              "      <td>124.049004</td>\n",
              "      <td>123.032997</td>\n",
              "      <td>121.794998</td>\n",
              "      <td>120.655327</td>\n",
              "      <td>121.338661</td>\n",
              "    </tr>\n",
              "  </tbody>\n",
              "</table>\n",
              "</div>\n",
              "    <div class=\"colab-df-buttons\">\n",
              "\n",
              "  <div class=\"colab-df-container\">\n",
              "    <button class=\"colab-df-convert\" onclick=\"convertToInteractive('df-96d83574-9fee-4dd1-b624-757d4f15d86a')\"\n",
              "            title=\"Convert this dataframe to an interactive table.\"\n",
              "            style=\"display:none;\">\n",
              "\n",
              "  <svg xmlns=\"http://www.w3.org/2000/svg\" height=\"24px\" viewBox=\"0 -960 960 960\">\n",
              "    <path d=\"M120-120v-720h720v720H120Zm60-500h600v-160H180v160Zm220 220h160v-160H400v160Zm0 220h160v-160H400v160ZM180-400h160v-160H180v160Zm440 0h160v-160H620v160ZM180-180h160v-160H180v160Zm440 0h160v-160H620v160Z\"/>\n",
              "  </svg>\n",
              "    </button>\n",
              "\n",
              "  <style>\n",
              "    .colab-df-container {\n",
              "      display:flex;\n",
              "      gap: 12px;\n",
              "    }\n",
              "\n",
              "    .colab-df-convert {\n",
              "      background-color: #E8F0FE;\n",
              "      border: none;\n",
              "      border-radius: 50%;\n",
              "      cursor: pointer;\n",
              "      display: none;\n",
              "      fill: #1967D2;\n",
              "      height: 32px;\n",
              "      padding: 0 0 0 0;\n",
              "      width: 32px;\n",
              "    }\n",
              "\n",
              "    .colab-df-convert:hover {\n",
              "      background-color: #E2EBFA;\n",
              "      box-shadow: 0px 1px 2px rgba(60, 64, 67, 0.3), 0px 1px 3px 1px rgba(60, 64, 67, 0.15);\n",
              "      fill: #174EA6;\n",
              "    }\n",
              "\n",
              "    .colab-df-buttons div {\n",
              "      margin-bottom: 4px;\n",
              "    }\n",
              "\n",
              "    [theme=dark] .colab-df-convert {\n",
              "      background-color: #3B4455;\n",
              "      fill: #D2E3FC;\n",
              "    }\n",
              "\n",
              "    [theme=dark] .colab-df-convert:hover {\n",
              "      background-color: #434B5C;\n",
              "      box-shadow: 0px 1px 3px 1px rgba(0, 0, 0, 0.15);\n",
              "      filter: drop-shadow(0px 1px 2px rgba(0, 0, 0, 0.3));\n",
              "      fill: #FFFFFF;\n",
              "    }\n",
              "  </style>\n",
              "\n",
              "    <script>\n",
              "      const buttonEl =\n",
              "        document.querySelector('#df-96d83574-9fee-4dd1-b624-757d4f15d86a button.colab-df-convert');\n",
              "      buttonEl.style.display =\n",
              "        google.colab.kernel.accessAllowed ? 'block' : 'none';\n",
              "\n",
              "      async function convertToInteractive(key) {\n",
              "        const element = document.querySelector('#df-96d83574-9fee-4dd1-b624-757d4f15d86a');\n",
              "        const dataTable =\n",
              "          await google.colab.kernel.invokeFunction('convertToInteractive',\n",
              "                                                    [key], {});\n",
              "        if (!dataTable) return;\n",
              "\n",
              "        const docLinkHtml = 'Like what you see? Visit the ' +\n",
              "          '<a target=\"_blank\" href=https://colab.research.google.com/notebooks/data_table.ipynb>data table notebook</a>'\n",
              "          + ' to learn more about interactive tables.';\n",
              "        element.innerHTML = '';\n",
              "        dataTable['output_type'] = 'display_data';\n",
              "        await google.colab.output.renderOutput(dataTable, element);\n",
              "        const docLink = document.createElement('div');\n",
              "        docLink.innerHTML = docLinkHtml;\n",
              "        element.appendChild(docLink);\n",
              "      }\n",
              "    </script>\n",
              "  </div>\n",
              "\n",
              "\n",
              "<div id=\"df-d02cfd01-c9ef-4188-b85a-bd6e835e5b8a\">\n",
              "  <button class=\"colab-df-quickchart\" onclick=\"quickchart('df-d02cfd01-c9ef-4188-b85a-bd6e835e5b8a')\"\n",
              "            title=\"Suggest charts\"\n",
              "            style=\"display:none;\">\n",
              "\n",
              "<svg xmlns=\"http://www.w3.org/2000/svg\" height=\"24px\"viewBox=\"0 0 24 24\"\n",
              "     width=\"24px\">\n",
              "    <g>\n",
              "        <path d=\"M19 3H5c-1.1 0-2 .9-2 2v14c0 1.1.9 2 2 2h14c1.1 0 2-.9 2-2V5c0-1.1-.9-2-2-2zM9 17H7v-7h2v7zm4 0h-2V7h2v10zm4 0h-2v-4h2v4z\"/>\n",
              "    </g>\n",
              "</svg>\n",
              "  </button>\n",
              "\n",
              "<style>\n",
              "  .colab-df-quickchart {\n",
              "      --bg-color: #E8F0FE;\n",
              "      --fill-color: #1967D2;\n",
              "      --hover-bg-color: #E2EBFA;\n",
              "      --hover-fill-color: #174EA6;\n",
              "      --disabled-fill-color: #AAA;\n",
              "      --disabled-bg-color: #DDD;\n",
              "  }\n",
              "\n",
              "  [theme=dark] .colab-df-quickchart {\n",
              "      --bg-color: #3B4455;\n",
              "      --fill-color: #D2E3FC;\n",
              "      --hover-bg-color: #434B5C;\n",
              "      --hover-fill-color: #FFFFFF;\n",
              "      --disabled-bg-color: #3B4455;\n",
              "      --disabled-fill-color: #666;\n",
              "  }\n",
              "\n",
              "  .colab-df-quickchart {\n",
              "    background-color: var(--bg-color);\n",
              "    border: none;\n",
              "    border-radius: 50%;\n",
              "    cursor: pointer;\n",
              "    display: none;\n",
              "    fill: var(--fill-color);\n",
              "    height: 32px;\n",
              "    padding: 0;\n",
              "    width: 32px;\n",
              "  }\n",
              "\n",
              "  .colab-df-quickchart:hover {\n",
              "    background-color: var(--hover-bg-color);\n",
              "    box-shadow: 0 1px 2px rgba(60, 64, 67, 0.3), 0 1px 3px 1px rgba(60, 64, 67, 0.15);\n",
              "    fill: var(--button-hover-fill-color);\n",
              "  }\n",
              "\n",
              "  .colab-df-quickchart-complete:disabled,\n",
              "  .colab-df-quickchart-complete:disabled:hover {\n",
              "    background-color: var(--disabled-bg-color);\n",
              "    fill: var(--disabled-fill-color);\n",
              "    box-shadow: none;\n",
              "  }\n",
              "\n",
              "  .colab-df-spinner {\n",
              "    border: 2px solid var(--fill-color);\n",
              "    border-color: transparent;\n",
              "    border-bottom-color: var(--fill-color);\n",
              "    animation:\n",
              "      spin 1s steps(1) infinite;\n",
              "  }\n",
              "\n",
              "  @keyframes spin {\n",
              "    0% {\n",
              "      border-color: transparent;\n",
              "      border-bottom-color: var(--fill-color);\n",
              "      border-left-color: var(--fill-color);\n",
              "    }\n",
              "    20% {\n",
              "      border-color: transparent;\n",
              "      border-left-color: var(--fill-color);\n",
              "      border-top-color: var(--fill-color);\n",
              "    }\n",
              "    30% {\n",
              "      border-color: transparent;\n",
              "      border-left-color: var(--fill-color);\n",
              "      border-top-color: var(--fill-color);\n",
              "      border-right-color: var(--fill-color);\n",
              "    }\n",
              "    40% {\n",
              "      border-color: transparent;\n",
              "      border-right-color: var(--fill-color);\n",
              "      border-top-color: var(--fill-color);\n",
              "    }\n",
              "    60% {\n",
              "      border-color: transparent;\n",
              "      border-right-color: var(--fill-color);\n",
              "    }\n",
              "    80% {\n",
              "      border-color: transparent;\n",
              "      border-right-color: var(--fill-color);\n",
              "      border-bottom-color: var(--fill-color);\n",
              "    }\n",
              "    90% {\n",
              "      border-color: transparent;\n",
              "      border-bottom-color: var(--fill-color);\n",
              "    }\n",
              "  }\n",
              "</style>\n",
              "\n",
              "  <script>\n",
              "    async function quickchart(key) {\n",
              "      const quickchartButtonEl =\n",
              "        document.querySelector('#' + key + ' button');\n",
              "      quickchartButtonEl.disabled = true;  // To prevent multiple clicks.\n",
              "      quickchartButtonEl.classList.add('colab-df-spinner');\n",
              "      try {\n",
              "        const charts = await google.colab.kernel.invokeFunction(\n",
              "            'suggestCharts', [key], {});\n",
              "      } catch (error) {\n",
              "        console.error('Error during call to suggestCharts:', error);\n",
              "      }\n",
              "      quickchartButtonEl.classList.remove('colab-df-spinner');\n",
              "      quickchartButtonEl.classList.add('colab-df-quickchart-complete');\n",
              "    }\n",
              "    (() => {\n",
              "      let quickchartButtonEl =\n",
              "        document.querySelector('#df-d02cfd01-c9ef-4188-b85a-bd6e835e5b8a button');\n",
              "      quickchartButtonEl.style.display =\n",
              "        google.colab.kernel.accessAllowed ? 'block' : 'none';\n",
              "    })();\n",
              "  </script>\n",
              "</div>\n",
              "\n",
              "    </div>\n",
              "  </div>\n"
            ],
            "application/vnd.google.colaboratory.intrinsic+json": {
              "type": "dataframe",
              "variable_name": "X",
              "summary": "{\n  \"name\": \"X\",\n  \"rows\": 2780,\n  \"fields\": [\n    {\n      \"column\": \"Date\",\n      \"properties\": {\n        \"dtype\": \"date\",\n        \"min\": \"2013-10-08 00:00:00\",\n        \"max\": \"2021-05-18 00:00:00\",\n        \"num_unique_values\": 2780,\n        \"samples\": [\n          \"2018-01-16 00:00:00\",\n          \"2016-10-11 00:00:00\",\n          \"2017-10-02 00:00:00\"\n        ],\n        \"semantic_type\": \"\",\n        \"description\": \"\"\n      }\n    },\n    {\n      \"column\": \"block_reward\",\n      \"properties\": {\n        \"dtype\": \"float32\",\n        \"num_unique_values\": 3,\n        \"samples\": [\n          25.0,\n          12.5,\n          6.25\n        ],\n        \"semantic_type\": \"\",\n        \"description\": \"\"\n      }\n    },\n    {\n      \"column\": \"Price1\",\n      \"properties\": {\n        \"dtype\": \"float32\",\n        \"num_unique_values\": 2780,\n        \"samples\": [\n          13519.92578125,\n          615.916259765625,\n          4300.55126953125\n        ],\n        \"semantic_type\": \"\",\n        \"description\": \"\"\n      }\n    },\n    {\n      \"column\": \"Price2\",\n      \"properties\": {\n        \"dtype\": \"float32\",\n        \"num_unique_values\": 2780,\n        \"samples\": [\n          14217.3623046875,\n          614.5962524414062,\n          4207.8251953125\n        ],\n        \"semantic_type\": \"\",\n        \"description\": \"\"\n      }\n    },\n    {\n      \"column\": \"Price3\",\n      \"properties\": {\n        \"dtype\": \"float32\",\n        \"num_unique_values\": 2780,\n        \"samples\": [\n          14165.90625,\n          617.4450073242188,\n          4062.203857421875\n        ],\n        \"semantic_type\": \"\",\n        \"description\": \"\"\n      }\n    },\n    {\n      \"column\": \"Price4\",\n      \"properties\": {\n        \"dtype\": \"float32\",\n        \"num_unique_values\": 2780,\n        \"samples\": [\n          13633.36328125,\n          610.2337646484375,\n          4220.27978515625\n        ],\n        \"semantic_type\": \"\",\n        \"description\": \"\"\n      }\n    },\n    {\n      \"column\": \"Price5\",\n      \"properties\": {\n        \"dtype\": \"float32\",\n        \"num_unique_values\": 2780,\n        \"samples\": [\n          13269.59765625,\n          610.5700073242188,\n          3939.514892578125\n        ],\n        \"semantic_type\": \"\",\n        \"description\": \"\"\n      }\n    },\n    {\n      \"column\": \"Price6\",\n      \"properties\": {\n        \"dtype\": \"float32\",\n        \"num_unique_values\": 2780,\n        \"samples\": [\n          14122.8251953125,\n          608.125,\n          3920.9912109375\n        ],\n        \"semantic_type\": \"\",\n        \"description\": \"\"\n      }\n    },\n    {\n      \"column\": \"Price7\",\n      \"properties\": {\n        \"dtype\": \"float32\",\n        \"num_unique_values\": 2780,\n        \"samples\": [\n          15242.9365234375,\n          609.4949951171875,\n          3753.43505859375\n        ],\n        \"semantic_type\": \"\",\n        \"description\": \"\"\n      }\n    }\n  ]\n}"
            }
          },
          "metadata": {},
          "execution_count": 134
        }
      ]
    },
    {
      "cell_type": "code",
      "source": [
        "y.head()"
      ],
      "metadata": {
        "colab": {
          "base_uri": "https://localhost:8080/",
          "height": 269
        },
        "id": "ich82tJ4ehuI",
        "outputId": "a9c187f7-b7c6-45cf-ed3c-f16fab10e97a"
      },
      "execution_count": null,
      "outputs": [
        {
          "output_type": "execute_result",
          "data": {
            "text/plain": [
              "Date\n",
              "2013-10-08    123.032997\n",
              "2013-10-09    124.049004\n",
              "2013-10-10    125.961159\n",
              "2013-10-11    125.279663\n",
              "2013-10-12    125.927498\n",
              "Name: Price, dtype: float32"
            ],
            "text/html": [
              "<table border=\"1\" class=\"dataframe\">\n",
              "  <thead>\n",
              "    <tr style=\"text-align: right;\">\n",
              "      <th></th>\n",
              "      <th>Price</th>\n",
              "    </tr>\n",
              "    <tr>\n",
              "      <th>Date</th>\n",
              "      <th></th>\n",
              "    </tr>\n",
              "  </thead>\n",
              "  <tbody>\n",
              "    <tr>\n",
              "      <th>2013-10-08</th>\n",
              "      <td>123.032997</td>\n",
              "    </tr>\n",
              "    <tr>\n",
              "      <th>2013-10-09</th>\n",
              "      <td>124.049004</td>\n",
              "    </tr>\n",
              "    <tr>\n",
              "      <th>2013-10-10</th>\n",
              "      <td>125.961159</td>\n",
              "    </tr>\n",
              "    <tr>\n",
              "      <th>2013-10-11</th>\n",
              "      <td>125.279663</td>\n",
              "    </tr>\n",
              "    <tr>\n",
              "      <th>2013-10-12</th>\n",
              "      <td>125.927498</td>\n",
              "    </tr>\n",
              "  </tbody>\n",
              "</table><br><label><b>dtype:</b> float32</label>"
            ]
          },
          "metadata": {},
          "execution_count": 135
        }
      ]
    },
    {
      "cell_type": "code",
      "source": [
        "# Make train and test sets\n",
        "split_size = int(len(X) * 0.8)\n",
        "X_train, y_train = X[:split_size], y[:split_size]\n",
        "X_test, y_test = X[split_size:], y[split_size:]"
      ],
      "metadata": {
        "id": "fTbL6pv5ejb5"
      },
      "execution_count": null,
      "outputs": []
    },
    {
      "cell_type": "markdown",
      "source": [
        "### The model"
      ],
      "metadata": {
        "id": "wKuzB6bCjCqo"
      }
    },
    {
      "cell_type": "code",
      "source": [
        "# Build\n",
        "model_6 = tf.keras.Sequential([\n",
        "    layers.Dense(128, activation='relu'),\n",
        "    layers.Dense(128, activation='relu'),\n",
        "    layers.Dense(HORIZON)\n",
        "], name='model_6_multivariate')\n",
        "\n",
        "# Compile\n",
        "model_6.compile(loss='mae',\n",
        "                 optimizer=tf.keras.optimizers.Adam(),\n",
        "                 metrics=['mae', 'mse'])\n",
        "\n",
        "# Fit\n",
        "history6 = model_6.fit(X_train, y_train,\n",
        "                       validation_data=[X_test, y_test],\n",
        "                       epochs=100,\n",
        "                       batch_size=128,\n",
        "                       callbacks=[create_model_checkpoint(model_name=model_6.name)])"
      ],
      "metadata": {
        "colab": {
          "base_uri": "https://localhost:8080/"
        },
        "id": "QHWoVsOxe-my",
        "outputId": "38db7641-2e5c-46b2-dcc6-a178a50ec185"
      },
      "execution_count": null,
      "outputs": [
        {
          "output_type": "stream",
          "name": "stdout",
          "text": [
            "Epoch 1/100\n",
            "18/18 [==============================] - 3s 94ms/step - loss: 1055.6735 - mae: 1055.6735 - mse: 4660236.5000 - val_loss: 1523.3638 - val_mae: 1523.3638 - val_mse: 5743832.5000\n",
            "Epoch 2/100\n",
            "18/18 [==============================] - 2s 97ms/step - loss: 252.9150 - mae: 252.9150 - mse: 266113.5000 - val_loss: 1356.2607 - val_mae: 1356.2607 - val_mse: 4752615.0000\n",
            "Epoch 3/100\n",
            "18/18 [==============================] - 2s 108ms/step - loss: 183.2247 - mae: 183.2247 - mse: 174316.8281 - val_loss: 912.4185 - val_mae: 912.4185 - val_mse: 2820125.0000\n",
            "Epoch 4/100\n",
            "18/18 [==============================] - 2s 129ms/step - loss: 157.6755 - mae: 157.6755 - mse: 134079.5625 - val_loss: 853.8911 - val_mae: 853.8911 - val_mse: 2442781.2500\n",
            "Epoch 5/100\n",
            "18/18 [==============================] - 2s 113ms/step - loss: 140.7604 - mae: 140.7604 - mse: 111516.2578 - val_loss: 743.0701 - val_mae: 743.0702 - val_mse: 1879111.8750\n",
            "Epoch 6/100\n",
            "18/18 [==============================] - 1s 46ms/step - loss: 129.2807 - mae: 129.2807 - mse: 96172.9844 - val_loss: 689.6094 - val_mae: 689.6094 - val_mse: 1591405.3750\n",
            "Epoch 7/100\n",
            "18/18 [==============================] - 0s 6ms/step - loss: 124.8485 - mae: 124.8485 - mse: 86844.1719 - val_loss: 800.7382 - val_mae: 800.7382 - val_mse: 1989982.8750\n",
            "Epoch 8/100\n",
            "18/18 [==============================] - 0s 5ms/step - loss: 140.7634 - mae: 140.7634 - mse: 95815.1641 - val_loss: 722.9019 - val_mae: 722.9019 - val_mse: 1689723.3750\n",
            "Epoch 9/100\n",
            "18/18 [==============================] - 1s 71ms/step - loss: 119.0180 - mae: 119.0180 - mse: 80039.2812 - val_loss: 627.9975 - val_mae: 627.9975 - val_mse: 1378773.7500\n",
            "Epoch 10/100\n",
            "18/18 [==============================] - 0s 5ms/step - loss: 113.8476 - mae: 113.8476 - mse: 77738.4375 - val_loss: 706.2967 - val_mae: 706.2967 - val_mse: 1576436.7500\n",
            "Epoch 11/100\n",
            "18/18 [==============================] - 1s 44ms/step - loss: 112.1695 - mae: 112.1695 - mse: 74455.3047 - val_loss: 612.7493 - val_mae: 612.7493 - val_mse: 1284344.0000\n",
            "Epoch 12/100\n",
            "18/18 [==============================] - 0s 8ms/step - loss: 113.5989 - mae: 113.5989 - mse: 73496.1250 - val_loss: 643.8392 - val_mae: 643.8392 - val_mse: 1376628.5000\n",
            "Epoch 13/100\n",
            "18/18 [==============================] - 0s 5ms/step - loss: 115.6570 - mae: 115.6570 - mse: 77524.7734 - val_loss: 749.1266 - val_mae: 749.1266 - val_mse: 1686063.6250\n",
            "Epoch 14/100\n",
            "18/18 [==============================] - 0s 9ms/step - loss: 115.6013 - mae: 115.6013 - mse: 74525.0547 - val_loss: 640.0365 - val_mae: 640.0365 - val_mse: 1360609.8750\n",
            "Epoch 15/100\n",
            "18/18 [==============================] - 0s 16ms/step - loss: 110.2581 - mae: 110.2581 - mse: 72699.1641 - val_loss: 623.2582 - val_mae: 623.2582 - val_mse: 1287114.3750\n",
            "Epoch 16/100\n",
            "18/18 [==============================] - 2s 100ms/step - loss: 110.9315 - mae: 110.9315 - mse: 74602.2109 - val_loss: 581.8547 - val_mae: 581.8547 - val_mse: 1214557.2500\n",
            "Epoch 17/100\n",
            "18/18 [==============================] - 0s 17ms/step - loss: 112.8814 - mae: 112.8814 - mse: 74932.0703 - val_loss: 624.7703 - val_mae: 624.7703 - val_mse: 1312080.6250\n",
            "Epoch 18/100\n",
            "18/18 [==============================] - 0s 20ms/step - loss: 109.5212 - mae: 109.5212 - mse: 72089.4297 - val_loss: 592.7004 - val_mae: 592.7004 - val_mse: 1220262.2500\n",
            "Epoch 19/100\n",
            "18/18 [==============================] - 0s 24ms/step - loss: 112.1270 - mae: 112.1270 - mse: 70599.4375 - val_loss: 583.7901 - val_mae: 583.7901 - val_mse: 1219528.0000\n",
            "Epoch 20/100\n",
            "18/18 [==============================] - 0s 24ms/step - loss: 118.3705 - mae: 118.3705 - mse: 78814.0859 - val_loss: 747.7972 - val_mae: 747.7972 - val_mse: 1665942.0000\n",
            "Epoch 21/100\n",
            "18/18 [==============================] - 0s 16ms/step - loss: 114.1413 - mae: 114.1413 - mse: 75230.2578 - val_loss: 637.9167 - val_mae: 637.9167 - val_mse: 1344289.8750\n",
            "Epoch 22/100\n",
            "18/18 [==============================] - 0s 19ms/step - loss: 114.0260 - mae: 114.0260 - mse: 72956.3906 - val_loss: 902.6493 - val_mae: 902.6493 - val_mse: 2234576.2500\n",
            "Epoch 23/100\n",
            "18/18 [==============================] - 0s 21ms/step - loss: 126.1881 - mae: 126.1881 - mse: 83168.5547 - val_loss: 673.4086 - val_mae: 673.4086 - val_mse: 1393482.1250\n",
            "Epoch 24/100\n",
            "18/18 [==============================] - 0s 26ms/step - loss: 109.8453 - mae: 109.8453 - mse: 70249.5078 - val_loss: 656.2891 - val_mae: 656.2891 - val_mse: 1348513.1250\n",
            "Epoch 25/100\n",
            "18/18 [==============================] - 4s 262ms/step - loss: 105.8512 - mae: 105.8512 - mse: 69138.6328 - val_loss: 576.9389 - val_mae: 576.9389 - val_mse: 1185373.6250\n",
            "Epoch 26/100\n",
            "18/18 [==============================] - 1s 34ms/step - loss: 106.7928 - mae: 106.7928 - mse: 69855.5938 - val_loss: 586.0084 - val_mae: 586.0084 - val_mse: 1205511.7500\n",
            "Epoch 27/100\n",
            "18/18 [==============================] - 0s 23ms/step - loss: 111.2399 - mae: 111.2399 - mse: 74196.1953 - val_loss: 724.1245 - val_mae: 724.1245 - val_mse: 1517812.6250\n",
            "Epoch 28/100\n",
            "18/18 [==============================] - 0s 28ms/step - loss: 124.9312 - mae: 124.9312 - mse: 81164.6328 - val_loss: 719.2718 - val_mae: 719.2718 - val_mse: 1561118.3750\n",
            "Epoch 29/100\n",
            "18/18 [==============================] - 0s 17ms/step - loss: 113.2560 - mae: 113.2560 - mse: 74332.4922 - val_loss: 578.9046 - val_mae: 578.9046 - val_mse: 1197968.6250\n",
            "Epoch 30/100\n",
            "18/18 [==============================] - 1s 74ms/step - loss: 108.3890 - mae: 108.3890 - mse: 70221.0547 - val_loss: 574.6019 - val_mae: 574.6019 - val_mse: 1183238.8750\n",
            "Epoch 31/100\n",
            "18/18 [==============================] - 0s 11ms/step - loss: 112.8165 - mae: 112.8165 - mse: 71130.5625 - val_loss: 853.1364 - val_mae: 853.1364 - val_mse: 1913978.7500\n",
            "Epoch 32/100\n",
            "18/18 [==============================] - 0s 9ms/step - loss: 125.6427 - mae: 125.6427 - mse: 79086.4844 - val_loss: 851.3977 - val_mae: 851.3977 - val_mse: 2023152.3750\n",
            "Epoch 33/100\n",
            "18/18 [==============================] - 0s 9ms/step - loss: 135.8787 - mae: 135.8787 - mse: 91349.0234 - val_loss: 583.9790 - val_mae: 583.9790 - val_mse: 1209733.5000\n",
            "Epoch 34/100\n",
            "18/18 [==============================] - 0s 11ms/step - loss: 136.9591 - mae: 136.9591 - mse: 87818.5312 - val_loss: 987.9594 - val_mae: 987.9594 - val_mse: 2408726.2500\n",
            "Epoch 35/100\n",
            "18/18 [==============================] - 0s 11ms/step - loss: 119.6914 - mae: 119.6914 - mse: 77215.2031 - val_loss: 647.0755 - val_mae: 647.0755 - val_mse: 1369898.8750\n",
            "Epoch 36/100\n",
            "18/18 [==============================] - 1s 68ms/step - loss: 109.4452 - mae: 109.4452 - mse: 71184.7188 - val_loss: 573.0459 - val_mae: 573.0459 - val_mse: 1181571.7500\n",
            "Epoch 37/100\n",
            "18/18 [==============================] - 0s 5ms/step - loss: 112.6705 - mae: 112.6705 - mse: 72270.0469 - val_loss: 606.1207 - val_mae: 606.1207 - val_mse: 1265351.8750\n",
            "Epoch 38/100\n",
            "18/18 [==============================] - 0s 5ms/step - loss: 110.6707 - mae: 110.6707 - mse: 70490.2109 - val_loss: 603.5070 - val_mae: 603.5070 - val_mse: 1232215.3750\n",
            "Epoch 39/100\n",
            "18/18 [==============================] - 0s 5ms/step - loss: 123.9512 - mae: 123.9512 - mse: 80504.9453 - val_loss: 596.4885 - val_mae: 596.4885 - val_mse: 1241134.2500\n",
            "Epoch 40/100\n",
            "18/18 [==============================] - 0s 5ms/step - loss: 114.4039 - mae: 114.4039 - mse: 72974.7969 - val_loss: 696.0076 - val_mae: 696.0076 - val_mse: 1491182.6250\n",
            "Epoch 41/100\n",
            "18/18 [==============================] - 0s 5ms/step - loss: 120.1659 - mae: 120.1659 - mse: 76839.5000 - val_loss: 682.2945 - val_mae: 682.2945 - val_mse: 1419724.6250\n",
            "Epoch 42/100\n",
            "18/18 [==============================] - 1s 39ms/step - loss: 112.2091 - mae: 112.2091 - mse: 71556.5547 - val_loss: 571.7078 - val_mae: 571.7078 - val_mse: 1183257.5000\n",
            "Epoch 43/100\n",
            "18/18 [==============================] - 0s 6ms/step - loss: 105.0436 - mae: 105.0436 - mse: 67957.3984 - val_loss: 612.1926 - val_mae: 612.1926 - val_mse: 1278000.5000\n",
            "Epoch 44/100\n",
            "18/18 [==============================] - 0s 5ms/step - loss: 105.6616 - mae: 105.6616 - mse: 67635.9688 - val_loss: 585.0429 - val_mae: 585.0429 - val_mse: 1211093.0000\n",
            "Epoch 45/100\n",
            "18/18 [==============================] - 0s 5ms/step - loss: 107.2196 - mae: 107.2196 - mse: 68955.1016 - val_loss: 636.9220 - val_mae: 636.9220 - val_mse: 1294280.8750\n",
            "Epoch 46/100\n",
            "18/18 [==============================] - 0s 5ms/step - loss: 108.4445 - mae: 108.4445 - mse: 70312.0469 - val_loss: 587.4743 - val_mae: 587.4743 - val_mse: 1196145.7500\n",
            "Epoch 47/100\n",
            "18/18 [==============================] - 0s 5ms/step - loss: 105.8509 - mae: 105.8509 - mse: 67444.5703 - val_loss: 606.2880 - val_mae: 606.2880 - val_mse: 1264547.7500\n",
            "Epoch 48/100\n",
            "18/18 [==============================] - 0s 5ms/step - loss: 108.2911 - mae: 108.2911 - mse: 69254.2109 - val_loss: 580.4012 - val_mae: 580.4012 - val_mse: 1184152.1250\n",
            "Epoch 49/100\n",
            "18/18 [==============================] - 0s 5ms/step - loss: 107.7365 - mae: 107.7365 - mse: 68648.9453 - val_loss: 641.3600 - val_mae: 641.3600 - val_mse: 1310431.1250\n",
            "Epoch 50/100\n",
            "18/18 [==============================] - 0s 5ms/step - loss: 111.0838 - mae: 111.0838 - mse: 69754.5078 - val_loss: 647.8414 - val_mae: 647.8414 - val_mse: 1357778.0000\n",
            "Epoch 51/100\n",
            "18/18 [==============================] - 0s 5ms/step - loss: 111.9230 - mae: 111.9230 - mse: 73334.2812 - val_loss: 596.7463 - val_mae: 596.7463 - val_mse: 1242857.7500\n",
            "Epoch 52/100\n",
            "18/18 [==============================] - 0s 5ms/step - loss: 106.5454 - mae: 106.5454 - mse: 69408.7812 - val_loss: 597.1058 - val_mae: 597.1058 - val_mse: 1239175.6250\n",
            "Epoch 53/100\n",
            "18/18 [==============================] - 0s 9ms/step - loss: 109.0888 - mae: 109.0888 - mse: 68462.9688 - val_loss: 624.5737 - val_mae: 624.5737 - val_mse: 1300748.7500\n",
            "Epoch 54/100\n",
            "18/18 [==============================] - 0s 13ms/step - loss: 106.7823 - mae: 106.7823 - mse: 67511.6328 - val_loss: 612.4869 - val_mae: 612.4869 - val_mse: 1279081.3750\n",
            "Epoch 55/100\n",
            "18/18 [==============================] - 0s 11ms/step - loss: 105.6118 - mae: 105.6118 - mse: 66877.6094 - val_loss: 572.1354 - val_mae: 572.1354 - val_mse: 1172552.2500\n",
            "Epoch 56/100\n",
            "18/18 [==============================] - 0s 12ms/step - loss: 103.6617 - mae: 103.6617 - mse: 66807.7891 - val_loss: 678.8990 - val_mae: 678.8991 - val_mse: 1436673.3750\n",
            "Epoch 57/100\n",
            "18/18 [==============================] - 0s 13ms/step - loss: 113.3927 - mae: 113.3927 - mse: 72423.7422 - val_loss: 628.2798 - val_mae: 628.2798 - val_mse: 1279457.0000\n",
            "Epoch 58/100\n",
            "18/18 [==============================] - 0s 10ms/step - loss: 109.9272 - mae: 109.9272 - mse: 71426.9375 - val_loss: 574.2249 - val_mae: 574.2249 - val_mse: 1182951.6250\n",
            "Epoch 59/100\n",
            "18/18 [==============================] - 0s 18ms/step - loss: 116.9895 - mae: 116.9895 - mse: 75615.2031 - val_loss: 726.6650 - val_mae: 726.6650 - val_mse: 1520862.0000\n",
            "Epoch 60/100\n",
            "18/18 [==============================] - 0s 11ms/step - loss: 119.7656 - mae: 119.7656 - mse: 72601.2891 - val_loss: 769.6487 - val_mae: 769.6487 - val_mse: 1718643.6250\n",
            "Epoch 61/100\n",
            "18/18 [==============================] - 0s 12ms/step - loss: 109.4537 - mae: 109.4537 - mse: 68692.5078 - val_loss: 624.7005 - val_mae: 624.7005 - val_mse: 1275462.1250\n",
            "Epoch 62/100\n",
            "18/18 [==============================] - 0s 16ms/step - loss: 112.5527 - mae: 112.5527 - mse: 70887.8594 - val_loss: 604.1255 - val_mae: 604.1255 - val_mse: 1229121.0000\n",
            "Epoch 63/100\n",
            "18/18 [==============================] - 0s 16ms/step - loss: 109.6676 - mae: 109.6676 - mse: 68601.4844 - val_loss: 590.7866 - val_mae: 590.7866 - val_mse: 1199374.7500\n",
            "Epoch 64/100\n",
            "18/18 [==============================] - 0s 9ms/step - loss: 110.8878 - mae: 110.8878 - mse: 70255.5312 - val_loss: 642.4675 - val_mae: 642.4675 - val_mse: 1312766.5000\n",
            "Epoch 65/100\n",
            "18/18 [==============================] - 0s 18ms/step - loss: 115.9520 - mae: 115.9520 - mse: 74535.9531 - val_loss: 837.9674 - val_mae: 837.9674 - val_mse: 1960229.7500\n",
            "Epoch 66/100\n",
            "18/18 [==============================] - 0s 21ms/step - loss: 120.8811 - mae: 120.8811 - mse: 77025.8203 - val_loss: 572.7155 - val_mae: 572.7155 - val_mse: 1175609.6250\n",
            "Epoch 67/100\n",
            "18/18 [==============================] - 0s 21ms/step - loss: 106.6345 - mae: 106.6345 - mse: 69253.4844 - val_loss: 575.9205 - val_mae: 575.9205 - val_mse: 1184189.1250\n",
            "Epoch 68/100\n",
            "18/18 [==============================] - 1s 31ms/step - loss: 105.9072 - mae: 105.9072 - mse: 68676.4141 - val_loss: 586.9418 - val_mae: 586.9418 - val_mse: 1193314.7500\n",
            "Epoch 69/100\n",
            "18/18 [==============================] - 0s 16ms/step - loss: 106.4010 - mae: 106.4010 - mse: 66397.1875 - val_loss: 589.7066 - val_mae: 589.7066 - val_mse: 1217432.3750\n",
            "Epoch 70/100\n",
            "18/18 [==============================] - 0s 18ms/step - loss: 106.4660 - mae: 106.4660 - mse: 67805.2656 - val_loss: 572.8074 - val_mae: 572.8074 - val_mse: 1173553.3750\n",
            "Epoch 71/100\n",
            "18/18 [==============================] - 0s 15ms/step - loss: 105.1311 - mae: 105.1311 - mse: 67910.3672 - val_loss: 583.0263 - val_mae: 583.0263 - val_mse: 1204106.6250\n",
            "Epoch 72/100\n",
            "18/18 [==============================] - 0s 19ms/step - loss: 105.2345 - mae: 105.2345 - mse: 68170.7969 - val_loss: 609.8165 - val_mae: 609.8165 - val_mse: 1234192.6250\n",
            "Epoch 73/100\n",
            "18/18 [==============================] - 0s 20ms/step - loss: 110.3995 - mae: 110.3995 - mse: 70824.6797 - val_loss: 587.8000 - val_mae: 587.8000 - val_mse: 1211411.1250\n",
            "Epoch 74/100\n",
            "18/18 [==============================] - 0s 19ms/step - loss: 105.6506 - mae: 105.6506 - mse: 67144.8828 - val_loss: 604.9145 - val_mae: 604.9145 - val_mse: 1224595.0000\n",
            "Epoch 75/100\n",
            "18/18 [==============================] - 0s 12ms/step - loss: 114.6217 - mae: 114.6217 - mse: 73093.0938 - val_loss: 603.7525 - val_mae: 603.7525 - val_mse: 1224373.1250\n",
            "Epoch 76/100\n",
            "18/18 [==============================] - 0s 17ms/step - loss: 110.9979 - mae: 110.9979 - mse: 70443.7422 - val_loss: 611.6218 - val_mae: 611.6218 - val_mse: 1238323.3750\n",
            "Epoch 77/100\n",
            "18/18 [==============================] - 0s 12ms/step - loss: 113.7956 - mae: 113.7956 - mse: 71062.2188 - val_loss: 602.6865 - val_mae: 602.6865 - val_mse: 1249751.2500\n",
            "Epoch 78/100\n",
            "18/18 [==============================] - 0s 14ms/step - loss: 109.0190 - mae: 109.0190 - mse: 68417.5312 - val_loss: 744.1833 - val_mae: 744.1833 - val_mse: 1571043.3750\n",
            "Epoch 79/100\n",
            "18/18 [==============================] - 0s 9ms/step - loss: 123.4883 - mae: 123.4883 - mse: 81084.2656 - val_loss: 680.6895 - val_mae: 680.6895 - val_mse: 1436233.6250\n",
            "Epoch 80/100\n",
            "18/18 [==============================] - 0s 8ms/step - loss: 111.4654 - mae: 111.4654 - mse: 69301.0312 - val_loss: 590.0248 - val_mae: 590.0248 - val_mse: 1220483.7500\n",
            "Epoch 81/100\n",
            "18/18 [==============================] - 1s 71ms/step - loss: 106.8580 - mae: 106.8580 - mse: 68223.1797 - val_loss: 569.7434 - val_mae: 569.7434 - val_mse: 1167901.1250\n",
            "Epoch 82/100\n",
            "18/18 [==============================] - 0s 9ms/step - loss: 108.2845 - mae: 108.2845 - mse: 68655.2109 - val_loss: 584.3795 - val_mae: 584.3795 - val_mse: 1203418.3750\n",
            "Epoch 83/100\n",
            "18/18 [==============================] - 1s 64ms/step - loss: 109.0452 - mae: 109.0452 - mse: 69184.6797 - val_loss: 567.7225 - val_mae: 567.7225 - val_mse: 1160138.1250\n",
            "Epoch 84/100\n",
            "18/18 [==============================] - 0s 9ms/step - loss: 106.8380 - mae: 106.8380 - mse: 68597.2734 - val_loss: 602.0268 - val_mae: 602.0268 - val_mse: 1246259.6250\n",
            "Epoch 85/100\n",
            "18/18 [==============================] - 0s 8ms/step - loss: 104.9240 - mae: 104.9240 - mse: 67655.0703 - val_loss: 675.3029 - val_mae: 675.3029 - val_mse: 1382567.1250\n",
            "Epoch 86/100\n",
            "18/18 [==============================] - 0s 8ms/step - loss: 106.6323 - mae: 106.6323 - mse: 65682.2891 - val_loss: 574.0947 - val_mae: 574.0947 - val_mse: 1171951.2500\n",
            "Epoch 87/100\n",
            "18/18 [==============================] - 0s 9ms/step - loss: 109.1913 - mae: 109.1913 - mse: 66804.1797 - val_loss: 595.3340 - val_mae: 595.3340 - val_mse: 1205576.5000\n",
            "Epoch 88/100\n",
            "18/18 [==============================] - 0s 12ms/step - loss: 105.0105 - mae: 105.0105 - mse: 67079.9297 - val_loss: 571.6106 - val_mae: 571.6106 - val_mse: 1167427.7500\n",
            "Epoch 89/100\n",
            "18/18 [==============================] - 0s 10ms/step - loss: 103.5577 - mae: 103.5577 - mse: 66540.8203 - val_loss: 578.6806 - val_mae: 578.6806 - val_mse: 1193865.5000\n",
            "Epoch 90/100\n",
            "18/18 [==============================] - 0s 9ms/step - loss: 108.7772 - mae: 108.7772 - mse: 68314.8672 - val_loss: 638.6232 - val_mae: 638.6232 - val_mse: 1294117.6250\n",
            "Epoch 91/100\n",
            "18/18 [==============================] - 0s 8ms/step - loss: 110.6901 - mae: 110.6901 - mse: 70848.5625 - val_loss: 586.8832 - val_mae: 586.8832 - val_mse: 1191455.6250\n",
            "Epoch 92/100\n",
            "18/18 [==============================] - 0s 7ms/step - loss: 104.7568 - mae: 104.7568 - mse: 66847.3359 - val_loss: 584.5258 - val_mae: 584.5258 - val_mse: 1180447.2500\n",
            "Epoch 93/100\n",
            "18/18 [==============================] - 0s 6ms/step - loss: 111.3309 - mae: 111.3309 - mse: 70195.5781 - val_loss: 571.9965 - val_mae: 571.9965 - val_mse: 1163887.3750\n",
            "Epoch 94/100\n",
            "18/18 [==============================] - 0s 5ms/step - loss: 114.8166 - mae: 114.8166 - mse: 74170.5859 - val_loss: 614.7828 - val_mae: 614.7828 - val_mse: 1281633.1250\n",
            "Epoch 95/100\n",
            "18/18 [==============================] - 0s 4ms/step - loss: 109.6871 - mae: 109.6871 - mse: 68023.4766 - val_loss: 581.8269 - val_mae: 581.8269 - val_mse: 1182331.7500\n",
            "Epoch 96/100\n",
            "18/18 [==============================] - 0s 6ms/step - loss: 113.5432 - mae: 113.5432 - mse: 73157.8125 - val_loss: 639.1110 - val_mae: 639.1110 - val_mse: 1298380.6250\n",
            "Epoch 97/100\n",
            "18/18 [==============================] - 0s 7ms/step - loss: 110.4360 - mae: 110.4360 - mse: 69055.1172 - val_loss: 668.8560 - val_mae: 668.8560 - val_mse: 1369503.6250\n",
            "Epoch 98/100\n",
            "18/18 [==============================] - 0s 5ms/step - loss: 109.6009 - mae: 109.6009 - mse: 70675.7500 - val_loss: 586.7236 - val_mae: 586.7236 - val_mse: 1188739.5000\n",
            "Epoch 99/100\n",
            "18/18 [==============================] - 0s 5ms/step - loss: 106.4901 - mae: 106.4901 - mse: 67006.6172 - val_loss: 572.6889 - val_mae: 572.6889 - val_mse: 1170298.5000\n",
            "Epoch 100/100\n",
            "18/18 [==============================] - 0s 6ms/step - loss: 109.8383 - mae: 109.8383 - mse: 68786.5312 - val_loss: 647.5489 - val_mae: 647.5489 - val_mse: 1348985.3750\n"
          ]
        }
      ]
    },
    {
      "cell_type": "markdown",
      "source": [
        "### Predictions"
      ],
      "metadata": {
        "id": "7p3ySjhglPIn"
      }
    },
    {
      "cell_type": "code",
      "source": [
        "model_6 = tf.keras.models.load_model('/content/model_experiments/model_6_multivariate')\n",
        "\n",
        "model_6_preds = model_6.predict(X_test)"
      ],
      "metadata": {
        "colab": {
          "base_uri": "https://localhost:8080/"
        },
        "id": "xscRh9aOlNst",
        "outputId": "905a5116-4afa-45ec-aebe-d7613d84d158"
      },
      "execution_count": null,
      "outputs": [
        {
          "output_type": "stream",
          "name": "stdout",
          "text": [
            "18/18 [==============================] - 0s 1ms/step\n"
          ]
        }
      ]
    },
    {
      "cell_type": "code",
      "source": [
        "model_6_metrics = metrics_dict(tf.cast(y_test, dtype=tf.float32), tf.squeeze(model_6_preds))\n",
        "model_6_metrics"
      ],
      "metadata": {
        "colab": {
          "base_uri": "https://localhost:8080/"
        },
        "id": "ynUe-2KImFie",
        "outputId": "dbff0707-0155-4bc2-98cb-53b5a9b68da9"
      },
      "execution_count": null,
      "outputs": [
        {
          "output_type": "execute_result",
          "data": {
            "text/plain": [
              "{'Mean Absolute Error': 567.7225,\n",
              " 'Mean Absolute Percentage Error': 2.5545941665768623,\n",
              " 'MSE': 1160138.2,\n",
              " 'RMSE': 1077.0972,\n",
              " 'MASE': 0.99733126}"
            ]
          },
          "metadata": {},
          "execution_count": 139
        }
      ]
    },
    {
      "cell_type": "code",
      "source": [
        "model_0_metrics"
      ],
      "metadata": {
        "colab": {
          "base_uri": "https://localhost:8080/"
        },
        "id": "x3sBlQZSnOiW",
        "outputId": "1cbb0ed9-83bf-42ad-e390-28ade5fcab08"
      },
      "execution_count": null,
      "outputs": [
        {
          "output_type": "execute_result",
          "data": {
            "text/plain": [
              "{'Mean Absolute Error': 567.9802273457542,\n",
              " 'Mean Absolute Percentage Error': 2.516524929982267,\n",
              " 'MSE': 1147547.125023896,\n",
              " 'RMSE': 1071.2362601330744,\n",
              " 'MASE': 0.9995699939182624}"
            ]
          },
          "metadata": {},
          "execution_count": 140
        }
      ]
    },
    {
      "cell_type": "markdown",
      "source": [
        "## Model 7 | N-BEATS Algorithm"
      ],
      "metadata": {
        "id": "mhwcIAAEqSM9"
      }
    },
    {
      "cell_type": "markdown",
      "source": [
        "#### Block Layer"
      ],
      "metadata": {
        "id": "r6vNexQZuSzK"
      }
    },
    {
      "cell_type": "code",
      "source": [
        "# Create NBEATSBlock custom layer\n",
        "class NBeatsBlock(tf.keras.layers.Layer):\n",
        "  def __init__(self,\n",
        "               input_size: int,\n",
        "               theta_size: int,\n",
        "               horizon: int,\n",
        "               n_neurons: int,\n",
        "               n_layers: int,\n",
        "               **kwargs):\n",
        "    super().__init__(**kwargs)\n",
        "    self.input_size = input_size\n",
        "    self.theta_size = theta_size\n",
        "    self.horizon = horizon\n",
        "    self.n_neurons = n_neurons\n",
        "    self.n_layers = n_layers\n",
        "\n",
        "    # Block contains a stack of 4 FC layers with ReLu activation\n",
        "    self.hidden = [tf.keras.layers.Dense(n_neurons, activation='relu') for _ in range(n_layers)]\n",
        "\n",
        "    # Output of block is a theta layer with linear activation\n",
        "    self.theta_layer = tf.keras.layers.Dense(theta_size, activation='linear', name='theta')\n",
        "\n",
        "  def call(self, inputs):\n",
        "    x = inputs\n",
        "    for layer in self.hidden:\n",
        "      x = layer(x)\n",
        "    theta = self.theta_layer(x)\n",
        "\n",
        "    # Output the backcast and the forecast from theta\n",
        "    backcast, forecast = theta[:, :self.input_size], theta[:, -self.horizon:]\n",
        "    return backcast, forecast"
      ],
      "metadata": {
        "id": "n71yj2zWqWgB"
      },
      "execution_count": null,
      "outputs": []
    },
    {
      "cell_type": "markdown",
      "source": [
        "#### Test"
      ],
      "metadata": {
        "id": "BqYk9HKU7Ik4"
      }
    },
    {
      "cell_type": "code",
      "source": [
        "# Dummy NBeatsBlock Layer\n",
        "dummy_nbeats_block_layer = NBeatsBlock(input_size=WINDOW_SIZE,\n",
        "                                       horizon=HORIZON,\n",
        "                                       theta_size=WINDOW_SIZE+HORIZON,\n",
        "                                       n_neurons=128,\n",
        "                                       n_layers=4)"
      ],
      "metadata": {
        "id": "l1ZoYkSP7J3a"
      },
      "execution_count": null,
      "outputs": []
    },
    {
      "cell_type": "code",
      "source": [
        "# Create dummy inputs -> same size as input_size\n",
        "dummy_inputs = tf.expand_dims(tf.range(WINDOW_SIZE) + 1, axis=0)\n",
        "dummy_inputs"
      ],
      "metadata": {
        "colab": {
          "base_uri": "https://localhost:8080/"
        },
        "id": "eRV0eLdP7x0Y",
        "outputId": "7d66f8a6-86e2-4b85-fe0e-e79c47dd3c97"
      },
      "execution_count": null,
      "outputs": [
        {
          "output_type": "execute_result",
          "data": {
            "text/plain": [
              "<tf.Tensor: shape=(1, 7), dtype=int32, numpy=array([[1, 2, 3, 4, 5, 6, 7]], dtype=int32)>"
            ]
          },
          "metadata": {},
          "execution_count": 143
        }
      ]
    },
    {
      "cell_type": "code",
      "source": [
        "# Pass dummy inputs NBeatsBlock Layer\n",
        "backcast, forecast = dummy_nbeats_block_layer(dummy_inputs)\n",
        "\n",
        "# These are the activation outputs of the theta layer ( they'll be random due to no training of the model)\n",
        "print(f\"Backcast: {tf.squeeze(backcast.numpy())}\")\n",
        "print(f\"Forecast: {tf.squeeze(forecast.numpy())}\")"
      ],
      "metadata": {
        "colab": {
          "base_uri": "https://localhost:8080/"
        },
        "id": "WGt5Bo0E8Sfy",
        "outputId": "71be9a6b-c6f5-4985-e105-5786649874b5"
      },
      "execution_count": null,
      "outputs": [
        {
          "output_type": "stream",
          "name": "stdout",
          "text": [
            "Backcast: [ 0.4894041   0.1281984  -0.03862458  0.32779557 -0.76665413 -0.5905345\n",
            " -0.31386605]\n",
            "Forecast: 0.04751434177160263\n"
          ]
        }
      ]
    },
    {
      "cell_type": "markdown",
      "source": [
        "### Prepare data"
      ],
      "metadata": {
        "id": "23B6h5iS1XeW"
      }
    },
    {
      "cell_type": "code",
      "source": [
        "HORIZON = 1\n",
        "WINDOW_SIZE = 7"
      ],
      "metadata": {
        "id": "lha9wQws9A9S"
      },
      "execution_count": null,
      "outputs": []
    },
    {
      "cell_type": "code",
      "source": [
        "# Create NBEATS data inputs -> univariate data\n",
        "bitcoin_prices_nbeats = bitcoin_prices.copy()\n",
        "\n",
        "for i in range(WINDOW_SIZE):\n",
        "  bitcoin_prices_nbeats[f\"Prices+{i+1}\"] = bitcoin_prices_nbeats['Price'].shift(i+1)\n",
        "\n",
        "bitcoin_prices_nbeats.head()"
      ],
      "metadata": {
        "colab": {
          "base_uri": "https://localhost:8080/",
          "height": 235
        },
        "id": "T2JtZiff1oZc",
        "outputId": "772c89ec-b33b-4301-e3db-a11b85c68269"
      },
      "execution_count": null,
      "outputs": [
        {
          "output_type": "execute_result",
          "data": {
            "text/plain": [
              "                Price   Prices+1   Prices+2   Prices+3   Prices+4  Prices+5  \\\n",
              "Date                                                                          \n",
              "2013-10-01  123.65499        NaN        NaN        NaN        NaN       NaN   \n",
              "2013-10-02  125.45500  123.65499        NaN        NaN        NaN       NaN   \n",
              "2013-10-03  108.58483  125.45500  123.65499        NaN        NaN       NaN   \n",
              "2013-10-04  118.67466  108.58483  125.45500  123.65499        NaN       NaN   \n",
              "2013-10-05  121.33866  118.67466  108.58483  125.45500  123.65499       NaN   \n",
              "\n",
              "            Prices+6  Prices+7  \n",
              "Date                            \n",
              "2013-10-01       NaN       NaN  \n",
              "2013-10-02       NaN       NaN  \n",
              "2013-10-03       NaN       NaN  \n",
              "2013-10-04       NaN       NaN  \n",
              "2013-10-05       NaN       NaN  "
            ],
            "text/html": [
              "\n",
              "  <div id=\"df-acfba154-1eb1-48a7-8dd0-2fcdbec9829a\" class=\"colab-df-container\">\n",
              "    <div>\n",
              "<style scoped>\n",
              "    .dataframe tbody tr th:only-of-type {\n",
              "        vertical-align: middle;\n",
              "    }\n",
              "\n",
              "    .dataframe tbody tr th {\n",
              "        vertical-align: top;\n",
              "    }\n",
              "\n",
              "    .dataframe thead th {\n",
              "        text-align: right;\n",
              "    }\n",
              "</style>\n",
              "<table border=\"1\" class=\"dataframe\">\n",
              "  <thead>\n",
              "    <tr style=\"text-align: right;\">\n",
              "      <th></th>\n",
              "      <th>Price</th>\n",
              "      <th>Prices+1</th>\n",
              "      <th>Prices+2</th>\n",
              "      <th>Prices+3</th>\n",
              "      <th>Prices+4</th>\n",
              "      <th>Prices+5</th>\n",
              "      <th>Prices+6</th>\n",
              "      <th>Prices+7</th>\n",
              "    </tr>\n",
              "    <tr>\n",
              "      <th>Date</th>\n",
              "      <th></th>\n",
              "      <th></th>\n",
              "      <th></th>\n",
              "      <th></th>\n",
              "      <th></th>\n",
              "      <th></th>\n",
              "      <th></th>\n",
              "      <th></th>\n",
              "    </tr>\n",
              "  </thead>\n",
              "  <tbody>\n",
              "    <tr>\n",
              "      <th>2013-10-01</th>\n",
              "      <td>123.65499</td>\n",
              "      <td>NaN</td>\n",
              "      <td>NaN</td>\n",
              "      <td>NaN</td>\n",
              "      <td>NaN</td>\n",
              "      <td>NaN</td>\n",
              "      <td>NaN</td>\n",
              "      <td>NaN</td>\n",
              "    </tr>\n",
              "    <tr>\n",
              "      <th>2013-10-02</th>\n",
              "      <td>125.45500</td>\n",
              "      <td>123.65499</td>\n",
              "      <td>NaN</td>\n",
              "      <td>NaN</td>\n",
              "      <td>NaN</td>\n",
              "      <td>NaN</td>\n",
              "      <td>NaN</td>\n",
              "      <td>NaN</td>\n",
              "    </tr>\n",
              "    <tr>\n",
              "      <th>2013-10-03</th>\n",
              "      <td>108.58483</td>\n",
              "      <td>125.45500</td>\n",
              "      <td>123.65499</td>\n",
              "      <td>NaN</td>\n",
              "      <td>NaN</td>\n",
              "      <td>NaN</td>\n",
              "      <td>NaN</td>\n",
              "      <td>NaN</td>\n",
              "    </tr>\n",
              "    <tr>\n",
              "      <th>2013-10-04</th>\n",
              "      <td>118.67466</td>\n",
              "      <td>108.58483</td>\n",
              "      <td>125.45500</td>\n",
              "      <td>123.65499</td>\n",
              "      <td>NaN</td>\n",
              "      <td>NaN</td>\n",
              "      <td>NaN</td>\n",
              "      <td>NaN</td>\n",
              "    </tr>\n",
              "    <tr>\n",
              "      <th>2013-10-05</th>\n",
              "      <td>121.33866</td>\n",
              "      <td>118.67466</td>\n",
              "      <td>108.58483</td>\n",
              "      <td>125.45500</td>\n",
              "      <td>123.65499</td>\n",
              "      <td>NaN</td>\n",
              "      <td>NaN</td>\n",
              "      <td>NaN</td>\n",
              "    </tr>\n",
              "  </tbody>\n",
              "</table>\n",
              "</div>\n",
              "    <div class=\"colab-df-buttons\">\n",
              "\n",
              "  <div class=\"colab-df-container\">\n",
              "    <button class=\"colab-df-convert\" onclick=\"convertToInteractive('df-acfba154-1eb1-48a7-8dd0-2fcdbec9829a')\"\n",
              "            title=\"Convert this dataframe to an interactive table.\"\n",
              "            style=\"display:none;\">\n",
              "\n",
              "  <svg xmlns=\"http://www.w3.org/2000/svg\" height=\"24px\" viewBox=\"0 -960 960 960\">\n",
              "    <path d=\"M120-120v-720h720v720H120Zm60-500h600v-160H180v160Zm220 220h160v-160H400v160Zm0 220h160v-160H400v160ZM180-400h160v-160H180v160Zm440 0h160v-160H620v160ZM180-180h160v-160H180v160Zm440 0h160v-160H620v160Z\"/>\n",
              "  </svg>\n",
              "    </button>\n",
              "\n",
              "  <style>\n",
              "    .colab-df-container {\n",
              "      display:flex;\n",
              "      gap: 12px;\n",
              "    }\n",
              "\n",
              "    .colab-df-convert {\n",
              "      background-color: #E8F0FE;\n",
              "      border: none;\n",
              "      border-radius: 50%;\n",
              "      cursor: pointer;\n",
              "      display: none;\n",
              "      fill: #1967D2;\n",
              "      height: 32px;\n",
              "      padding: 0 0 0 0;\n",
              "      width: 32px;\n",
              "    }\n",
              "\n",
              "    .colab-df-convert:hover {\n",
              "      background-color: #E2EBFA;\n",
              "      box-shadow: 0px 1px 2px rgba(60, 64, 67, 0.3), 0px 1px 3px 1px rgba(60, 64, 67, 0.15);\n",
              "      fill: #174EA6;\n",
              "    }\n",
              "\n",
              "    .colab-df-buttons div {\n",
              "      margin-bottom: 4px;\n",
              "    }\n",
              "\n",
              "    [theme=dark] .colab-df-convert {\n",
              "      background-color: #3B4455;\n",
              "      fill: #D2E3FC;\n",
              "    }\n",
              "\n",
              "    [theme=dark] .colab-df-convert:hover {\n",
              "      background-color: #434B5C;\n",
              "      box-shadow: 0px 1px 3px 1px rgba(0, 0, 0, 0.15);\n",
              "      filter: drop-shadow(0px 1px 2px rgba(0, 0, 0, 0.3));\n",
              "      fill: #FFFFFF;\n",
              "    }\n",
              "  </style>\n",
              "\n",
              "    <script>\n",
              "      const buttonEl =\n",
              "        document.querySelector('#df-acfba154-1eb1-48a7-8dd0-2fcdbec9829a button.colab-df-convert');\n",
              "      buttonEl.style.display =\n",
              "        google.colab.kernel.accessAllowed ? 'block' : 'none';\n",
              "\n",
              "      async function convertToInteractive(key) {\n",
              "        const element = document.querySelector('#df-acfba154-1eb1-48a7-8dd0-2fcdbec9829a');\n",
              "        const dataTable =\n",
              "          await google.colab.kernel.invokeFunction('convertToInteractive',\n",
              "                                                    [key], {});\n",
              "        if (!dataTable) return;\n",
              "\n",
              "        const docLinkHtml = 'Like what you see? Visit the ' +\n",
              "          '<a target=\"_blank\" href=https://colab.research.google.com/notebooks/data_table.ipynb>data table notebook</a>'\n",
              "          + ' to learn more about interactive tables.';\n",
              "        element.innerHTML = '';\n",
              "        dataTable['output_type'] = 'display_data';\n",
              "        await google.colab.output.renderOutput(dataTable, element);\n",
              "        const docLink = document.createElement('div');\n",
              "        docLink.innerHTML = docLinkHtml;\n",
              "        element.appendChild(docLink);\n",
              "      }\n",
              "    </script>\n",
              "  </div>\n",
              "\n",
              "\n",
              "<div id=\"df-fb79eac7-1e55-4a3d-b4dd-f6f46ecebeee\">\n",
              "  <button class=\"colab-df-quickchart\" onclick=\"quickchart('df-fb79eac7-1e55-4a3d-b4dd-f6f46ecebeee')\"\n",
              "            title=\"Suggest charts\"\n",
              "            style=\"display:none;\">\n",
              "\n",
              "<svg xmlns=\"http://www.w3.org/2000/svg\" height=\"24px\"viewBox=\"0 0 24 24\"\n",
              "     width=\"24px\">\n",
              "    <g>\n",
              "        <path d=\"M19 3H5c-1.1 0-2 .9-2 2v14c0 1.1.9 2 2 2h14c1.1 0 2-.9 2-2V5c0-1.1-.9-2-2-2zM9 17H7v-7h2v7zm4 0h-2V7h2v10zm4 0h-2v-4h2v4z\"/>\n",
              "    </g>\n",
              "</svg>\n",
              "  </button>\n",
              "\n",
              "<style>\n",
              "  .colab-df-quickchart {\n",
              "      --bg-color: #E8F0FE;\n",
              "      --fill-color: #1967D2;\n",
              "      --hover-bg-color: #E2EBFA;\n",
              "      --hover-fill-color: #174EA6;\n",
              "      --disabled-fill-color: #AAA;\n",
              "      --disabled-bg-color: #DDD;\n",
              "  }\n",
              "\n",
              "  [theme=dark] .colab-df-quickchart {\n",
              "      --bg-color: #3B4455;\n",
              "      --fill-color: #D2E3FC;\n",
              "      --hover-bg-color: #434B5C;\n",
              "      --hover-fill-color: #FFFFFF;\n",
              "      --disabled-bg-color: #3B4455;\n",
              "      --disabled-fill-color: #666;\n",
              "  }\n",
              "\n",
              "  .colab-df-quickchart {\n",
              "    background-color: var(--bg-color);\n",
              "    border: none;\n",
              "    border-radius: 50%;\n",
              "    cursor: pointer;\n",
              "    display: none;\n",
              "    fill: var(--fill-color);\n",
              "    height: 32px;\n",
              "    padding: 0;\n",
              "    width: 32px;\n",
              "  }\n",
              "\n",
              "  .colab-df-quickchart:hover {\n",
              "    background-color: var(--hover-bg-color);\n",
              "    box-shadow: 0 1px 2px rgba(60, 64, 67, 0.3), 0 1px 3px 1px rgba(60, 64, 67, 0.15);\n",
              "    fill: var(--button-hover-fill-color);\n",
              "  }\n",
              "\n",
              "  .colab-df-quickchart-complete:disabled,\n",
              "  .colab-df-quickchart-complete:disabled:hover {\n",
              "    background-color: var(--disabled-bg-color);\n",
              "    fill: var(--disabled-fill-color);\n",
              "    box-shadow: none;\n",
              "  }\n",
              "\n",
              "  .colab-df-spinner {\n",
              "    border: 2px solid var(--fill-color);\n",
              "    border-color: transparent;\n",
              "    border-bottom-color: var(--fill-color);\n",
              "    animation:\n",
              "      spin 1s steps(1) infinite;\n",
              "  }\n",
              "\n",
              "  @keyframes spin {\n",
              "    0% {\n",
              "      border-color: transparent;\n",
              "      border-bottom-color: var(--fill-color);\n",
              "      border-left-color: var(--fill-color);\n",
              "    }\n",
              "    20% {\n",
              "      border-color: transparent;\n",
              "      border-left-color: var(--fill-color);\n",
              "      border-top-color: var(--fill-color);\n",
              "    }\n",
              "    30% {\n",
              "      border-color: transparent;\n",
              "      border-left-color: var(--fill-color);\n",
              "      border-top-color: var(--fill-color);\n",
              "      border-right-color: var(--fill-color);\n",
              "    }\n",
              "    40% {\n",
              "      border-color: transparent;\n",
              "      border-right-color: var(--fill-color);\n",
              "      border-top-color: var(--fill-color);\n",
              "    }\n",
              "    60% {\n",
              "      border-color: transparent;\n",
              "      border-right-color: var(--fill-color);\n",
              "    }\n",
              "    80% {\n",
              "      border-color: transparent;\n",
              "      border-right-color: var(--fill-color);\n",
              "      border-bottom-color: var(--fill-color);\n",
              "    }\n",
              "    90% {\n",
              "      border-color: transparent;\n",
              "      border-bottom-color: var(--fill-color);\n",
              "    }\n",
              "  }\n",
              "</style>\n",
              "\n",
              "  <script>\n",
              "    async function quickchart(key) {\n",
              "      const quickchartButtonEl =\n",
              "        document.querySelector('#' + key + ' button');\n",
              "      quickchartButtonEl.disabled = true;  // To prevent multiple clicks.\n",
              "      quickchartButtonEl.classList.add('colab-df-spinner');\n",
              "      try {\n",
              "        const charts = await google.colab.kernel.invokeFunction(\n",
              "            'suggestCharts', [key], {});\n",
              "      } catch (error) {\n",
              "        console.error('Error during call to suggestCharts:', error);\n",
              "      }\n",
              "      quickchartButtonEl.classList.remove('colab-df-spinner');\n",
              "      quickchartButtonEl.classList.add('colab-df-quickchart-complete');\n",
              "    }\n",
              "    (() => {\n",
              "      let quickchartButtonEl =\n",
              "        document.querySelector('#df-fb79eac7-1e55-4a3d-b4dd-f6f46ecebeee button');\n",
              "      quickchartButtonEl.style.display =\n",
              "        google.colab.kernel.accessAllowed ? 'block' : 'none';\n",
              "    })();\n",
              "  </script>\n",
              "</div>\n",
              "\n",
              "    </div>\n",
              "  </div>\n"
            ],
            "application/vnd.google.colaboratory.intrinsic+json": {
              "type": "dataframe",
              "variable_name": "bitcoin_prices_nbeats",
              "summary": "{\n  \"name\": \"bitcoin_prices_nbeats\",\n  \"rows\": 2787,\n  \"fields\": [\n    {\n      \"column\": \"Date\",\n      \"properties\": {\n        \"dtype\": \"date\",\n        \"min\": \"2013-10-01 00:00:00\",\n        \"max\": \"2021-05-18 00:00:00\",\n        \"num_unique_values\": 2787,\n        \"samples\": [\n          \"2019-06-11 00:00:00\",\n          \"2021-05-03 00:00:00\",\n          \"2017-10-05 00:00:00\"\n        ],\n        \"semantic_type\": \"\",\n        \"description\": \"\"\n      }\n    },\n    {\n      \"column\": \"Price\",\n      \"properties\": {\n        \"dtype\": \"number\",\n        \"std\": 10887.84744436952,\n        \"min\": 108.58483,\n        \"max\": 63346.7890351052,\n        \"num_unique_values\": 2787,\n        \"samples\": [\n          7954.0062377205,\n          56427.0431250152,\n          4186.78374\n        ],\n        \"semantic_type\": \"\",\n        \"description\": \"\"\n      }\n    },\n    {\n      \"column\": \"Prices+1\",\n      \"properties\": {\n        \"dtype\": \"number\",\n        \"std\": 10867.669449725987,\n        \"min\": 108.58483,\n        \"max\": 63346.7890351052,\n        \"num_unique_values\": 2786,\n        \"samples\": [\n          7600.9224920885,\n          57677.9752218988,\n          4186.78374\n        ],\n        \"semantic_type\": \"\",\n        \"description\": \"\"\n      }\n    },\n    {\n      \"column\": \"Prices+2\",\n      \"properties\": {\n        \"dtype\": \"number\",\n        \"std\": 10844.337848303785,\n        \"min\": 108.58483,\n        \"max\": 63346.7890351052,\n        \"num_unique_values\": 2785,\n        \"samples\": [\n          7600.9224920885,\n          57302.6464240813,\n          4186.78374\n        ],\n        \"semantic_type\": \"\",\n        \"description\": \"\"\n      }\n    },\n    {\n      \"column\": \"Prices+3\",\n      \"properties\": {\n        \"dtype\": \"number\",\n        \"std\": 10817.871229715483,\n        \"min\": 108.58483,\n        \"max\": 63346.7890351052,\n        \"num_unique_values\": 2784,\n        \"samples\": [\n          241.07183,\n          6883.4963937703,\n          9126.6368222216\n        ],\n        \"semantic_type\": \"\",\n        \"description\": \"\"\n      }\n    },\n    {\n      \"column\": \"Prices+4\",\n      \"properties\": {\n        \"dtype\": \"number\",\n        \"std\": 10788.261115483672,\n        \"min\": 108.58483,\n        \"max\": 63346.7890351052,\n        \"num_unique_values\": 2783,\n        \"samples\": [\n          241.07183,\n          15374.0443857602,\n          9078.5787771302\n        ],\n        \"semantic_type\": \"\",\n        \"description\": \"\"\n      }\n    },\n    {\n      \"column\": \"Prices+5\",\n      \"properties\": {\n        \"dtype\": \"number\",\n        \"std\": 10758.915269128049,\n        \"min\": 108.58483,\n        \"max\": 63346.7890351052,\n        \"num_unique_values\": 2782,\n        \"samples\": [\n          6181.7442069566,\n          10691.31129913,\n          3920.99125\n        ],\n        \"semantic_type\": \"\",\n        \"description\": \"\"\n      }\n    },\n    {\n      \"column\": \"Prices+6\",\n      \"properties\": {\n        \"dtype\": \"number\",\n        \"std\": 10725.887328798459,\n        \"min\": 108.58483,\n        \"max\": 63346.7890351052,\n        \"num_unique_values\": 2781,\n        \"samples\": [\n          15242.93625,\n          609.495,\n          3753.435\n        ],\n        \"semantic_type\": \"\",\n        \"description\": \"\"\n      }\n    },\n    {\n      \"column\": \"Prices+7\",\n      \"properties\": {\n        \"dtype\": \"number\",\n        \"std\": 10685.56601239665,\n        \"min\": 108.58483,\n        \"max\": 63346.7890351052,\n        \"num_unique_values\": 2780,\n        \"samples\": [\n          15242.93625,\n          609.495,\n          3753.435\n        ],\n        \"semantic_type\": \"\",\n        \"description\": \"\"\n      }\n    }\n  ]\n}"
            }
          },
          "metadata": {},
          "execution_count": 147
        }
      ]
    },
    {
      "cell_type": "code",
      "source": [
        "# Make features and labels\n",
        "X = bitcoin_prices_nbeats.dropna().drop(\"Price\", axis=1)\n",
        "y = bitcoin_prices_nbeats.dropna()[\"Price\"]\n",
        "\n",
        "# Split data\n",
        "split_size = int(len(X) * 0.8)\n",
        "X_train, y_train = X[:split_size], y[:split_size]\n",
        "X_test, y_test = X[split_size:], y[split_size:]"
      ],
      "metadata": {
        "id": "cv3stvRp2Pvg"
      },
      "execution_count": null,
      "outputs": []
    },
    {
      "cell_type": "code",
      "source": [
        "# Use tf.data API to make the dataset more performant\n",
        "train_features_dataset = tf.data.Dataset.from_tensor_slices(X_train)\n",
        "train_labels_dataset = tf.data.Dataset.from_tensor_slices(y_train)\n",
        "\n",
        "test_features_dataset = tf.data.Dataset.from_tensor_slices(X_test)\n",
        "test_labels_dataset = tf.data.Dataset.from_tensor_slices(y_test)\n",
        "\n",
        "# Combine labels and features by zipping together\n",
        "train_dataset = tf.data.Dataset.zip((train_features_dataset, train_labels_dataset))\n",
        "test_dataset = tf.data.Dataset.zip((test_features_dataset, test_labels_dataset))\n",
        "\n",
        "# Batch and prefetching\n"
      ],
      "metadata": {
        "id": "4xZrNvOu3DCJ"
      },
      "execution_count": null,
      "outputs": []
    },
    {
      "cell_type": "code",
      "source": [],
      "metadata": {
        "id": "8pZpsVj17nNe"
      },
      "execution_count": null,
      "outputs": []
    }
  ]
}